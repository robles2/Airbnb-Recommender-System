{
 "cells": [
  {
   "cell_type": "markdown",
   "metadata": {},
   "source": [
    "# Airbnb Recommender System - Preprocessing & Modeling\n",
    "\n",
    "## Introduction\n",
    "\n",
    "In the previous stages of work we cleaned a European dataset and prepared it for EDA analysis, in the EDA analysis we answered some questions about **city features** and **residences features**.\n",
    "\n",
    "In relation with **city features** we observed that there were very significant differences in terms of total cost of living and Local purchasing power between cities, also there were significant differences in terms of pollution, amenities, social culture and population. All the features analyzed allowed in some way or another to make at least 2 clusters of cities.\n",
    "\n",
    "In relation with the **residences features** we observed that price was a good feature to cluster cities in up to 3 different groups, such as low price cities, average price cities and expensive cities. Also, we identified that the number of beds, bedrooms and accommodates was not a very good way of creating clusters, as most cities have a similar distribution of these features. Lastly, regarding ratings of residences, we observed that most residences had very similar and high ratings, all in between 85/100 scale or 9/10 scale, which make it difficult ot cluster them.\n",
    "\n",
    "Therefore, we will focus in our recommender system work in the city features as the main way to create clusters of cities. This will probably be the main driver of our recommendations to users. Once that the users have been recommended a city, based on different city features, we will then sort out the most similar residences in terms of residence features to them.\n",
    "\n",
    "By doing this, the host will be able to select which features they prefer to rely on in terms of being recommended a city. As an example, two cities can be recommended, one with similar city amenities and other with similar city pollution. Each host will then be able to see different residences being recommended under each of these features. By doing this we give more freedom of choice to the user in term of selecting what features are relevant or not to them.\n",
    "\n",
    "## Scope of work\n",
    "\n",
    "The scope of this work is to start with a clean dataset of residences features and city features, merge it and apply and test different algorithms to the set in order to define the most similar residences. As a result of this, we expect to identify the best algorithm and proceed to move to the modelling stage of the project to visualize the results.\n"
   ]
  },
  {
   "cell_type": "markdown",
   "metadata": {},
   "source": [
    "## Import libraries"
   ]
  },
  {
   "cell_type": "code",
   "execution_count": 133,
   "metadata": {
    "scrolled": true
   },
   "outputs": [],
   "source": [
    "import pandas as pd\n",
    "import numpy as np\n",
    "import seaborn as sns\n",
    "import matplotlib.pyplot as plt\n",
    "sns.set()\n",
    "from sklearn.cluster import KMeans\n",
    "from sklearn import preprocessing\n",
    "from sklearn.preprocessing import StandardScaler\n",
    "from kmodes.kmodes import KModes\n",
    "from kmodes.kprototypes import KPrototypes\n",
    "from dataclasses import make_dataclass\n",
    "from sklearn.model_selection import cross_val_score\n",
    "import lightgbm as lgb\n",
    "from lightgbm import LGBMModel,LGBMClassifier\n",
    "import shap\n",
    "import scipy"
   ]
  },
  {
   "cell_type": "markdown",
   "metadata": {},
   "source": [
    "## Load Files"
   ]
  },
  {
   "cell_type": "code",
   "execution_count": 212,
   "metadata": {},
   "outputs": [],
   "source": [
    "#dataframe with residences and feature/host residences\n",
    "df = pd.read_csv(r'C:\\Users\\34658\\SPRINGBOARD\\Airbnb Recommender System - Capstone Project\\Notebooks\\Data\\residences\\dataset_final.csv')\n",
    "url = pd.read_csv(r'C:\\Users\\34658\\SPRINGBOARD\\Airbnb Recommender System - Capstone Project\\Notebooks\\Data\\residences\\final_info.csv')\n",
    "#dataframes with cities features\n",
    "economy = pd.read_csv(r'C:\\Users\\34658\\SPRINGBOARD\\Airbnb Recommender System - Capstone Project\\Notebooks\\Data\\residences\\economic.csv')\n",
    "crime = pd.read_csv(r'C:\\Users\\34658\\SPRINGBOARD\\Airbnb Recommender System - Capstone Project\\Notebooks\\Data\\residences\\crime.csv')\n",
    "amenities = pd.read_csv(r'C:\\Users\\34658\\SPRINGBOARD\\Airbnb Recommender System - Capstone Project\\Notebooks\\Data\\residences\\amenities.csv')\n",
    "hostility = pd.read_csv(r'C:\\Users\\34658\\SPRINGBOARD\\Airbnb Recommender System - Capstone Project\\Notebooks\\Data\\residences\\hostility.csv')\n",
    "pollution = pd.read_csv(r'C:\\Users\\34658\\SPRINGBOARD\\Airbnb Recommender System - Capstone Project\\Notebooks\\Data\\residences\\pollution.csv')\n",
    "pop_fem = pd.read_csv(r'C:\\Users\\34658\\SPRINGBOARD\\Airbnb Recommender System - Capstone Project\\Notebooks\\Data\\residences\\population female.csv')\n",
    "pop_male = pd.read_csv(r'C:\\Users\\34658\\SPRINGBOARD\\Airbnb Recommender System - Capstone Project\\Notebooks\\Data\\residences\\population male.csv')\n",
    "pop = pd.read_csv(r'C:\\Users\\34658\\SPRINGBOARD\\Airbnb Recommender System - Capstone Project\\Notebooks\\Data\\residences\\population.csv')\n",
    "rat_fem = pd.read_csv(r'C:\\Users\\34658\\SPRINGBOARD\\Airbnb Recommender System - Capstone Project\\Notebooks\\Data\\residences\\ratio female.csv')\n",
    "rat_male = pd.read_csv(r'C:\\Users\\34658\\SPRINGBOARD\\Airbnb Recommender System - Capstone Project\\Notebooks\\Data\\residences\\ratio male.csv')"
   ]
  },
  {
   "cell_type": "code",
   "execution_count": 213,
   "metadata": {},
   "outputs": [],
   "source": [
    "#convert values of dkk and  pounds to euros in Copenhagen and London\n",
    "#Covert the Copenhagen residences to euros from Danish Crown (1 euro = 0.13 DKK)\n",
    "df['Price'] = np.where(df['City'] == 'Copenhagen', df['Price']*0.13, df['Price'])\n",
    "df['Weekly Price'] = np.where(df['City'] == 'Copenhagen', df['Weekly Price']*0.13, df['Weekly Price'])\n",
    "df['Monthly Price'] = np.where(df['City'] == 'Copenhagen', df['Monthly Price']*0.13, df['Monthly Price'])\n",
    "\n",
    "df['Security Deposit'] = np.where(((df['City'] == 'Copenhagen') & (df['Security Deposit'] != 0)), df['Security Deposit']*0.13, df['Security Deposit'])\n",
    "df['Cleaning Fee'] = np.where(((df['City'] == 'Copenhagen') & (df['Cleaning Fee'] != 0)), df['Cleaning Fee']*0.13, df['Cleaning Fee'])\n",
    "df['Extra People'] = np.where(((df['City'] == 'Copenhagen') & (df['Extra People'] != 0)), df['Extra People']*0.13, df['Extra People'])\n",
    "\n",
    "#Convert the London residences to euros from Pounds (1 euro = 0.86 Pound)\n",
    "df['Price'] = np.where(df['City'] == 'London', df['Price']/0.86, df['Price'])\n",
    "df['Weekly Price'] = np.where(df['City'] == 'London', df['Weekly Price']/0.86, df['Weekly Price'])\n",
    "df['Monthly Price'] = np.where(df['City'] == 'London', df['Monthly Price']/0.86, df['Monthly Price'])\n",
    "\n",
    "df['Security Deposit'] = np.where(((df['City'] == 'London') & (df['Security Deposit'] != 0)), df['Security Deposit']/0.86, df['Security Deposit'])\n",
    "df['Cleaning Fee'] = np.where(((df['City'] == 'London') & (df['Cleaning Fee'] != 0)), df['Cleaning Fee']/0.86, df['Cleaning Fee'])\n",
    "df['Extra People'] = np.where(((df['City'] == 'London') & (df['Extra People'] != 0)), df['Extra People']/0.86, df['Extra People'])"
   ]
  },
  {
   "cell_type": "code",
   "execution_count": 214,
   "metadata": {
    "scrolled": true
   },
   "outputs": [],
   "source": [
    "##add additional column with total price = price + cleaning fee\n",
    "df['total_price_day'] = df['Price'] + df['Cleaning Fee']\n",
    "df['total_price_week'] = df['Weekly Price'] + df['Cleaning Fee']\n",
    "df['total_price_month'] = df['Monthly Price'] + df['Cleaning Fee']"
   ]
  },
  {
   "cell_type": "code",
   "execution_count": 215,
   "metadata": {
    "scrolled": true
   },
   "outputs": [
    {
     "data": {
      "text/plain": [
       "Index(['ID', 'Host ID', 'Name', 'Summary', 'Description', 'Country', 'City',\n",
       "       'Property Type', 'Room Type', 'Accommodates', 'Bathrooms', 'Bedrooms',\n",
       "       'Beds', 'Bed Type', 'Host pic', 'Host verified', 'Host superhost',\n",
       "       'Instant book', 'Req guest phone', 'Req guest pic', 'Req license',\n",
       "       'First Review', 'Last Review', 'Number of Reviews',\n",
       "       'Review Scores Rating', 'Review Scores Accuracy',\n",
       "       'Review Scores Cleanliness', 'Review Scores Checkin',\n",
       "       'Review Scores Communication', 'Review Scores Location',\n",
       "       'Review Scores Value', 'Reviews per Month', 'Age', 'Price',\n",
       "       'Weekly Price', 'Monthly Price', 'Security Deposit', 'Cleaning Fee',\n",
       "       'Guests Included', 'Extra People', 'Cancellation Policy',\n",
       "       'country_city', 'total_price_day', 'total_price_week',\n",
       "       'total_price_month'],\n",
       "      dtype='object')"
      ]
     },
     "execution_count": 215,
     "metadata": {},
     "output_type": "execute_result"
    }
   ],
   "source": [
    "df.columns"
   ]
  },
  {
   "cell_type": "code",
   "execution_count": 216,
   "metadata": {},
   "outputs": [],
   "source": [
    "#for final recommender list\n",
    "url_final = url[['ID','Listing Url','Host URL']]"
   ]
  },
  {
   "cell_type": "code",
   "execution_count": 6,
   "metadata": {},
   "outputs": [
    {
     "data": {
      "text/plain": [
       "ID                               int64\n",
       "Host ID                          int64\n",
       "Name                            object\n",
       "Summary                         object\n",
       "Description                     object\n",
       "Country                         object\n",
       "City                            object\n",
       "Property Type                   object\n",
       "Room Type                       object\n",
       "Accommodates                   float64\n",
       "Bathrooms                      float64\n",
       "Bedrooms                       float64\n",
       "Beds                           float64\n",
       "Bed Type                        object\n",
       "Host pic                         int64\n",
       "Host verified                    int64\n",
       "Host superhost                   int64\n",
       "Instant book                     int64\n",
       "Req guest phone                  int64\n",
       "Req guest pic                    int64\n",
       "Req license                      int64\n",
       "First Review                    object\n",
       "Last Review                     object\n",
       "Number of Reviews              float64\n",
       "Review Scores Rating           float64\n",
       "Review Scores Accuracy         float64\n",
       "Review Scores Cleanliness      float64\n",
       "Review Scores Checkin          float64\n",
       "Review Scores Communication    float64\n",
       "Review Scores Location         float64\n",
       "Review Scores Value            float64\n",
       "Reviews per Month              float64\n",
       "Age                             object\n",
       "Price                          float64\n",
       "Weekly Price                   float64\n",
       "Monthly Price                  float64\n",
       "Security Deposit               float64\n",
       "Cleaning Fee                   float64\n",
       "Guests Included                float64\n",
       "Extra People                   float64\n",
       "Cancellation Policy             object\n",
       "country_city                    object\n",
       "total_price_day                float64\n",
       "total_price_week               float64\n",
       "total_price_month              float64\n",
       "dtype: object"
      ]
     },
     "execution_count": 6,
     "metadata": {},
     "output_type": "execute_result"
    }
   ],
   "source": [
    "df.dtypes"
   ]
  },
  {
   "cell_type": "code",
   "execution_count": 7,
   "metadata": {},
   "outputs": [],
   "source": [
    "#convert string columns to string\n",
    "df[['Name', 'Summary', 'Description','Country','City','Age']] = df[['Name', 'Summary', 'Description','Country','City','Age']].astype('string')\n",
    "df[['Property Type','Room Type','Bed Type','Cancellation Policy','Host pic', 'Host verified', 'Host superhost',\n",
    "       'Instant book', 'Req guest phone', 'Req guest pic', 'Req license']] = df[['Property Type','Room Type','Bed Type','Cancellation Policy','Host pic', 'Host verified', 'Host superhost',\n",
    "       'Instant book', 'Req guest phone', 'Req guest pic', 'Req license']].astype('category')\n",
    "#make age column an integer\n",
    "df['Age'] = df['Age'].str.replace(' days', '')\n",
    "df[['Age']] = df[['Age']].astype('int')\n",
    "#drop some columns\n",
    "df.drop(columns=['First Review','Last Review','country_city'],inplace=True)"
   ]
  },
  {
   "cell_type": "code",
   "execution_count": 8,
   "metadata": {
    "scrolled": true
   },
   "outputs": [],
   "source": [
    "df.set_index('ID', inplace=True)"
   ]
  },
  {
   "cell_type": "code",
   "execution_count": 9,
   "metadata": {},
   "outputs": [
    {
     "data": {
      "text/plain": [
       "Index(['Host ID', 'Name', 'Summary', 'Description', 'Country', 'City',\n",
       "       'Property Type', 'Room Type', 'Accommodates', 'Bathrooms', 'Bedrooms',\n",
       "       'Beds', 'Bed Type', 'Host pic', 'Host verified', 'Host superhost',\n",
       "       'Instant book', 'Req guest phone', 'Req guest pic', 'Req license',\n",
       "       'Number of Reviews', 'Review Scores Rating', 'Review Scores Accuracy',\n",
       "       'Review Scores Cleanliness', 'Review Scores Checkin',\n",
       "       'Review Scores Communication', 'Review Scores Location',\n",
       "       'Review Scores Value', 'Reviews per Month', 'Age', 'Price',\n",
       "       'Weekly Price', 'Monthly Price', 'Security Deposit', 'Cleaning Fee',\n",
       "       'Guests Included', 'Extra People', 'Cancellation Policy',\n",
       "       'total_price_day', 'total_price_week', 'total_price_month'],\n",
       "      dtype='object')"
      ]
     },
     "execution_count": 9,
     "metadata": {},
     "output_type": "execute_result"
    }
   ],
   "source": [
    "df.columns"
   ]
  },
  {
   "cell_type": "code",
   "execution_count": 10,
   "metadata": {},
   "outputs": [],
   "source": [
    "#for this prototype we are going to drop some columns. In future upgrades we will add them\n",
    "df_preprocessing = df.drop(columns=['Host ID', 'Name', 'Summary', 'Description', 'Country', 'City', 'Review Scores Accuracy',\n",
    "       'Review Scores Cleanliness', 'Review Scores Checkin',\n",
    "       'Review Scores Communication', 'Review Scores Location',\n",
    "       'Review Scores Value', 'Reviews per Month', 'Age', 'Price',\n",
    "       'Weekly Price', 'Monthly Price', 'Security Deposit', 'Cleaning Fee',\n",
    "    'Extra People', 'Cancellation Policy',], axis= 1)"
   ]
  },
  {
   "cell_type": "code",
   "execution_count": 11,
   "metadata": {
    "scrolled": false
   },
   "outputs": [
    {
     "data": {
      "text/html": [
       "<div>\n",
       "<style scoped>\n",
       "    .dataframe tbody tr th:only-of-type {\n",
       "        vertical-align: middle;\n",
       "    }\n",
       "\n",
       "    .dataframe tbody tr th {\n",
       "        vertical-align: top;\n",
       "    }\n",
       "\n",
       "    .dataframe thead th {\n",
       "        text-align: right;\n",
       "    }\n",
       "</style>\n",
       "<table border=\"1\" class=\"dataframe\">\n",
       "  <thead>\n",
       "    <tr style=\"text-align: right;\">\n",
       "      <th></th>\n",
       "      <th>Property Type</th>\n",
       "      <th>Room Type</th>\n",
       "      <th>Accommodates</th>\n",
       "      <th>Bathrooms</th>\n",
       "      <th>Bedrooms</th>\n",
       "      <th>Beds</th>\n",
       "      <th>Bed Type</th>\n",
       "      <th>Host pic</th>\n",
       "      <th>Host verified</th>\n",
       "      <th>Host superhost</th>\n",
       "      <th>Instant book</th>\n",
       "      <th>Req guest phone</th>\n",
       "      <th>Req guest pic</th>\n",
       "      <th>Req license</th>\n",
       "      <th>Number of Reviews</th>\n",
       "      <th>Review Scores Rating</th>\n",
       "      <th>Guests Included</th>\n",
       "      <th>total_price_day</th>\n",
       "      <th>total_price_week</th>\n",
       "      <th>total_price_month</th>\n",
       "    </tr>\n",
       "    <tr>\n",
       "      <th>ID</th>\n",
       "      <th></th>\n",
       "      <th></th>\n",
       "      <th></th>\n",
       "      <th></th>\n",
       "      <th></th>\n",
       "      <th></th>\n",
       "      <th></th>\n",
       "      <th></th>\n",
       "      <th></th>\n",
       "      <th></th>\n",
       "      <th></th>\n",
       "      <th></th>\n",
       "      <th></th>\n",
       "      <th></th>\n",
       "      <th></th>\n",
       "      <th></th>\n",
       "      <th></th>\n",
       "      <th></th>\n",
       "      <th></th>\n",
       "      <th></th>\n",
       "    </tr>\n",
       "  </thead>\n",
       "  <tbody>\n",
       "    <tr>\n",
       "      <th>15802051</th>\n",
       "      <td>House</td>\n",
       "      <td>Private room</td>\n",
       "      <td>2.0</td>\n",
       "      <td>1.0</td>\n",
       "      <td>2.0</td>\n",
       "      <td>2.0</td>\n",
       "      <td>Real Bed</td>\n",
       "      <td>1</td>\n",
       "      <td>0</td>\n",
       "      <td>0</td>\n",
       "      <td>0</td>\n",
       "      <td>0</td>\n",
       "      <td>0</td>\n",
       "      <td>0</td>\n",
       "      <td>3.0</td>\n",
       "      <td>93.0</td>\n",
       "      <td>1.0</td>\n",
       "      <td>51.162791</td>\n",
       "      <td>358.139535</td>\n",
       "      <td>1534.883721</td>\n",
       "    </tr>\n",
       "    <tr>\n",
       "      <th>14751869</th>\n",
       "      <td>House</td>\n",
       "      <td>Entire home/apt</td>\n",
       "      <td>8.0</td>\n",
       "      <td>1.5</td>\n",
       "      <td>4.0</td>\n",
       "      <td>4.0</td>\n",
       "      <td>Real Bed</td>\n",
       "      <td>1</td>\n",
       "      <td>1</td>\n",
       "      <td>1</td>\n",
       "      <td>1</td>\n",
       "      <td>0</td>\n",
       "      <td>0</td>\n",
       "      <td>0</td>\n",
       "      <td>21.0</td>\n",
       "      <td>95.0</td>\n",
       "      <td>1.0</td>\n",
       "      <td>237.209302</td>\n",
       "      <td>1206.976744</td>\n",
       "      <td>4924.418605</td>\n",
       "    </tr>\n",
       "    <tr>\n",
       "      <th>8901485</th>\n",
       "      <td>Apartment</td>\n",
       "      <td>Private room</td>\n",
       "      <td>2.0</td>\n",
       "      <td>1.0</td>\n",
       "      <td>1.0</td>\n",
       "      <td>1.0</td>\n",
       "      <td>Real Bed</td>\n",
       "      <td>1</td>\n",
       "      <td>1</td>\n",
       "      <td>0</td>\n",
       "      <td>0</td>\n",
       "      <td>0</td>\n",
       "      <td>0</td>\n",
       "      <td>0</td>\n",
       "      <td>0.0</td>\n",
       "      <td>0.0</td>\n",
       "      <td>1.0</td>\n",
       "      <td>81.395349</td>\n",
       "      <td>569.767442</td>\n",
       "      <td>2441.860465</td>\n",
       "    </tr>\n",
       "    <tr>\n",
       "      <th>5832248</th>\n",
       "      <td>Apartment</td>\n",
       "      <td>Entire home/apt</td>\n",
       "      <td>6.0</td>\n",
       "      <td>1.0</td>\n",
       "      <td>2.0</td>\n",
       "      <td>4.0</td>\n",
       "      <td>Real Bed</td>\n",
       "      <td>1</td>\n",
       "      <td>0</td>\n",
       "      <td>0</td>\n",
       "      <td>0</td>\n",
       "      <td>0</td>\n",
       "      <td>0</td>\n",
       "      <td>0</td>\n",
       "      <td>2.0</td>\n",
       "      <td>100.0</td>\n",
       "      <td>1.0</td>\n",
       "      <td>110.465116</td>\n",
       "      <td>598.837209</td>\n",
       "      <td>2470.930233</td>\n",
       "    </tr>\n",
       "    <tr>\n",
       "      <th>8049784</th>\n",
       "      <td>House</td>\n",
       "      <td>Private room</td>\n",
       "      <td>2.0</td>\n",
       "      <td>1.0</td>\n",
       "      <td>1.0</td>\n",
       "      <td>1.0</td>\n",
       "      <td>Real Bed</td>\n",
       "      <td>1</td>\n",
       "      <td>0</td>\n",
       "      <td>0</td>\n",
       "      <td>0</td>\n",
       "      <td>0</td>\n",
       "      <td>0</td>\n",
       "      <td>0</td>\n",
       "      <td>3.0</td>\n",
       "      <td>93.0</td>\n",
       "      <td>1.0</td>\n",
       "      <td>29.069767</td>\n",
       "      <td>203.488372</td>\n",
       "      <td>872.093023</td>\n",
       "    </tr>\n",
       "    <tr>\n",
       "      <th>...</th>\n",
       "      <td>...</td>\n",
       "      <td>...</td>\n",
       "      <td>...</td>\n",
       "      <td>...</td>\n",
       "      <td>...</td>\n",
       "      <td>...</td>\n",
       "      <td>...</td>\n",
       "      <td>...</td>\n",
       "      <td>...</td>\n",
       "      <td>...</td>\n",
       "      <td>...</td>\n",
       "      <td>...</td>\n",
       "      <td>...</td>\n",
       "      <td>...</td>\n",
       "      <td>...</td>\n",
       "      <td>...</td>\n",
       "      <td>...</td>\n",
       "      <td>...</td>\n",
       "      <td>...</td>\n",
       "      <td>...</td>\n",
       "    </tr>\n",
       "    <tr>\n",
       "      <th>2610162</th>\n",
       "      <td>Apartment</td>\n",
       "      <td>Entire home/apt</td>\n",
       "      <td>2.0</td>\n",
       "      <td>1.0</td>\n",
       "      <td>1.0</td>\n",
       "      <td>2.0</td>\n",
       "      <td>Real Bed</td>\n",
       "      <td>1</td>\n",
       "      <td>1</td>\n",
       "      <td>0</td>\n",
       "      <td>0</td>\n",
       "      <td>0</td>\n",
       "      <td>0</td>\n",
       "      <td>0</td>\n",
       "      <td>14.0</td>\n",
       "      <td>85.0</td>\n",
       "      <td>1.0</td>\n",
       "      <td>80.000000</td>\n",
       "      <td>462.000000</td>\n",
       "      <td>1613.000000</td>\n",
       "    </tr>\n",
       "    <tr>\n",
       "      <th>13760682</th>\n",
       "      <td>Apartment</td>\n",
       "      <td>Entire home/apt</td>\n",
       "      <td>5.0</td>\n",
       "      <td>2.5</td>\n",
       "      <td>2.0</td>\n",
       "      <td>3.0</td>\n",
       "      <td>Real Bed</td>\n",
       "      <td>1</td>\n",
       "      <td>1</td>\n",
       "      <td>0</td>\n",
       "      <td>0</td>\n",
       "      <td>0</td>\n",
       "      <td>0</td>\n",
       "      <td>0</td>\n",
       "      <td>4.0</td>\n",
       "      <td>100.0</td>\n",
       "      <td>4.0</td>\n",
       "      <td>500.000000</td>\n",
       "      <td>2900.000000</td>\n",
       "      <td>12100.000000</td>\n",
       "    </tr>\n",
       "    <tr>\n",
       "      <th>9173969</th>\n",
       "      <td>Apartment</td>\n",
       "      <td>Shared room</td>\n",
       "      <td>1.0</td>\n",
       "      <td>0.5</td>\n",
       "      <td>1.0</td>\n",
       "      <td>1.0</td>\n",
       "      <td>Real Bed</td>\n",
       "      <td>1</td>\n",
       "      <td>0</td>\n",
       "      <td>0</td>\n",
       "      <td>0</td>\n",
       "      <td>0</td>\n",
       "      <td>0</td>\n",
       "      <td>0</td>\n",
       "      <td>0.0</td>\n",
       "      <td>0.0</td>\n",
       "      <td>1.0</td>\n",
       "      <td>0.000000</td>\n",
       "      <td>0.000000</td>\n",
       "      <td>0.000000</td>\n",
       "    </tr>\n",
       "    <tr>\n",
       "      <th>13754942</th>\n",
       "      <td>Apartment</td>\n",
       "      <td>Entire home/apt</td>\n",
       "      <td>3.0</td>\n",
       "      <td>1.0</td>\n",
       "      <td>2.0</td>\n",
       "      <td>3.0</td>\n",
       "      <td>Real Bed</td>\n",
       "      <td>1</td>\n",
       "      <td>0</td>\n",
       "      <td>0</td>\n",
       "      <td>0</td>\n",
       "      <td>0</td>\n",
       "      <td>0</td>\n",
       "      <td>0</td>\n",
       "      <td>3.0</td>\n",
       "      <td>100.0</td>\n",
       "      <td>1.0</td>\n",
       "      <td>135.000000</td>\n",
       "      <td>729.000000</td>\n",
       "      <td>3006.000000</td>\n",
       "    </tr>\n",
       "    <tr>\n",
       "      <th>8642835</th>\n",
       "      <td>Apartment</td>\n",
       "      <td>Private room</td>\n",
       "      <td>2.0</td>\n",
       "      <td>1.5</td>\n",
       "      <td>1.0</td>\n",
       "      <td>1.0</td>\n",
       "      <td>Real Bed</td>\n",
       "      <td>1</td>\n",
       "      <td>1</td>\n",
       "      <td>0</td>\n",
       "      <td>0</td>\n",
       "      <td>0</td>\n",
       "      <td>0</td>\n",
       "      <td>0</td>\n",
       "      <td>1.0</td>\n",
       "      <td>100.0</td>\n",
       "      <td>1.0</td>\n",
       "      <td>79.000000</td>\n",
       "      <td>313.000000</td>\n",
       "      <td>1210.000000</td>\n",
       "    </tr>\n",
       "  </tbody>\n",
       "</table>\n",
       "<p>237059 rows × 20 columns</p>\n",
       "</div>"
      ],
      "text/plain": [
       "         Property Type        Room Type  Accommodates  Bathrooms  Bedrooms  \\\n",
       "ID                                                                           \n",
       "15802051         House     Private room           2.0        1.0       2.0   \n",
       "14751869         House  Entire home/apt           8.0        1.5       4.0   \n",
       "8901485      Apartment     Private room           2.0        1.0       1.0   \n",
       "5832248      Apartment  Entire home/apt           6.0        1.0       2.0   \n",
       "8049784          House     Private room           2.0        1.0       1.0   \n",
       "...                ...              ...           ...        ...       ...   \n",
       "2610162      Apartment  Entire home/apt           2.0        1.0       1.0   \n",
       "13760682     Apartment  Entire home/apt           5.0        2.5       2.0   \n",
       "9173969      Apartment      Shared room           1.0        0.5       1.0   \n",
       "13754942     Apartment  Entire home/apt           3.0        1.0       2.0   \n",
       "8642835      Apartment     Private room           2.0        1.5       1.0   \n",
       "\n",
       "          Beds  Bed Type Host pic Host verified Host superhost Instant book  \\\n",
       "ID                                                                            \n",
       "15802051   2.0  Real Bed        1             0              0            0   \n",
       "14751869   4.0  Real Bed        1             1              1            1   \n",
       "8901485    1.0  Real Bed        1             1              0            0   \n",
       "5832248    4.0  Real Bed        1             0              0            0   \n",
       "8049784    1.0  Real Bed        1             0              0            0   \n",
       "...        ...       ...      ...           ...            ...          ...   \n",
       "2610162    2.0  Real Bed        1             1              0            0   \n",
       "13760682   3.0  Real Bed        1             1              0            0   \n",
       "9173969    1.0  Real Bed        1             0              0            0   \n",
       "13754942   3.0  Real Bed        1             0              0            0   \n",
       "8642835    1.0  Real Bed        1             1              0            0   \n",
       "\n",
       "         Req guest phone Req guest pic Req license  Number of Reviews  \\\n",
       "ID                                                                      \n",
       "15802051               0             0           0                3.0   \n",
       "14751869               0             0           0               21.0   \n",
       "8901485                0             0           0                0.0   \n",
       "5832248                0             0           0                2.0   \n",
       "8049784                0             0           0                3.0   \n",
       "...                  ...           ...         ...                ...   \n",
       "2610162                0             0           0               14.0   \n",
       "13760682               0             0           0                4.0   \n",
       "9173969                0             0           0                0.0   \n",
       "13754942               0             0           0                3.0   \n",
       "8642835                0             0           0                1.0   \n",
       "\n",
       "          Review Scores Rating  Guests Included  total_price_day  \\\n",
       "ID                                                                 \n",
       "15802051                  93.0              1.0        51.162791   \n",
       "14751869                  95.0              1.0       237.209302   \n",
       "8901485                    0.0              1.0        81.395349   \n",
       "5832248                  100.0              1.0       110.465116   \n",
       "8049784                   93.0              1.0        29.069767   \n",
       "...                        ...              ...              ...   \n",
       "2610162                   85.0              1.0        80.000000   \n",
       "13760682                 100.0              4.0       500.000000   \n",
       "9173969                    0.0              1.0         0.000000   \n",
       "13754942                 100.0              1.0       135.000000   \n",
       "8642835                  100.0              1.0        79.000000   \n",
       "\n",
       "          total_price_week  total_price_month  \n",
       "ID                                             \n",
       "15802051        358.139535        1534.883721  \n",
       "14751869       1206.976744        4924.418605  \n",
       "8901485         569.767442        2441.860465  \n",
       "5832248         598.837209        2470.930233  \n",
       "8049784         203.488372         872.093023  \n",
       "...                    ...                ...  \n",
       "2610162         462.000000        1613.000000  \n",
       "13760682       2900.000000       12100.000000  \n",
       "9173969           0.000000           0.000000  \n",
       "13754942        729.000000        3006.000000  \n",
       "8642835         313.000000        1210.000000  \n",
       "\n",
       "[237059 rows x 20 columns]"
      ]
     },
     "execution_count": 11,
     "metadata": {},
     "output_type": "execute_result"
    }
   ],
   "source": [
    "df_preprocessing"
   ]
  },
  {
   "cell_type": "code",
   "execution_count": 12,
   "metadata": {},
   "outputs": [
    {
     "name": "stderr",
     "output_type": "stream",
     "text": [
      "C:\\Users\\34658\\Anaconda3\\lib\\site-packages\\ipykernel_launcher.py:1: FutureWarning: Passing a negative integer is deprecated in version 1.0 and will not be supported in future version. Instead, use None to not limit the column width.\n",
      "  \"\"\"Entry point for launching an IPython kernel.\n"
     ]
    }
   ],
   "source": [
    "pd.set_option('display.max_colwidth', -1)"
   ]
  },
  {
   "cell_type": "code",
   "execution_count": 13,
   "metadata": {
    "scrolled": true
   },
   "outputs": [
    {
     "name": "stdout",
     "output_type": "stream",
     "text": [
      "['House', 'Apartment', 'Other', 'Hostel', 'Cabin', 'Townhouse', 'Bed & Breakfast', 'Dorm', 'Loft', 'Condominium', 'Boutique hotel', 'Guesthouse', 'Boat', 'Serviced apartment', 'Ryokan (Japan)', 'Villa', 'Tent', 'Tipi', 'Bungalow', 'Castle', 'Chalet', 'Timeshare', 'Island', 'Camper/RV', 'Hut', 'Lighthouse', 'Guest suite', 'In-law', 'Cave', 'Yurt', 'Treehouse', 'Vacation home', 'Earth House', 'Casa particular', 'Nature lodge', 'Train', 'Igloo', 'Parking Space', 'Car', 'Pension (Korea)']\n"
     ]
    }
   ],
   "source": [
    "print(list(df_preprocessing['Property Type'].unique()))"
   ]
  },
  {
   "cell_type": "code",
   "execution_count": 14,
   "metadata": {},
   "outputs": [
    {
     "name": "stdout",
     "output_type": "stream",
     "text": [
      "['Private room', 'Entire home/apt', 'Shared room']\n"
     ]
    }
   ],
   "source": [
    "print(list(df_preprocessing['Room Type'].unique()))"
   ]
  },
  {
   "cell_type": "code",
   "execution_count": 15,
   "metadata": {},
   "outputs": [
    {
     "name": "stdout",
     "output_type": "stream",
     "text": [
      "['Real Bed', 'Couch', 'Pull-out Sofa', 'Futon', 'Airbed']\n"
     ]
    }
   ],
   "source": [
    "print(list(df_preprocessing['Bed Type'].unique()))"
   ]
  },
  {
   "cell_type": "code",
   "execution_count": 16,
   "metadata": {},
   "outputs": [
    {
     "name": "stdout",
     "output_type": "stream",
     "text": [
      "['strict', 'moderate', 'flexible', 'super_strict_60', 'super_strict_30', 'strict_new', 'flexible_new', 'moderate_new', 'super_strict_60_new', 'super_strict_30_new', 'no_refunds']\n"
     ]
    }
   ],
   "source": [
    "print(list(df['Cancellation Policy'].unique()))"
   ]
  },
  {
   "cell_type": "code",
   "execution_count": 17,
   "metadata": {
    "scrolled": false
   },
   "outputs": [
    {
     "data": {
      "text/plain": [
       "Property Type           category\n",
       "Room Type               category\n",
       "Accommodates            float64 \n",
       "Bathrooms               float64 \n",
       "Bedrooms                float64 \n",
       "Beds                    float64 \n",
       "Bed Type                category\n",
       "Host pic                category\n",
       "Host verified           category\n",
       "Host superhost          category\n",
       "Instant book            category\n",
       "Req guest phone         category\n",
       "Req guest pic           category\n",
       "Req license             category\n",
       "Number of Reviews       float64 \n",
       "Review Scores Rating    float64 \n",
       "Guests Included         float64 \n",
       "total_price_day         float64 \n",
       "total_price_week        float64 \n",
       "total_price_month       float64 \n",
       "dtype: object"
      ]
     },
     "execution_count": 17,
     "metadata": {},
     "output_type": "execute_result"
    }
   ],
   "source": [
    "df_preprocessing.dtypes"
   ]
  },
  {
   "cell_type": "code",
   "execution_count": 18,
   "metadata": {},
   "outputs": [],
   "source": [
    "#drop additional column in cities\n",
    "economy.drop('Unnamed: 0', inplace=True, axis=1)\n",
    "crime.drop('Unnamed: 0', inplace=True, axis=1)\n",
    "amenities.drop('Unnamed: 0', inplace=True, axis=1)\n",
    "hostility.drop('Unnamed: 0', inplace=True, axis=1)\n",
    "pollution.drop('Unnamed: 0', inplace=True, axis=1)\n",
    "pop.drop('Unnamed: 0', inplace=True, axis=1)"
   ]
  },
  {
   "cell_type": "code",
   "execution_count": 19,
   "metadata": {
    "scrolled": true
   },
   "outputs": [],
   "source": [
    "#sort values by City\n",
    "economy.sort_values('City', inplace=True)\n",
    "crime.sort_values('City', inplace=True)\n",
    "amenities.sort_values('City', inplace=True)\n",
    "hostility.sort_values('City', inplace=True)\n",
    "pollution.sort_values('City', inplace=True)"
   ]
  },
  {
   "cell_type": "code",
   "execution_count": 20,
   "metadata": {
    "scrolled": true
   },
   "outputs": [],
   "source": [
    "#set of indexes to cities\n",
    "economy.set_index('City', inplace=True)\n",
    "crime.set_index('City', inplace=True)\n",
    "amenities.set_index('City', inplace=True)\n",
    "hostility.set_index('City', inplace=True)\n",
    "pollution.set_index('City', inplace=True)"
   ]
  },
  {
   "cell_type": "code",
   "execution_count": 21,
   "metadata": {
    "scrolled": false
   },
   "outputs": [],
   "source": [
    "#normalization of economy features\n",
    "normalized_df=(economy-economy.min())/(economy.max()-economy.min())\n",
    "economy_norm = normalized_df"
   ]
  },
  {
   "cell_type": "code",
   "execution_count": 22,
   "metadata": {
    "scrolled": true
   },
   "outputs": [],
   "source": [
    "#normalization of crime and safety indexes\n",
    "normalized_df=(crime-crime.min())/(crime.max()-crime.min())\n",
    "crime_norm = normalized_df"
   ]
  },
  {
   "cell_type": "code",
   "execution_count": 23,
   "metadata": {
    "scrolled": false
   },
   "outputs": [],
   "source": [
    "#normalization of pollution indexes\n",
    "pollution2 = pollution.iloc[:,[3,4]]\n",
    "normalized_df=(pollution2-pollution2.min())/(pollution2.max()-pollution2.min())\n",
    "pollution_norm = normalized_df\n",
    "pollution_final = pd.concat([pollution, pollution_norm],axis=1)\n",
    "pollution_final = pollution_final.iloc[:,[0,1,2,5,6]]"
   ]
  },
  {
   "cell_type": "code",
   "execution_count": 24,
   "metadata": {},
   "outputs": [],
   "source": [
    "#create a single dataframe of city features\n",
    "city_features = pd.concat([economy_norm,crime_norm,pollution_final,hostility, amenities], axis=1)"
   ]
  },
  {
   "cell_type": "markdown",
   "metadata": {},
   "source": [
    "## Step 1 - Clustering cities based on city features similarity\n",
    "\n",
    "We will proceed to make clusters based on the selected city features. As an example, below is the representation of Cost of Living vs. Local Purchasing Power. If these two features were selected as relevant, these datapoints would be the input that we would use for the clustering.\n",
    "\n",
    "Bear in mind that the most features added, the more information clusters will consider, but also, as all city features weight the same, recommendations can be more misleading. (e.g. If user selects, cost of life, Purchasing power and sport amenities, the cluster of cities will consider as same importance the relative position of the city compared to others in those 3 spectrums and can recommend a city with very similar sport amenities but that is +20% more expensive in terms of cost of living)."
   ]
  },
  {
   "cell_type": "markdown",
   "metadata": {},
   "source": [
    "## Definition of city features"
   ]
  },
  {
   "cell_type": "code",
   "execution_count": 25,
   "metadata": {},
   "outputs": [],
   "source": [
    "## define metrics economy\n",
    "cost_life = 'Cost of Living Index'\n",
    "purch_power = 'Local Purchasing Power Index'\n",
    "cost_life_rent = 'Cost of Living Plus Rent Index'\n",
    "cost_groceries = 'Groceries Index'\n",
    "cost_restaurants = 'Restaurant Price Index'\n",
    "\n",
    "## define metrics crime\n",
    "crime_index = 'Crime Index'\n",
    "safety_index = 'Safety Index'\n",
    "\n",
    "## define metrics amenities\n",
    "public_tt = 'norm_score_pub_transport'\n",
    "green_places = 'norm_score_green_places'\n",
    "sports = 'norm_score_sports'\n",
    "cultural = 'norm_score_cultural'\n",
    "public_spaces = 'norm_score_public_spaces'\n",
    "\n",
    "## define metrics hostility\n",
    "general = 'score_norm_general'\n",
    "ethnic = 'score_norm_ethnic'\n",
    "gay = 'score_norm_gay'\n",
    "immigrants = 'score_norm_immigrants'\n",
    "young_fam = 'score_norm_young_families'\n",
    "elder = 'score_norm_elderly'\n",
    "\n",
    "## define metrics pollution\n",
    "air_pollution = 'air_score_norm'\n",
    "noise_pollution = 'noise_score_norm'\n",
    "cleanliness = 'clean_score_norm'"
   ]
  },
  {
   "cell_type": "markdown",
   "metadata": {},
   "source": [
    "## Inputs of the model\n",
    "### Input 1 of 4: Select your city\n",
    "Select your city:\n",
    "* 'Amsterdam', 'Antwerp', 'Athens', 'Barcelona', 'Berlin', 'Brussels',\n",
    "* 'Copenhagen', 'Dublin', 'Geneva', 'London', 'Madrid', 'Manchester',\n",
    "* 'Paris', 'Rome', 'Vienna'"
   ]
  },
  {
   "cell_type": "code",
   "execution_count": 26,
   "metadata": {},
   "outputs": [],
   "source": [
    "my_city = 'Amsterdam'"
   ]
  },
  {
   "cell_type": "markdown",
   "metadata": {},
   "source": [
    "### Input 2 of 4: Select your relevant city features\n",
    "Select the city features that you consider relevant. You can pick more than one city feature from the list below\n",
    "\n",
    "#### Economic city features\n",
    "* **cost_life** = find cities similar to yours in terms of **cost of living (excluded rent cost and mortgages)**.\n",
    "* **purch_power** = find cities similar to yours in terms of **average purchasing power** of individuals.\n",
    "* **cost_life_rent** = find cities similar to yours in terms of **total cost of living (rent and mortgages included)**\n",
    "* **cost_groceries** = find cities similar to yours in terms of the **cost of groceries**.\n",
    "* **cost_restaurants** = find cities similar to yours in terms of the **cost of restaurants and bars**.\n",
    "\n",
    "#### Crime and Safety city features\n",
    "* **crime_index** = finds cities similar to yours in terms of **crime rates**.\n",
    "* **safety_index** = finds cities similar to yours in terms of **safety rates**.\n",
    "\n",
    "#### Amenities city features\n",
    "* **public_tt** = find cities similar to yours in terms of **how satified locals are with public transport** in the city.\n",
    "* **green_places** = find cities similar to yours in terms of **how satified locals are with green areas and parks** in the city.\n",
    "* **sports** = find cities similar to yours in terms of **how satified locals are with sport amenities** in the city.\n",
    "* **cultural** = find cities similar to yours in terms of **how satified locals are with cultural amenities** in the city.\n",
    "* **public_spaces** = find cities similar to yours in terms of **how satified locals are with public spaces, streets and plazas** in the city.\n",
    "\n",
    "#### Hostility of city towards certain groups\n",
    "* **general** = find cities similar to yours in terms of how much locals believe that the **general population will enjoy living** in the city.\n",
    "* **ethnic** = find cities similar to yours in terms of how much locals believe that **ethnic minorities will enjoy living** in the city.\n",
    "* **gay** = find cities similar to yours in terms of how much locals believe that **gay and lesbian population will enjoy living** in the city.\n",
    "* **immigrants** = find cities similar to yours in terms of how much locals believe that **immigrant population will enjoy living** in the city.\n",
    "* **young_fam** = find cities similar to yours in terms of how much locals believe that **young families with children will enjoy living** in the city.\n",
    "* **elder** = find cities similar to yours in terms of how much locals believe that **elder population will enjoy living** in the city.\n",
    "\n",
    "#### Pollution city metrics\n",
    "* **air_pollution** = find cities similar to yours in terms of **how satisfied are locals with the air pollution** in the city.\n",
    "* **noise_pollution** = find cities similar to yours in terms of **how satisfied are locals with the noise levels** in the city.\n",
    "* **cleanliness** = find cities similar to yours in terms of **how satisfied are locals with the overall cleanliness** in the city."
   ]
  },
  {
   "cell_type": "code",
   "execution_count": 27,
   "metadata": {},
   "outputs": [],
   "source": [
    "relevant_city_features = [cost_life,purch_power]"
   ]
  },
  {
   "cell_type": "markdown",
   "metadata": {},
   "source": [
    "## Filtering best cities based on city features"
   ]
  },
  {
   "cell_type": "code",
   "execution_count": 28,
   "metadata": {},
   "outputs": [],
   "source": [
    "#city_clusters dataframe is created according to preferences\n",
    "city_clusters = city_features[relevant_city_features]\n",
    "x = city_clusters.loc[:,relevant_city_features]"
   ]
  },
  {
   "cell_type": "markdown",
   "metadata": {},
   "source": [
    "### Visualize possible optimal k value for k-means"
   ]
  },
  {
   "cell_type": "code",
   "execution_count": 29,
   "metadata": {},
   "outputs": [],
   "source": [
    "#calculate optimal k value for the subset defined\n",
    "wcss=[]\n",
    "\n",
    "for i in range(1,16):\n",
    "    kmeans = KMeans(i)\n",
    "    kmeans.fit(x)\n",
    "    wcss_iter = kmeans.inertia_\n",
    "    wcss.append(wcss_iter)"
   ]
  },
  {
   "cell_type": "code",
   "execution_count": 79,
   "metadata": {
    "scrolled": true
   },
   "outputs": [
    {
     "data": {
      "text/plain": [
       "<matplotlib.lines.Line2D at 0x1cbb384e548>"
      ]
     },
     "execution_count": 79,
     "metadata": {},
     "output_type": "execute_result"
    },
    {
     "data": {
      "image/png": "[encoded data removed]",
      "text/plain": [
       "<Figure size 432x288 with 1 Axes>"
      ]
     },
     "metadata": {},
     "output_type": "display_data"
    }
   ],
   "source": [
    "#the elbow method\n",
    "number_clusters = range(1,16)\n",
    "plt.plot(number_clusters, wcss)\n",
    "plt.title('The Elbow Method - Differences in cities', fontsize= 18)\n",
    "plt.xlabel('Number of clusters', fontsize=15)\n",
    "plt.ylabel('Within-cluster Sum of Squares', fontsize=15)\n",
    "plt.axvline(4, ls='--', color='green')"
   ]
  },
  {
   "cell_type": "markdown",
   "metadata": {},
   "source": [
    "### Input 3 of 4: Select k value (number of clusters)\n",
    "\n",
    "Try to select a k value that minimizes the WCSS. The number selected will be the number of clusters generated. If a high number is picked there will be less cities in your final selection, but those cities will be closer to your city features selected. If you pick a lower number there will be more cities in your cluster, but they may be less close to your city features."
   ]
  },
  {
   "cell_type": "code",
   "execution_count": 31,
   "metadata": {},
   "outputs": [],
   "source": [
    "number_clusters = 4"
   ]
  },
  {
   "cell_type": "markdown",
   "metadata": {},
   "source": [
    "## Apply k-means algorithm"
   ]
  },
  {
   "cell_type": "code",
   "execution_count": 32,
   "metadata": {},
   "outputs": [
    {
     "data": {
      "text/plain": [
       "KMeans(n_clusters=4)"
      ]
     },
     "execution_count": 32,
     "metadata": {},
     "output_type": "execute_result"
    }
   ],
   "source": [
    "#clustering based on the optimal k number observed above\n",
    "kmeans = KMeans(number_clusters)\n",
    "#fit of the kmeans\n",
    "kmeans.fit(x)"
   ]
  },
  {
   "cell_type": "code",
   "execution_count": 33,
   "metadata": {},
   "outputs": [],
   "source": [
    "##Clustering results\n",
    "identified_clusters = kmeans.fit_predict(x)"
   ]
  },
  {
   "cell_type": "code",
   "execution_count": 34,
   "metadata": {},
   "outputs": [],
   "source": [
    "data_with_clusters = city_clusters.copy()\n",
    "data_with_clusters['cluster'] = identified_clusters"
   ]
  },
  {
   "cell_type": "markdown",
   "metadata": {},
   "source": [
    "## visualize the clusters generated\n",
    "\n",
    "Below you will see the clusters split in different colors. Intuitively, choose the two features that you want to visualize in the plot:"
   ]
  },
  {
   "cell_type": "code",
   "execution_count": 263,
   "metadata": {
    "scrolled": false
   },
   "outputs": [
    {
     "data": {
      "image/png": "[encoded data removed]",
      "text/plain": [
       "<Figure size 1296x576 with 1 Axes>"
      ]
     },
     "metadata": {},
     "output_type": "display_data"
    }
   ],
   "source": [
    "plt.scatter(city_clusters[cost_life], city_clusters[purch_power], c=data_with_clusters['cluster'],cmap='rainbow', s=110)\n",
    "plt.xlim((np.min(city_clusters[cost_life])-0.05),(np.max(city_clusters[cost_life])+0.05))\n",
    "plt.ylim((np.min(city_clusters[purch_power])-0.05),(np.max(city_clusters[purch_power])+0.05))\n",
    "plt.title('Cost of Living vs Purchase Power (clusters=4)',fontsize=17)\n",
    "plt.xlabel('Cost of living (cities)', fontsize=15)\n",
    "plt.ylabel('Purchase Power (cities)',fontsize=15)\n",
    "plt.show()"
   ]
  },
  {
   "cell_type": "code",
   "execution_count": 36,
   "metadata": {},
   "outputs": [],
   "source": [
    "# filter cities of the cluster of your city\n",
    "#reset index of cities\n",
    "data_with_clusters.reset_index(inplace=True)\n",
    "#get your cluster\n",
    "my_cluster = int(data_with_clusters.loc[data_with_clusters.City == my_city,'cluster'])\n",
    "#filter cities\n",
    "my_city_cluster = list(data_with_clusters[data_with_clusters['cluster']==my_cluster]['City'])"
   ]
  },
  {
   "cell_type": "code",
   "execution_count": 37,
   "metadata": {
    "scrolled": true
   },
   "outputs": [],
   "source": [
    "my_city_cluster.remove(my_city)"
   ]
  },
  {
   "cell_type": "code",
   "execution_count": 38,
   "metadata": {
    "scrolled": true
   },
   "outputs": [
    {
     "data": {
      "text/plain": [
       "['Copenhagen', 'Dublin', 'London', 'Paris']"
      ]
     },
     "execution_count": 38,
     "metadata": {},
     "output_type": "execute_result"
    }
   ],
   "source": [
    "my_city_cluster"
   ]
  },
  {
   "cell_type": "markdown",
   "metadata": {},
   "source": [
    "## Step 2 - The residence filtering filtering"
   ]
  },
  {
   "cell_type": "markdown",
   "metadata": {},
   "source": [
    "### Definition of residence and host features"
   ]
  },
  {
   "cell_type": "code",
   "execution_count": 39,
   "metadata": {},
   "outputs": [],
   "source": [
    "## define price metric\n",
    "daypr = 'total_price_day'\n",
    "weekpr = 'total_price_week'\n",
    "monthpr = 'total_price_month'\n",
    "\n",
    "#define residence type and size\n",
    "proptype = 'Property Type'\n",
    "roomtype = 'Room Type'\n",
    "nbedroom = 'Bedrooms'\n",
    "bedtype = 'Bed Type'\n",
    "nbeds = 'Beds'\n",
    "nbathroom = 'Bathrooms'\n",
    "\n",
    "#define number of people allowed\n",
    "npeople = 'Accommodates'\n",
    "nguests = 'Guests Included'\n",
    "\n",
    "#define host type\n",
    "hpic = 'Host pic'\n",
    "hver = 'Host verified'\n",
    "hsup = 'Host superhost'\n",
    "ibook = 'Instant book'\n",
    "reqpho = 'Req guest phone'\n",
    "reqpic = 'Req guest pic'\n",
    "reqlic = 'Req license'\n",
    "\n",
    "#define residence rating and number of reviews\n",
    "nrev = 'Number of Reviews'\n",
    "rating = 'Review Scores Rating'"
   ]
  },
  {
   "cell_type": "markdown",
   "metadata": {},
   "source": [
    "### Input 3 of 4: Select your relevant residence features\n",
    "\n",
    "#### Price features\n",
    "* **daypr**: Find residences **similar** to yours in terms of **daily price**\n",
    "* **weekpr**: Find residences **similar** to yours in terms of **weekly price**\n",
    "* **monthpr**: Find residences **similar** to yours in terms of **monthly price**\n",
    "\n",
    "*Note: as some hosts have a one-off cleaning fee, we added this fee to the daily, weekly and monthly price. As a result of this, daily prices may differ much more than weekly or monthly prices. If you plan on staying more than a few days, weekly or monthly price metrics may be better to compare your residence to others in terms of price*\n",
    "\n",
    "#### Residence type and size features\n",
    "* **proptype**: Find residences **similar** to yours in terms of **property type**\n",
    "* **roomtype**: Find residences **similar** to yours in terms of **room type**\n",
    "* **nbathroom**: Find residences **similar** to yours in terms of **number of bathrooms**\n",
    "* **nbedroom**: Find residences **similar** to yours in terms of **number of bedrooms**\n",
    "* **nbeds**: Find residences **similar** to yours in terms of **number of beds**\n",
    "* **bedtype**: Find residences **similar** to yours in terms of **type of bed**\n",
    "\n",
    "#### Number of people and guests allowed\n",
    "* **npeople**: Find residences **similar** to yours in terms of **number of people allowed**\n",
    "* **nguests**: Find residences **similar** to yours in terms of **how many temporary guests** are **allowed** (besides nº of people)\n",
    "\n",
    "#### Host Characteristics\n",
    "* **hpic**: Find residences with **hosts** similar to you in that you both **have (or not) profile picture**\n",
    "* **hver**: Find residences with **hosts** similar to you in that you both **are (or not) verified**\n",
    "* **hsup**: Find residences with **hosts** similar to you in that you both **are (or not) superhosts**\n",
    "* **ibook**: Find residences **hosts** similar to you in that you both **allow (or not) instant bookings**\n",
    "* **reqpho**: Find residences with **hosts** similar to you in that you both **require (or not) guests phone numbers**\n",
    "* **reqpic**: Find residences with **hosts** similar to you in that you both **require (or not) guests profile picture**\n",
    "* **reqlic**: Find residences with **hosts** similar to you in that you both **require (or not) license to host**\n",
    "\n",
    "#### Reviews\n",
    "* **nrev**: Find residences **similar** to yours based on the **number of reviews** received by guests\n",
    "* **rating**: Find residences **similar** to yours based on the **overall rating** received by previous guests"
   ]
  },
  {
   "cell_type": "code",
   "execution_count": 40,
   "metadata": {},
   "outputs": [],
   "source": [
    "relevant_residence_features = [weekpr,proptype,roomtype,bedtype,nbedroom,nbeds,npeople,nrev,rating]"
   ]
  },
  {
   "cell_type": "markdown",
   "metadata": {},
   "source": [
    "### Create dataframe with relevant features and filter\n",
    "\n",
    "#### Filter the dataframe based on the cities clustered"
   ]
  },
  {
   "cell_type": "code",
   "execution_count": 41,
   "metadata": {},
   "outputs": [],
   "source": [
    "df_set = df[df['City'].isin(my_city_cluster)]"
   ]
  },
  {
   "cell_type": "code",
   "execution_count": 42,
   "metadata": {},
   "outputs": [],
   "source": [
    "#### Select the relevant features for the clustering\n",
    "df_set_features = df_set[relevant_residence_features]"
   ]
  },
  {
   "cell_type": "code",
   "execution_count": 43,
   "metadata": {
    "scrolled": true
   },
   "outputs": [
    {
     "data": {
      "text/html": [
       "<div>\n",
       "<style scoped>\n",
       "    .dataframe tbody tr th:only-of-type {\n",
       "        vertical-align: middle;\n",
       "    }\n",
       "\n",
       "    .dataframe tbody tr th {\n",
       "        vertical-align: top;\n",
       "    }\n",
       "\n",
       "    .dataframe thead th {\n",
       "        text-align: right;\n",
       "    }\n",
       "</style>\n",
       "<table border=\"1\" class=\"dataframe\">\n",
       "  <thead>\n",
       "    <tr style=\"text-align: right;\">\n",
       "      <th></th>\n",
       "      <th>total_price_week</th>\n",
       "      <th>Property Type</th>\n",
       "      <th>Room Type</th>\n",
       "      <th>Bed Type</th>\n",
       "      <th>Bedrooms</th>\n",
       "      <th>Beds</th>\n",
       "      <th>Accommodates</th>\n",
       "      <th>Number of Reviews</th>\n",
       "      <th>Review Scores Rating</th>\n",
       "    </tr>\n",
       "    <tr>\n",
       "      <th>ID</th>\n",
       "      <th></th>\n",
       "      <th></th>\n",
       "      <th></th>\n",
       "      <th></th>\n",
       "      <th></th>\n",
       "      <th></th>\n",
       "      <th></th>\n",
       "      <th></th>\n",
       "      <th></th>\n",
       "    </tr>\n",
       "  </thead>\n",
       "  <tbody>\n",
       "    <tr>\n",
       "      <th>15802051</th>\n",
       "      <td>358.139535</td>\n",
       "      <td>House</td>\n",
       "      <td>Private room</td>\n",
       "      <td>Real Bed</td>\n",
       "      <td>2.0</td>\n",
       "      <td>2.0</td>\n",
       "      <td>2.0</td>\n",
       "      <td>3.0</td>\n",
       "      <td>93.0</td>\n",
       "    </tr>\n",
       "    <tr>\n",
       "      <th>14751869</th>\n",
       "      <td>1206.976744</td>\n",
       "      <td>House</td>\n",
       "      <td>Entire home/apt</td>\n",
       "      <td>Real Bed</td>\n",
       "      <td>4.0</td>\n",
       "      <td>4.0</td>\n",
       "      <td>8.0</td>\n",
       "      <td>21.0</td>\n",
       "      <td>95.0</td>\n",
       "    </tr>\n",
       "    <tr>\n",
       "      <th>8901485</th>\n",
       "      <td>569.767442</td>\n",
       "      <td>Apartment</td>\n",
       "      <td>Private room</td>\n",
       "      <td>Real Bed</td>\n",
       "      <td>1.0</td>\n",
       "      <td>1.0</td>\n",
       "      <td>2.0</td>\n",
       "      <td>0.0</td>\n",
       "      <td>0.0</td>\n",
       "    </tr>\n",
       "    <tr>\n",
       "      <th>5832248</th>\n",
       "      <td>598.837209</td>\n",
       "      <td>Apartment</td>\n",
       "      <td>Entire home/apt</td>\n",
       "      <td>Real Bed</td>\n",
       "      <td>2.0</td>\n",
       "      <td>4.0</td>\n",
       "      <td>6.0</td>\n",
       "      <td>2.0</td>\n",
       "      <td>100.0</td>\n",
       "    </tr>\n",
       "    <tr>\n",
       "      <th>8049784</th>\n",
       "      <td>203.488372</td>\n",
       "      <td>House</td>\n",
       "      <td>Private room</td>\n",
       "      <td>Real Bed</td>\n",
       "      <td>1.0</td>\n",
       "      <td>1.0</td>\n",
       "      <td>2.0</td>\n",
       "      <td>3.0</td>\n",
       "      <td>93.0</td>\n",
       "    </tr>\n",
       "  </tbody>\n",
       "</table>\n",
       "</div>"
      ],
      "text/plain": [
       "          total_price_week Property Type        Room Type  Bed Type  Bedrooms  \\\n",
       "ID                                                                              \n",
       "15802051  358.139535        House         Private room     Real Bed  2.0        \n",
       "14751869  1206.976744       House         Entire home/apt  Real Bed  4.0        \n",
       "8901485   569.767442        Apartment     Private room     Real Bed  1.0        \n",
       "5832248   598.837209        Apartment     Entire home/apt  Real Bed  2.0        \n",
       "8049784   203.488372        House         Private room     Real Bed  1.0        \n",
       "\n",
       "          Beds  Accommodates  Number of Reviews  Review Scores Rating  \n",
       "ID                                                                     \n",
       "15802051  2.0   2.0           3.0                93.0                  \n",
       "14751869  4.0   8.0           21.0               95.0                  \n",
       "8901485   1.0   2.0           0.0                0.0                   \n",
       "5832248   4.0   6.0           2.0                100.0                 \n",
       "8049784   1.0   2.0           3.0                93.0                  "
      ]
     },
     "execution_count": 43,
     "metadata": {},
     "output_type": "execute_result"
    }
   ],
   "source": [
    "df_set_features.head()"
   ]
  },
  {
   "cell_type": "code",
   "execution_count": 44,
   "metadata": {},
   "outputs": [],
   "source": [
    "### reset dataframe\n",
    "df_set_features.reset_index(inplace=True)"
   ]
  },
  {
   "cell_type": "markdown",
   "metadata": {},
   "source": [
    "### Add your residence information to the dataframe in this order.\n",
    "* For **ID (literal)**: *'my residence'*\n",
    "* For **total_price_week (in euros)**: your weekly residence price in euros\n",
    "* For **Property type (choose one, preferably House or Apartment)**: *'House', 'Apartment', 'Other', 'Hostel', 'Cabin', 'Townhouse', 'Bed & Breakfast', 'Dorm', 'Loft', 'Condominium', 'Boutique hotel', 'Guesthouse', 'Boat', 'Serviced apartment', 'Ryokan (Japan)', 'Villa', 'Tent', 'Tipi', 'Bungalow', 'Castle', 'Chalet', 'Timeshare', 'Island', 'Camper/RV', 'Hut', 'Lighthouse', 'Guest suite', 'In-law', 'Cave', 'Yurt', 'Treehouse', 'Vacation home', 'Earth House', 'Casa particular', 'Nature lodge', 'Train', 'Igloo', 'Parking Space', 'Car', 'Pension (Korea)'*\n",
    "* For **Room type (choose one)**: *'Private room', 'Entire home/apt', 'Shared room'*\n",
    "* For **Bed Type (choose one)**: *'Real Bed', 'Couch', 'Pull-out Sofa', 'Futon', 'Airbed'*\n",
    "* For **Bedrooms**: the number of bedrooms of your residence\n",
    "* For **Beds**: the number of beds of your residence\n",
    "* For **Accomodates**: the number of accomodates of your residence\n",
    "* For **Number of Reviews**: the current number of reviews of your airbnb residence\n",
    "* For **Review Scores Rating**: the review score, from 0 to 100, of your airbnb resdience"
   ]
  },
  {
   "cell_type": "code",
   "execution_count": 45,
   "metadata": {},
   "outputs": [],
   "source": [
    "ID_me = 'my_residence'\n",
    "total_price_week = 500\n",
    "property_type = 'House'\n",
    "room_type = 'Private room'\n",
    "bed_type = 'Real Bed'\n",
    "bedrooms = 2\n",
    "beds = 2\n",
    "accommodates = 4\n",
    "number_of_reviews = 3\n",
    "reviews_score = 95"
   ]
  },
  {
   "cell_type": "code",
   "execution_count": 46,
   "metadata": {
    "scrolled": true
   },
   "outputs": [
    {
     "data": {
      "text/html": [
       "<div>\n",
       "<style scoped>\n",
       "    .dataframe tbody tr th:only-of-type {\n",
       "        vertical-align: middle;\n",
       "    }\n",
       "\n",
       "    .dataframe tbody tr th {\n",
       "        vertical-align: top;\n",
       "    }\n",
       "\n",
       "    .dataframe thead th {\n",
       "        text-align: right;\n",
       "    }\n",
       "</style>\n",
       "<table border=\"1\" class=\"dataframe\">\n",
       "  <thead>\n",
       "    <tr style=\"text-align: right;\">\n",
       "      <th></th>\n",
       "      <th>ID</th>\n",
       "      <th>total_price_week</th>\n",
       "      <th>Property Type</th>\n",
       "      <th>Room Type</th>\n",
       "      <th>Bed Type</th>\n",
       "      <th>Bedrooms</th>\n",
       "      <th>Beds</th>\n",
       "      <th>Accommodates</th>\n",
       "      <th>Number of Reviews</th>\n",
       "      <th>Review Scores Rating</th>\n",
       "    </tr>\n",
       "  </thead>\n",
       "  <tbody>\n",
       "    <tr>\n",
       "      <th>0</th>\n",
       "      <td>15802051</td>\n",
       "      <td>358.139535</td>\n",
       "      <td>House</td>\n",
       "      <td>Private room</td>\n",
       "      <td>Real Bed</td>\n",
       "      <td>2.0</td>\n",
       "      <td>2.0</td>\n",
       "      <td>2.0</td>\n",
       "      <td>3.0</td>\n",
       "      <td>93.0</td>\n",
       "    </tr>\n",
       "    <tr>\n",
       "      <th>1</th>\n",
       "      <td>14751869</td>\n",
       "      <td>1206.976744</td>\n",
       "      <td>House</td>\n",
       "      <td>Entire home/apt</td>\n",
       "      <td>Real Bed</td>\n",
       "      <td>4.0</td>\n",
       "      <td>4.0</td>\n",
       "      <td>8.0</td>\n",
       "      <td>21.0</td>\n",
       "      <td>95.0</td>\n",
       "    </tr>\n",
       "    <tr>\n",
       "      <th>2</th>\n",
       "      <td>8901485</td>\n",
       "      <td>569.767442</td>\n",
       "      <td>Apartment</td>\n",
       "      <td>Private room</td>\n",
       "      <td>Real Bed</td>\n",
       "      <td>1.0</td>\n",
       "      <td>1.0</td>\n",
       "      <td>2.0</td>\n",
       "      <td>0.0</td>\n",
       "      <td>0.0</td>\n",
       "    </tr>\n",
       "    <tr>\n",
       "      <th>3</th>\n",
       "      <td>5832248</td>\n",
       "      <td>598.837209</td>\n",
       "      <td>Apartment</td>\n",
       "      <td>Entire home/apt</td>\n",
       "      <td>Real Bed</td>\n",
       "      <td>2.0</td>\n",
       "      <td>4.0</td>\n",
       "      <td>6.0</td>\n",
       "      <td>2.0</td>\n",
       "      <td>100.0</td>\n",
       "    </tr>\n",
       "    <tr>\n",
       "      <th>4</th>\n",
       "      <td>8049784</td>\n",
       "      <td>203.488372</td>\n",
       "      <td>House</td>\n",
       "      <td>Private room</td>\n",
       "      <td>Real Bed</td>\n",
       "      <td>1.0</td>\n",
       "      <td>1.0</td>\n",
       "      <td>2.0</td>\n",
       "      <td>3.0</td>\n",
       "      <td>93.0</td>\n",
       "    </tr>\n",
       "  </tbody>\n",
       "</table>\n",
       "</div>"
      ],
      "text/plain": [
       "         ID  total_price_week Property Type        Room Type  Bed Type  \\\n",
       "0  15802051  358.139535        House         Private room     Real Bed   \n",
       "1  14751869  1206.976744       House         Entire home/apt  Real Bed   \n",
       "2  8901485   569.767442        Apartment     Private room     Real Bed   \n",
       "3  5832248   598.837209        Apartment     Entire home/apt  Real Bed   \n",
       "4  8049784   203.488372        House         Private room     Real Bed   \n",
       "\n",
       "   Bedrooms  Beds  Accommodates  Number of Reviews  Review Scores Rating  \n",
       "0  2.0       2.0   2.0           3.0                93.0                  \n",
       "1  4.0       4.0   8.0           21.0               95.0                  \n",
       "2  1.0       1.0   2.0           0.0                0.0                   \n",
       "3  2.0       4.0   6.0           2.0                100.0                 \n",
       "4  1.0       1.0   2.0           3.0                93.0                  "
      ]
     },
     "execution_count": 46,
     "metadata": {},
     "output_type": "execute_result"
    }
   ],
   "source": [
    "df_set_features.head()"
   ]
  },
  {
   "cell_type": "code",
   "execution_count": 47,
   "metadata": {},
   "outputs": [
    {
     "name": "stderr",
     "output_type": "stream",
     "text": [
      "C:\\Users\\34658\\Anaconda3\\lib\\site-packages\\pandas\\core\\indexing.py:670: SettingWithCopyWarning: \n",
      "A value is trying to be set on a copy of a slice from a DataFrame\n",
      "\n",
      "See the caveats in the documentation: https://pandas.pydata.org/pandas-docs/stable/user_guide/indexing.html#returning-a-view-versus-a-copy\n",
      "  iloc._setitem_with_indexer(indexer, value)\n"
     ]
    }
   ],
   "source": [
    "df_set_features.loc['ID'] = [ID_me,total_price_week,property_type,room_type,bed_type,bedrooms,beds,accommodates,number_of_reviews,reviews_score]"
   ]
  },
  {
   "cell_type": "code",
   "execution_count": 48,
   "metadata": {},
   "outputs": [],
   "source": [
    "df_set_features.set_index('ID', inplace=True)"
   ]
  },
  {
   "cell_type": "code",
   "execution_count": 49,
   "metadata": {
    "scrolled": true
   },
   "outputs": [
    {
     "data": {
      "text/plain": [
       "total_price_week        float64\n",
       "Property Type           object \n",
       "Room Type               object \n",
       "Bed Type                object \n",
       "Bedrooms                float64\n",
       "Beds                    float64\n",
       "Accommodates            float64\n",
       "Number of Reviews       float64\n",
       "Review Scores Rating    float64\n",
       "dtype: object"
      ]
     },
     "execution_count": 49,
     "metadata": {},
     "output_type": "execute_result"
    }
   ],
   "source": [
    "df_set_features.dtypes"
   ]
  },
  {
   "cell_type": "code",
   "execution_count": 50,
   "metadata": {
    "scrolled": true
   },
   "outputs": [
    {
     "name": "stderr",
     "output_type": "stream",
     "text": [
      "C:\\Users\\34658\\Anaconda3\\lib\\site-packages\\pandas\\core\\frame.py:3065: SettingWithCopyWarning: \n",
      "A value is trying to be set on a copy of a slice from a DataFrame.\n",
      "Try using .loc[row_indexer,col_indexer] = value instead\n",
      "\n",
      "See the caveats in the documentation: https://pandas.pydata.org/pandas-docs/stable/user_guide/indexing.html#returning-a-view-versus-a-copy\n",
      "  self[k1] = value[k2]\n"
     ]
    }
   ],
   "source": [
    "#change datatypes\n",
    "df_set_features[['Property Type','Room Type','Bed Type']] = df_set_features[['Property Type','Room Type','Bed Type']].astype('category')"
   ]
  },
  {
   "cell_type": "code",
   "execution_count": 51,
   "metadata": {},
   "outputs": [
    {
     "data": {
      "text/plain": [
       "total_price_week        float64 \n",
       "Property Type           category\n",
       "Room Type               category\n",
       "Bed Type                category\n",
       "Bedrooms                float64 \n",
       "Beds                    float64 \n",
       "Accommodates            float64 \n",
       "Number of Reviews       float64 \n",
       "Review Scores Rating    float64 \n",
       "dtype: object"
      ]
     },
     "execution_count": 51,
     "metadata": {},
     "output_type": "execute_result"
    }
   ],
   "source": [
    "df_set_features.dtypes"
   ]
  },
  {
   "cell_type": "code",
   "execution_count": 52,
   "metadata": {},
   "outputs": [],
   "source": [
    "scaled_features = df_set_features.copy()\n",
    "col_names = ['total_price_week', 'Bedrooms','Beds','Accommodates','Number of Reviews','Review Scores Rating']\n",
    "features = scaled_features[col_names]\n",
    "scaler = StandardScaler().fit(features.values)\n",
    "features = scaler.transform(features.values)\n",
    "scaled_features[col_names] = features\n",
    "df_set_features_scaled = scaled_features"
   ]
  },
  {
   "cell_type": "code",
   "execution_count": 55,
   "metadata": {},
   "outputs": [
    {
     "data": {
      "text/html": [
       "<div>\n",
       "<style scoped>\n",
       "    .dataframe tbody tr th:only-of-type {\n",
       "        vertical-align: middle;\n",
       "    }\n",
       "\n",
       "    .dataframe tbody tr th {\n",
       "        vertical-align: top;\n",
       "    }\n",
       "\n",
       "    .dataframe thead th {\n",
       "        text-align: right;\n",
       "    }\n",
       "</style>\n",
       "<table border=\"1\" class=\"dataframe\">\n",
       "  <thead>\n",
       "    <tr style=\"text-align: right;\">\n",
       "      <th></th>\n",
       "      <th>total_price_week</th>\n",
       "      <th>Property Type</th>\n",
       "      <th>Room Type</th>\n",
       "      <th>Bed Type</th>\n",
       "      <th>Bedrooms</th>\n",
       "      <th>Beds</th>\n",
       "      <th>Accommodates</th>\n",
       "      <th>Number of Reviews</th>\n",
       "      <th>Review Scores Rating</th>\n",
       "    </tr>\n",
       "    <tr>\n",
       "      <th>ID</th>\n",
       "      <th></th>\n",
       "      <th></th>\n",
       "      <th></th>\n",
       "      <th></th>\n",
       "      <th></th>\n",
       "      <th></th>\n",
       "      <th></th>\n",
       "      <th></th>\n",
       "      <th></th>\n",
       "    </tr>\n",
       "  </thead>\n",
       "  <tbody>\n",
       "    <tr>\n",
       "      <th>13760682</th>\n",
       "      <td>3.819088</td>\n",
       "      <td>Apartment</td>\n",
       "      <td>Entire home/apt</td>\n",
       "      <td>Real Bed</td>\n",
       "      <td>0.963963</td>\n",
       "      <td>1.177211</td>\n",
       "      <td>1.198623</td>\n",
       "      <td>-0.357982</td>\n",
       "      <td>0.781675</td>\n",
       "    </tr>\n",
       "    <tr>\n",
       "      <th>9173969</th>\n",
       "      <td>-1.235302</td>\n",
       "      <td>Apartment</td>\n",
       "      <td>Shared room</td>\n",
       "      <td>Real Bed</td>\n",
       "      <td>-0.272318</td>\n",
       "      <td>-0.630254</td>\n",
       "      <td>-1.234022</td>\n",
       "      <td>-0.502346</td>\n",
       "      <td>-1.633577</td>\n",
       "    </tr>\n",
       "    <tr>\n",
       "      <th>13754942</th>\n",
       "      <td>0.035267</td>\n",
       "      <td>Apartment</td>\n",
       "      <td>Entire home/apt</td>\n",
       "      <td>Real Bed</td>\n",
       "      <td>0.963963</td>\n",
       "      <td>1.177211</td>\n",
       "      <td>-0.017699</td>\n",
       "      <td>-0.394073</td>\n",
       "      <td>0.781675</td>\n",
       "    </tr>\n",
       "    <tr>\n",
       "      <th>8642835</th>\n",
       "      <td>-0.689776</td>\n",
       "      <td>Apartment</td>\n",
       "      <td>Private room</td>\n",
       "      <td>Real Bed</td>\n",
       "      <td>-0.272318</td>\n",
       "      <td>-0.630254</td>\n",
       "      <td>-0.625861</td>\n",
       "      <td>-0.466255</td>\n",
       "      <td>0.781675</td>\n",
       "    </tr>\n",
       "    <tr>\n",
       "      <th>my_residence</th>\n",
       "      <td>-0.363855</td>\n",
       "      <td>House</td>\n",
       "      <td>Private room</td>\n",
       "      <td>Real Bed</td>\n",
       "      <td>0.963963</td>\n",
       "      <td>0.273478</td>\n",
       "      <td>0.590462</td>\n",
       "      <td>-0.394073</td>\n",
       "      <td>0.660912</td>\n",
       "    </tr>\n",
       "  </tbody>\n",
       "</table>\n",
       "</div>"
      ],
      "text/plain": [
       "              total_price_week Property Type        Room Type  Bed Type  \\\n",
       "ID                                                                        \n",
       "13760682      3.819088          Apartment     Entire home/apt  Real Bed   \n",
       "9173969      -1.235302          Apartment     Shared room      Real Bed   \n",
       "13754942      0.035267          Apartment     Entire home/apt  Real Bed   \n",
       "8642835      -0.689776          Apartment     Private room     Real Bed   \n",
       "my_residence -0.363855          House         Private room     Real Bed   \n",
       "\n",
       "              Bedrooms      Beds  Accommodates  Number of Reviews  \\\n",
       "ID                                                                  \n",
       "13760682      0.963963  1.177211  1.198623     -0.357982            \n",
       "9173969      -0.272318 -0.630254 -1.234022     -0.502346            \n",
       "13754942      0.963963  1.177211 -0.017699     -0.394073            \n",
       "8642835      -0.272318 -0.630254 -0.625861     -0.466255            \n",
       "my_residence  0.963963  0.273478  0.590462     -0.394073            \n",
       "\n",
       "              Review Scores Rating  \n",
       "ID                                  \n",
       "13760682      0.781675              \n",
       "9173969      -1.633577              \n",
       "13754942      0.781675              \n",
       "8642835       0.781675              \n",
       "my_residence  0.660912              "
      ]
     },
     "execution_count": 55,
     "metadata": {},
     "output_type": "execute_result"
    }
   ],
   "source": [
    "df_set_features_scaled.tail()"
   ]
  },
  {
   "cell_type": "code",
   "execution_count": 56,
   "metadata": {
    "scrolled": true
   },
   "outputs": [
    {
     "data": {
      "text/plain": [
       "total_price_week        float64 \n",
       "Property Type           category\n",
       "Room Type               category\n",
       "Bed Type                category\n",
       "Bedrooms                float64 \n",
       "Beds                    float64 \n",
       "Accommodates            float64 \n",
       "Number of Reviews       float64 \n",
       "Review Scores Rating    float64 \n",
       "dtype: object"
      ]
     },
     "execution_count": 56,
     "metadata": {},
     "output_type": "execute_result"
    }
   ],
   "source": [
    "df_set_features_scaled.dtypes"
   ]
  },
  {
   "cell_type": "markdown",
   "metadata": {},
   "source": [
    "## Definition of residence and host features"
   ]
  },
  {
   "cell_type": "markdown",
   "metadata": {},
   "source": [
    "## Filtering residences based on residence features"
   ]
  },
  {
   "cell_type": "code",
   "execution_count": 57,
   "metadata": {},
   "outputs": [],
   "source": [
    "#residence_clusters dataframe is created according to preferences\n",
    "x = df_set_features_scaled"
   ]
  },
  {
   "cell_type": "markdown",
   "metadata": {},
   "source": [
    "### Visualize possible optimal k value for k-means"
   ]
  },
  {
   "cell_type": "code",
   "execution_count": 65,
   "metadata": {},
   "outputs": [
    {
     "name": "stdout",
     "output_type": "stream",
     "text": [
      "1\\.cluster start\n",
      "Best run was number 1\n",
      "2\\.cluster start\n",
      "Best run was number 3\n",
      "3\\.cluster start\n",
      "Best run was number 5\n",
      "4\\.cluster start\n",
      "Best run was number 4\n",
      "5\\.cluster start\n",
      "Best run was number 2\n",
      "6\\.cluster start\n",
      "Best run was number 2\n",
      "7\\.cluster start\n",
      "Best run was number 2\n",
      "8\\.cluster start\n",
      "Best run was number 9\n",
      "9\\.cluster start\n",
      "Best run was number 8\n",
      "10\\.cluster start\n",
      "Best run was number 1\n",
      "11\\.cluster start\n",
      "Best run was number 9\n",
      "12\\.cluster start\n",
      "Best run was number 7\n",
      "13\\.cluster start\n",
      "Best run was number 5\n",
      "14\\.cluster start\n",
      "Best run was number 8\n",
      "15\\.cluster start\n",
      "Best run was number 1\n",
      "16\\.cluster start\n",
      "Best run was number 4\n",
      "17\\.cluster start\n",
      "Best run was number 7\n",
      "18\\.cluster start\n",
      "Best run was number 9\n",
      "19\\.cluster start\n",
      "Best run was number 2\n"
     ]
    }
   ],
   "source": [
    "#calculate optimal k value for the subset defined\n",
    "cost=[]\n",
    "\n",
    "for i in range(1,20):\n",
    "    print('{i}\\.cluster start'.format(i=i))\n",
    "    kprototypes = KPrototypes(n_clusters = i,n_jobs=-1,verbose=1, init='Huang', n_init=10)\n",
    "    kprototypes.fit(x, categorical=[1,2,3])\n",
    "    cost_iter = kprototypes.cost_\n",
    "    cost.append(cost_iter)"
   ]
  },
  {
   "cell_type": "code",
   "execution_count": 264,
   "metadata": {},
   "outputs": [
    {
     "data": {
      "text/plain": [
       "(0.0, 20.0)"
      ]
     },
     "execution_count": 264,
     "metadata": {},
     "output_type": "execute_result"
    },
    {
     "data": {
      "image/png": "[encoded data removed]",
      "text/plain": [
       "<Figure size 1296x576 with 1 Axes>"
      ]
     },
     "metadata": {},
     "output_type": "display_data"
    }
   ],
   "source": [
    "#the elbow method\n",
    "number_clusters2 = range(1,20)\n",
    "sns.set(rc={'figure.figsize':(18,8)})\n",
    "plt.plot(number_clusters2, cost)\n",
    "plt.title('The Elbow Method',fontsize=18)\n",
    "plt.xlabel('Number of clusters', fontsize=18)\n",
    "plt.ylabel('Cost', fontsize=18)\n",
    "plt.axvline(4, ls='--',color='red')\n",
    "plt.axvline(8, ls='--',color='blue')\n",
    "plt.axvline(15, ls='--',color='green')\n",
    "plt.xlim(0,20)"
   ]
  },
  {
   "cell_type": "markdown",
   "metadata": {},
   "source": [
    "### Input 3 of 4: Select k value (number of clusters)\n",
    "\n",
    "Try to select a k value that minimizes the WCSS. The number selected will be the number of clusters generated. If a high number is picked there will be less residences in your final selection, but those cities will be closer to your residence features selected. If you pick a lower number there will be more residences in your cluster, but they may be less close to your residence features."
   ]
  },
  {
   "cell_type": "code",
   "execution_count": 85,
   "metadata": {},
   "outputs": [],
   "source": [
    "number_clusters2 = 25"
   ]
  },
  {
   "cell_type": "markdown",
   "metadata": {},
   "source": [
    "## Apply k-Prototypes algorithm"
   ]
  },
  {
   "cell_type": "code",
   "execution_count": 87,
   "metadata": {},
   "outputs": [
    {
     "name": "stdout",
     "output_type": "stream",
     "text": [
      "Best run was number 9\n"
     ]
    }
   ],
   "source": [
    "#clustering based on the optimal k number observed above\n",
    "kproto = KPrototypes(n_clusters=number_clusters2, init='Huang', n_jobs=-1, n_init=10, verbose=1,random_state=47)\n",
    "kproto.fit(x, categorical=[1,2,3])\n",
    "centroids = kproto.cluster_centroids_\n",
    "labels= kproto.labels_"
   ]
  },
  {
   "cell_type": "code",
   "execution_count": null,
   "metadata": {},
   "outputs": [],
   "source": [
    "df['Labels'] = labels"
   ]
  },
  {
   "cell_type": "code",
   "execution_count": null,
   "metadata": {},
   "outputs": [],
   "source": [
    "data_with_clusters2 = residence_clusters.copy()\n",
    "data_with_clusters2['cluster'] = identified_clusters2"
   ]
  },
  {
   "cell_type": "markdown",
   "metadata": {},
   "source": [
    "## visualize the clusters generated\n",
    "\n",
    "Below you will see the clusters split in different colors. Intuitively, choose the two features that you want to visualize in the plot:"
   ]
  },
  {
   "cell_type": "code",
   "execution_count": null,
   "metadata": {},
   "outputs": [],
   "source": [
    "\n",
    "plt.scatter(residence_clusters[npeople], residence_clusters[nbeds], c=data_with_clusters2['cluster'],cmap='rainbow')\n",
    "plt.xlim((np.min(residence_clusters[npeople])-0.05),(np.max(residence_clusters[npeople])+0.05))\n",
    "plt.ylim((np.min(residence_clusters[nbeds])-0.05),(np.max(residence_clusters[nbeds])+0.05))\n",
    "plt.title('number of people vs number of beds')\n",
    "plt.xlabel('number of people')\n",
    "plt.ylabel('number of beds')\n",
    "plt.show()"
   ]
  },
  {
   "cell_type": "markdown",
   "metadata": {},
   "source": [
    "## Calculate quality of the clusters created\n",
    "\n",
    "We will assess the quality of the clusters generated by running a classifier on the clusters as labels, and determining the level of accuracy of our predictions. The better defined the clusters are, the higher the accuracy score will be."
   ]
  },
  {
   "cell_type": "code",
   "execution_count": 88,
   "metadata": {},
   "outputs": [],
   "source": [
    "x['Labels'] = labels"
   ]
  },
  {
   "cell_type": "code",
   "execution_count": 89,
   "metadata": {
    "scrolled": true
   },
   "outputs": [
    {
     "data": {
      "text/html": [
       "<div>\n",
       "<style scoped>\n",
       "    .dataframe tbody tr th:only-of-type {\n",
       "        vertical-align: middle;\n",
       "    }\n",
       "\n",
       "    .dataframe tbody tr th {\n",
       "        vertical-align: top;\n",
       "    }\n",
       "\n",
       "    .dataframe thead th {\n",
       "        text-align: right;\n",
       "    }\n",
       "</style>\n",
       "<table border=\"1\" class=\"dataframe\">\n",
       "  <thead>\n",
       "    <tr style=\"text-align: right;\">\n",
       "      <th></th>\n",
       "      <th>total_price_week</th>\n",
       "      <th>Property Type</th>\n",
       "      <th>Room Type</th>\n",
       "      <th>Bed Type</th>\n",
       "      <th>Bedrooms</th>\n",
       "      <th>Beds</th>\n",
       "      <th>Accommodates</th>\n",
       "      <th>Number of Reviews</th>\n",
       "      <th>Review Scores Rating</th>\n",
       "      <th>Labels</th>\n",
       "    </tr>\n",
       "    <tr>\n",
       "      <th>ID</th>\n",
       "      <th></th>\n",
       "      <th></th>\n",
       "      <th></th>\n",
       "      <th></th>\n",
       "      <th></th>\n",
       "      <th></th>\n",
       "      <th></th>\n",
       "      <th></th>\n",
       "      <th></th>\n",
       "      <th></th>\n",
       "    </tr>\n",
       "  </thead>\n",
       "  <tbody>\n",
       "    <tr>\n",
       "      <th>15802051</th>\n",
       "      <td>-0.611103</td>\n",
       "      <td>House</td>\n",
       "      <td>Private room</td>\n",
       "      <td>Real Bed</td>\n",
       "      <td>0.963963</td>\n",
       "      <td>0.273478</td>\n",
       "      <td>-0.625861</td>\n",
       "      <td>-0.394073</td>\n",
       "      <td>0.612607</td>\n",
       "      <td>15</td>\n",
       "    </tr>\n",
       "    <tr>\n",
       "      <th>14751869</th>\n",
       "      <td>0.868330</td>\n",
       "      <td>House</td>\n",
       "      <td>Entire home/apt</td>\n",
       "      <td>Real Bed</td>\n",
       "      <td>3.436526</td>\n",
       "      <td>2.080943</td>\n",
       "      <td>3.023107</td>\n",
       "      <td>0.255568</td>\n",
       "      <td>0.660912</td>\n",
       "      <td>22</td>\n",
       "    </tr>\n",
       "    <tr>\n",
       "      <th>8901485</th>\n",
       "      <td>-0.242258</td>\n",
       "      <td>Apartment</td>\n",
       "      <td>Private room</td>\n",
       "      <td>Real Bed</td>\n",
       "      <td>-0.272318</td>\n",
       "      <td>-0.630254</td>\n",
       "      <td>-0.625861</td>\n",
       "      <td>-0.502346</td>\n",
       "      <td>-1.633577</td>\n",
       "      <td>19</td>\n",
       "    </tr>\n",
       "    <tr>\n",
       "      <th>5832248</th>\n",
       "      <td>-0.191592</td>\n",
       "      <td>Apartment</td>\n",
       "      <td>Entire home/apt</td>\n",
       "      <td>Real Bed</td>\n",
       "      <td>0.963963</td>\n",
       "      <td>2.080943</td>\n",
       "      <td>1.806784</td>\n",
       "      <td>-0.430164</td>\n",
       "      <td>0.781675</td>\n",
       "      <td>16</td>\n",
       "    </tr>\n",
       "    <tr>\n",
       "      <th>8049784</th>\n",
       "      <td>-0.880643</td>\n",
       "      <td>House</td>\n",
       "      <td>Private room</td>\n",
       "      <td>Real Bed</td>\n",
       "      <td>-0.272318</td>\n",
       "      <td>-0.630254</td>\n",
       "      <td>-0.625861</td>\n",
       "      <td>-0.394073</td>\n",
       "      <td>0.612607</td>\n",
       "      <td>15</td>\n",
       "    </tr>\n",
       "  </tbody>\n",
       "</table>\n",
       "</div>"
      ],
      "text/plain": [
       "          total_price_week Property Type        Room Type  Bed Type  Bedrooms  \\\n",
       "ID                                                                              \n",
       "15802051 -0.611103          House         Private room     Real Bed  0.963963   \n",
       "14751869  0.868330          House         Entire home/apt  Real Bed  3.436526   \n",
       "8901485  -0.242258          Apartment     Private room     Real Bed -0.272318   \n",
       "5832248  -0.191592          Apartment     Entire home/apt  Real Bed  0.963963   \n",
       "8049784  -0.880643          House         Private room     Real Bed -0.272318   \n",
       "\n",
       "              Beds  Accommodates  Number of Reviews  Review Scores Rating  \\\n",
       "ID                                                                          \n",
       "15802051  0.273478 -0.625861     -0.394073           0.612607               \n",
       "14751869  2.080943  3.023107      0.255568           0.660912               \n",
       "8901485  -0.630254 -0.625861     -0.502346          -1.633577               \n",
       "5832248   2.080943  1.806784     -0.430164           0.781675               \n",
       "8049784  -0.630254 -0.625861     -0.394073           0.612607               \n",
       "\n",
       "          Labels  \n",
       "ID                \n",
       "15802051  15      \n",
       "14751869  22      \n",
       "8901485   19      \n",
       "5832248   16      \n",
       "8049784   15      "
      ]
     },
     "execution_count": 89,
     "metadata": {},
     "output_type": "execute_result"
    }
   ],
   "source": [
    "x.head()"
   ]
  },
  {
   "cell_type": "code",
   "execution_count": 260,
   "metadata": {},
   "outputs": [
    {
     "data": {
      "image/png": "[encoded data removed]",
      "text/plain": [
       "<Figure size 1296x576 with 1 Axes>"
      ]
     },
     "metadata": {},
     "output_type": "display_data"
    }
   ],
   "source": [
    "sns.set(rc={'figure.figsize':(18,8)})\n",
    "plt.scatter(x['total_price_week'], x['Beds'], c=x['Labels'],cmap='rainbow', s=50,alpha=.4)\n",
    "plt.xlim((np.min(x['total_price_week'])-0.05),(np.max(x['total_price_week'])+0.05))\n",
    "plt.ylim((np.min(x['Beds'])-0.05),(np.max(x['Beds'])+0.05))\n",
    "plt.title('Total week price vs Beds (clusters=25)',fontsize=17)\n",
    "plt.xlabel('Total week price', fontsize=15)\n",
    "plt.ylabel('Beds',fontsize=15)\n",
    "plt.show()"
   ]
  },
  {
   "cell_type": "markdown",
   "metadata": {},
   "source": [
    "## Fit the model\n"
   ]
  },
  {
   "cell_type": "code",
   "execution_count": 97,
   "metadata": {},
   "outputs": [],
   "source": [
    "clusters = x.copy()"
   ]
  },
  {
   "cell_type": "code",
   "execution_count": 102,
   "metadata": {},
   "outputs": [],
   "source": [
    "clusters['Labels'] = clusters['Labels'].astype('category')"
   ]
  },
  {
   "cell_type": "code",
   "execution_count": 103,
   "metadata": {
    "scrolled": false
   },
   "outputs": [
    {
     "data": {
      "text/plain": [
       "total_price_week        float64 \n",
       "Property Type           category\n",
       "Room Type               category\n",
       "Bed Type                category\n",
       "Bedrooms                float64 \n",
       "Beds                    float64 \n",
       "Accommodates            float64 \n",
       "Number of Reviews       float64 \n",
       "Review Scores Rating    float64 \n",
       "Labels                  category\n",
       "dtype: object"
      ]
     },
     "execution_count": 103,
     "metadata": {},
     "output_type": "execute_result"
    }
   ],
   "source": [
    "clusters.dtypes"
   ]
  },
  {
   "cell_type": "code",
   "execution_count": 119,
   "metadata": {},
   "outputs": [],
   "source": [
    "X = clusters.iloc[:,1:8]\n",
    "y = clusters.iloc[:,-1]"
   ]
  },
  {
   "cell_type": "code",
   "execution_count": 120,
   "metadata": {},
   "outputs": [],
   "source": [
    "clf_kp = LGBMClassifier(colsample_bytree=0.8, n_jobs=-1)"
   ]
  },
  {
   "cell_type": "code",
   "execution_count": 121,
   "metadata": {
    "scrolled": true
   },
   "outputs": [
    {
     "name": "stdout",
     "output_type": "stream",
     "text": [
      "CV F1 score for K-Prototypes clusters is 0.44172907487727714\n"
     ]
    }
   ],
   "source": [
    "cv_scores_kp = cross_val_score(clf_kp, X, y, scoring='f1_weighted')\n",
    "print(f'CV F1 score for K-Prototypes clusters is {np.mean(cv_scores_kp)}')"
   ]
  },
  {
   "cell_type": "markdown",
   "metadata": {},
   "source": [
    "The classifier could accurately predict 44% of the residences in their clusters. Lower values of F1 score may be an indicator that we used too many clusters in the experiment. We will try with lower k number of clusters in future versions of the project to help better classify the residences."
   ]
  },
  {
   "cell_type": "code",
   "execution_count": 122,
   "metadata": {
    "scrolled": false
   },
   "outputs": [
    {
     "data": {
      "image/png": "[encoded data removed]",
      "text/plain": [
       "<Figure size 1080x720 with 1 Axes>"
      ]
     },
     "metadata": {},
     "output_type": "display_data"
    }
   ],
   "source": [
    "clf_kp.fit(X, y)\n",
    "explainer_kp = shap.TreeExplainer(clf_kp)\n",
    "shap_values_kp = explainer_kp.shap_values(X)\n",
    "shap.summary_plot(shap_values_kp, X, plot_type=\"bar\", plot_size=(15, 10))"
   ]
  },
  {
   "cell_type": "markdown",
   "metadata": {},
   "source": [
    "The most relevant features for the model are Number of Reviews as well as Accomodates. The model did not use for clustering Bed Type or Property type, in future version of the model, we will try different combinations of features to help cluster, as well as a lower number of clusters to make the clustering cleaner and more understandable."
   ]
  },
  {
   "cell_type": "markdown",
   "metadata": {},
   "source": [
    "## Output of the model\n",
    "\n",
    "We will show the most similar residences to ours."
   ]
  },
  {
   "cell_type": "code",
   "execution_count": 218,
   "metadata": {},
   "outputs": [],
   "source": [
    "final_recommendation = x.copy()"
   ]
  },
  {
   "cell_type": "code",
   "execution_count": 219,
   "metadata": {},
   "outputs": [],
   "source": [
    "final_recommendation.reset_index(inplace=True)"
   ]
  },
  {
   "cell_type": "code",
   "execution_count": 220,
   "metadata": {},
   "outputs": [],
   "source": [
    "recommended_residences = final_recommendation[final_recommendation['Labels'] == 11]"
   ]
  },
  {
   "cell_type": "code",
   "execution_count": 221,
   "metadata": {},
   "outputs": [
    {
     "data": {
      "text/plain": [
       "(8581, 11)"
      ]
     },
     "execution_count": 221,
     "metadata": {},
     "output_type": "execute_result"
    }
   ],
   "source": [
    "recommended_residences.shape"
   ]
  },
  {
   "cell_type": "code",
   "execution_count": 222,
   "metadata": {},
   "outputs": [],
   "source": [
    "my_row = recommended_residences[recommended_residences['ID'] == 'my_residence']\n",
    "rest_row = recommended_residences[recommended_residences['ID'] != 'my_residence']"
   ]
  },
  {
   "cell_type": "code",
   "execution_count": 223,
   "metadata": {},
   "outputs": [],
   "source": [
    "my_row.set_index('ID', inplace=True)\n",
    "rest_row.set_index('ID', inplace=True)"
   ]
  },
  {
   "cell_type": "code",
   "execution_count": 224,
   "metadata": {},
   "outputs": [
    {
     "data": {
      "text/plain": [
       "ID\n",
       "11570020    0.0\n",
       "2504482     0.0\n",
       "6987332     0.0\n",
       "5555235     0.0\n",
       "4927689     0.0\n",
       "Name: total_price_week, dtype: float64"
      ]
     },
     "execution_count": 224,
     "metadata": {},
     "output_type": "execute_result"
    }
   ],
   "source": [
    "closest_price = rest_row['total_price_week'].sub(float(my_row[['total_price_week']].values)).abs().nsmallest(5)\n",
    "closest_price"
   ]
  },
  {
   "cell_type": "code",
   "execution_count": 225,
   "metadata": {},
   "outputs": [],
   "source": [
    "df_final = pd.DataFrame(closest_price)"
   ]
  },
  {
   "cell_type": "code",
   "execution_count": 226,
   "metadata": {},
   "outputs": [],
   "source": [
    "df_final.reset_index(inplace=True)"
   ]
  },
  {
   "cell_type": "code",
   "execution_count": 227,
   "metadata": {},
   "outputs": [],
   "source": [
    "list_recommendations = list(df_final['ID'])"
   ]
  },
  {
   "cell_type": "code",
   "execution_count": 228,
   "metadata": {},
   "outputs": [
    {
     "data": {
      "text/plain": [
       "Index(['ID', 'Host ID', 'Name', 'Summary', 'Description', 'Country', 'City',\n",
       "       'Property Type', 'Room Type', 'Accommodates', 'Bathrooms', 'Bedrooms',\n",
       "       'Beds', 'Bed Type', 'Host pic', 'Host verified', 'Host superhost',\n",
       "       'Instant book', 'Req guest phone', 'Req guest pic', 'Req license',\n",
       "       'First Review', 'Last Review', 'Number of Reviews',\n",
       "       'Review Scores Rating', 'Review Scores Accuracy',\n",
       "       'Review Scores Cleanliness', 'Review Scores Checkin',\n",
       "       'Review Scores Communication', 'Review Scores Location',\n",
       "       'Review Scores Value', 'Reviews per Month', 'Age', 'Price',\n",
       "       'Weekly Price', 'Monthly Price', 'Security Deposit', 'Cleaning Fee',\n",
       "       'Guests Included', 'Extra People', 'Cancellation Policy',\n",
       "       'country_city', 'total_price_day', 'total_price_week',\n",
       "       'total_price_month'],\n",
       "      dtype='object')"
      ]
     },
     "execution_count": 228,
     "metadata": {},
     "output_type": "execute_result"
    }
   ],
   "source": [
    "df.columns"
   ]
  },
  {
   "cell_type": "code",
   "execution_count": 229,
   "metadata": {},
   "outputs": [],
   "source": [
    "retrieve = df.copy()"
   ]
  },
  {
   "cell_type": "code",
   "execution_count": 230,
   "metadata": {},
   "outputs": [],
   "source": [
    "retrieve.reset_index(inplace=True)"
   ]
  },
  {
   "cell_type": "code",
   "execution_count": 231,
   "metadata": {},
   "outputs": [
    {
     "data": {
      "text/plain": [
       "[11570020, 2504482, 6987332, 5555235, 4927689]"
      ]
     },
     "execution_count": 231,
     "metadata": {},
     "output_type": "execute_result"
    }
   ],
   "source": [
    "list_recommendations"
   ]
  },
  {
   "cell_type": "code",
   "execution_count": 233,
   "metadata": {},
   "outputs": [],
   "source": [
    "final_set = retrieve[retrieve['ID'].isin(list_recommendations)][['ID','City','Name','Description','Property Type','Room Type','total_price_week']]"
   ]
  },
  {
   "cell_type": "code",
   "execution_count": 236,
   "metadata": {},
   "outputs": [],
   "source": [
    "final_set.set_index('ID',inplace=True)"
   ]
  },
  {
   "cell_type": "code",
   "execution_count": 235,
   "metadata": {},
   "outputs": [],
   "source": [
    "url_final.set_index('ID',inplace=True)"
   ]
  },
  {
   "cell_type": "code",
   "execution_count": 242,
   "metadata": {},
   "outputs": [],
   "source": [
    "recommendations = pd.concat([final_set, url_final], axis=1, join='inner')"
   ]
  },
  {
   "cell_type": "code",
   "execution_count": 244,
   "metadata": {},
   "outputs": [],
   "source": [
    "pd.set_option('display.width', 1000)"
   ]
  },
  {
   "cell_type": "code",
   "execution_count": 247,
   "metadata": {},
   "outputs": [],
   "source": [
    "recommendations_house = recommendations[['City','Name','Description','Room Type','total_price_week']]\n",
    "recommendations_contact = recommendations[['City','Name','Listing Url','Host URL']]"
   ]
  },
  {
   "cell_type": "markdown",
   "metadata": {},
   "source": [
    "## The Best 5 residences\n",
    "### Home information"
   ]
  },
  {
   "cell_type": "code",
   "execution_count": 248,
   "metadata": {
    "scrolled": false
   },
   "outputs": [
    {
     "data": {
      "text/html": [
       "<div>\n",
       "<style scoped>\n",
       "    .dataframe tbody tr th:only-of-type {\n",
       "        vertical-align: middle;\n",
       "    }\n",
       "\n",
       "    .dataframe tbody tr th {\n",
       "        vertical-align: top;\n",
       "    }\n",
       "\n",
       "    .dataframe thead th {\n",
       "        text-align: right;\n",
       "    }\n",
       "</style>\n",
       "<table border=\"1\" class=\"dataframe\">\n",
       "  <thead>\n",
       "    <tr style=\"text-align: right;\">\n",
       "      <th></th>\n",
       "      <th>City</th>\n",
       "      <th>Name</th>\n",
       "      <th>Description</th>\n",
       "      <th>Room Type</th>\n",
       "      <th>total_price_week</th>\n",
       "    </tr>\n",
       "    <tr>\n",
       "      <th>ID</th>\n",
       "      <th></th>\n",
       "      <th></th>\n",
       "      <th></th>\n",
       "      <th></th>\n",
       "      <th></th>\n",
       "    </tr>\n",
       "  </thead>\n",
       "  <tbody>\n",
       "    <tr>\n",
       "      <th>11570020</th>\n",
       "      <td>London</td>\n",
       "      <td>Lovely &amp; warm flat 12 mins from central London</td>\n",
       "      <td>Clapham North has amazing restaurants, bars and open space in the form if Clapham Common. The tube is about 60 seconds walk away. That takes you to central London in 10 minutes. Flat is neat and spacious with outside space, wifi, tv etc Anywhere Can offer travel and tourist tips Great restaurants, bars and an amazing park nearby. Super quick to central London! Clapham North tube station is 1 minute away and Clapham High Street overground station is 2 minutes away</td>\n",
       "      <td>Entire home/apt</td>\n",
       "      <td>500.0</td>\n",
       "    </tr>\n",
       "    <tr>\n",
       "      <th>2504482</th>\n",
       "      <td>Paris</td>\n",
       "      <td>Joli trois-pièces avec vue</td>\n",
       "      <td>Ce trois-pièces, lumineux, calme et spacieux vous accueille tout près de la Place d'Italie et vous offre une magnifique sur tout Paris. A quelques minutes des métros Olympiades, Nationale, Place d'Italie. Nombreux commerces de qualité à proximité. Grand trois-pièces de 70m2, situé au 15è étage d'une tour particulièrement calme du 13ème arrondissement, cet appartement comporte une grande entrée, une cuisine/pièce-à-vivre, un salon, une chambre parentale (grand lit de 180cm composé de deux lits/sommiers de 90cm, suffisamment de place pour installer un lit bébé), une chambre pour un ou deux enfants, une salle de bain, des toilettes séparées. Notre quartier, situé entre la Place d'Italie, la Butte aux Cailles et le quartier des Gobelins, est à la fois populaire, calme et vivant. En quelques minutes de marche, vous aurez accès à de très bons commerces de bouche (excellents boulangers, fabuleux caviste et fromager par exemple) à de délicieux restaurants asiatiques, italiens,  grecques ou tou</td>\n",
       "      <td>Entire home/apt</td>\n",
       "      <td>500.0</td>\n",
       "    </tr>\n",
       "    <tr>\n",
       "      <th>6987332</th>\n",
       "      <td>Paris</td>\n",
       "      <td>Appartement Paris Centre (9ème)</td>\n",
       "      <td>Bel appartement du centre ville parisien (place Clichy) situé au 2e étage avec ascenseur. Haut de plafond, l'appartement est un F2-3 situé dans un quartier charismatique : Grands boulevards, Montmartre et Pigalle sont accessibles à pied. L'appartement est un F2-3 : il dispose d'une chambre indépendante (lit double), d'une autre chambre (lit double) en mezzanine donnant sur le salon, lui-même ouvert sur la cuisine avec bar.  WC et salle de bain séparés. Wifi, linge de lit et nécessaire de cuisine sont inclus (plaques à induction, micro-ondes, four, réfrigérateur...). Laverie automatique située à une rue. Toutes les pièces seront accessibles aux voyageurs. Nous ne serons pas sur place pendant la période où nous souhaitons mettre à disposition notre appartement, nous serons alors joignables par téléphone en cas de besoin. Pouvons nous déplacer si problème. Quartier dynamique et riche, la place de Clichy est un lieu très accessible en tout point : à pied vous vous situez à 15 minutes des G</td>\n",
       "      <td>Entire home/apt</td>\n",
       "      <td>500.0</td>\n",
       "    </tr>\n",
       "    <tr>\n",
       "      <th>5555235</th>\n",
       "      <td>Paris</td>\n",
       "      <td>Quiet &amp; Bright flat</td>\n",
       "      <td>Well  located in Paris intra-muros  (2 min' from Olympiades Line 14 - 8' minutes from Place d'Italie, Lines 5, 6, 7). The  74 m² flat is in a 70's building, at the 26th floor (crazy view!). It has recently been refurbished.</td>\n",
       "      <td>Entire home/apt</td>\n",
       "      <td>500.0</td>\n",
       "    </tr>\n",
       "    <tr>\n",
       "      <th>4927689</th>\n",
       "      <td>London</td>\n",
       "      <td>Lovely 2-floor 2 bedroom garden flat in Islington</td>\n",
       "      <td>Split level basement flat in large Victorian town house, with excellent transport links. The flat consists of large double bedroom leading out to a garden area, second single bedroom, separate WC and shower, open plan living/dining/kitchen area.  This is a great space with two large bedrooms.  The living area works well for dining, relaxing and entertaining.  There is also a decent size patio/garden area, great for eating out when it gets a bit warmer. Some things to consider when making your booking.   A couple of guests have said that the ceilings in the lower floor are a bit lower than the pictures, but also that they are perfectly reasonable.  Could get a bit tricky if you are 6'5 (1.95m) plus maybe.  Some guests have also pointed out that they could hear noise from the house above from time to time, as they floorboards aren't soundproof.   Again none have said that this necessarily impacted their stay. Also please note that the shower and toilet are separate - have a look at the p</td>\n",
       "      <td>Entire home/apt</td>\n",
       "      <td>500.0</td>\n",
       "    </tr>\n",
       "  </tbody>\n",
       "</table>\n",
       "</div>"
      ],
      "text/plain": [
       "            City                                               Name  \\\n",
       "ID                                                                    \n",
       "11570020  London  Lovely & warm flat 12 mins from central London      \n",
       "2504482   Paris   Joli trois-pièces avec vue                          \n",
       "6987332   Paris   Appartement Paris Centre (9ème)                     \n",
       "5555235   Paris   Quiet & Bright flat                                 \n",
       "4927689   London  Lovely 2-floor 2 bedroom garden flat in Islington   \n",
       "\n",
       "                                                                                                                                                                                                                                                                                                                                                                                                                                                                                                                                                                                                                                                                                                                                                                                                                                                                                                                                                                                                                                       Description  \\\n",
       "ID                                                                                                                                                                                                                                                                                                                                                                                                                                                                                                                                                                                                                                                                                                                                                                                                                                                                                                                                                                                                                                                   \n",
       "11570020  Clapham North has amazing restaurants, bars and open space in the form if Clapham Common. The tube is about 60 seconds walk away. That takes you to central London in 10 minutes. Flat is neat and spacious with outside space, wifi, tv etc Anywhere Can offer travel and tourist tips Great restaurants, bars and an amazing park nearby. Super quick to central London! Clapham North tube station is 1 minute away and Clapham High Street overground station is 2 minutes away                                                                                                                                                                                                                                                                                                                                                                                                                                                                                                                                                        \n",
       "2504482   Ce trois-pièces, lumineux, calme et spacieux vous accueille tout près de la Place d'Italie et vous offre une magnifique sur tout Paris. A quelques minutes des métros Olympiades, Nationale, Place d'Italie. Nombreux commerces de qualité à proximité. Grand trois-pièces de 70m2, situé au 15è étage d'une tour particulièrement calme du 13ème arrondissement, cet appartement comporte une grande entrée, une cuisine/pièce-à-vivre, un salon, une chambre parentale (grand lit de 180cm composé de deux lits/sommiers de 90cm, suffisamment de place pour installer un lit bébé), une chambre pour un ou deux enfants, une salle de bain, des toilettes séparées. Notre quartier, situé entre la Place d'Italie, la Butte aux Cailles et le quartier des Gobelins, est à la fois populaire, calme et vivant. En quelques minutes de marche, vous aurez accès à de très bons commerces de bouche (excellents boulangers, fabuleux caviste et fromager par exemple) à de délicieux restaurants asiatiques, italiens,  grecques ou tou   \n",
       "6987332   Bel appartement du centre ville parisien (place Clichy) situé au 2e étage avec ascenseur. Haut de plafond, l'appartement est un F2-3 situé dans un quartier charismatique : Grands boulevards, Montmartre et Pigalle sont accessibles à pied. L'appartement est un F2-3 : il dispose d'une chambre indépendante (lit double), d'une autre chambre (lit double) en mezzanine donnant sur le salon, lui-même ouvert sur la cuisine avec bar.  WC et salle de bain séparés. Wifi, linge de lit et nécessaire de cuisine sont inclus (plaques à induction, micro-ondes, four, réfrigérateur...). Laverie automatique située à une rue. Toutes les pièces seront accessibles aux voyageurs. Nous ne serons pas sur place pendant la période où nous souhaitons mettre à disposition notre appartement, nous serons alors joignables par téléphone en cas de besoin. Pouvons nous déplacer si problème. Quartier dynamique et riche, la place de Clichy est un lieu très accessible en tout point : à pied vous vous situez à 15 minutes des G   \n",
       "5555235   Well  located in Paris intra-muros  (2 min' from Olympiades Line 14 - 8' minutes from Place d'Italie, Lines 5, 6, 7). The  74 m² flat is in a 70's building, at the 26th floor (crazy view!). It has recently been refurbished.                                                                                                                                                                                                                                                                                                                                                                                                                                                                                                                                                                                                                                                                                                                                                                                                            \n",
       "4927689   Split level basement flat in large Victorian town house, with excellent transport links. The flat consists of large double bedroom leading out to a garden area, second single bedroom, separate WC and shower, open plan living/dining/kitchen area.  This is a great space with two large bedrooms.  The living area works well for dining, relaxing and entertaining.  There is also a decent size patio/garden area, great for eating out when it gets a bit warmer. Some things to consider when making your booking.   A couple of guests have said that the ceilings in the lower floor are a bit lower than the pictures, but also that they are perfectly reasonable.  Could get a bit tricky if you are 6'5 (1.95m) plus maybe.  Some guests have also pointed out that they could hear noise from the house above from time to time, as they floorboards aren't soundproof.   Again none have said that this necessarily impacted their stay. Also please note that the shower and toilet are separate - have a look at the p   \n",
       "\n",
       "                Room Type  total_price_week  \n",
       "ID                                           \n",
       "11570020  Entire home/apt  500.0             \n",
       "2504482   Entire home/apt  500.0             \n",
       "6987332   Entire home/apt  500.0             \n",
       "5555235   Entire home/apt  500.0             \n",
       "4927689   Entire home/apt  500.0             "
      ]
     },
     "execution_count": 248,
     "metadata": {},
     "output_type": "execute_result"
    }
   ],
   "source": [
    "recommendations_house"
   ]
  },
  {
   "cell_type": "markdown",
   "metadata": {},
   "source": [
    "### Contact information"
   ]
  },
  {
   "cell_type": "code",
   "execution_count": 249,
   "metadata": {},
   "outputs": [
    {
     "data": {
      "text/html": [
       "<div>\n",
       "<style scoped>\n",
       "    .dataframe tbody tr th:only-of-type {\n",
       "        vertical-align: middle;\n",
       "    }\n",
       "\n",
       "    .dataframe tbody tr th {\n",
       "        vertical-align: top;\n",
       "    }\n",
       "\n",
       "    .dataframe thead th {\n",
       "        text-align: right;\n",
       "    }\n",
       "</style>\n",
       "<table border=\"1\" class=\"dataframe\">\n",
       "  <thead>\n",
       "    <tr style=\"text-align: right;\">\n",
       "      <th></th>\n",
       "      <th>City</th>\n",
       "      <th>Name</th>\n",
       "      <th>Listing Url</th>\n",
       "      <th>Host URL</th>\n",
       "    </tr>\n",
       "    <tr>\n",
       "      <th>ID</th>\n",
       "      <th></th>\n",
       "      <th></th>\n",
       "      <th></th>\n",
       "      <th></th>\n",
       "    </tr>\n",
       "  </thead>\n",
       "  <tbody>\n",
       "    <tr>\n",
       "      <th>11570020</th>\n",
       "      <td>London</td>\n",
       "      <td>Lovely &amp; warm flat 12 mins from central London</td>\n",
       "      <td>https://www.airbnb.com/rooms/11570020</td>\n",
       "      <td>https://www.airbnb.com/users/show/27348595</td>\n",
       "    </tr>\n",
       "    <tr>\n",
       "      <th>2504482</th>\n",
       "      <td>Paris</td>\n",
       "      <td>Joli trois-pièces avec vue</td>\n",
       "      <td>https://www.airbnb.com/rooms/2504482</td>\n",
       "      <td>https://www.airbnb.com/users/show/7035807</td>\n",
       "    </tr>\n",
       "    <tr>\n",
       "      <th>6987332</th>\n",
       "      <td>Paris</td>\n",
       "      <td>Appartement Paris Centre (9ème)</td>\n",
       "      <td>https://www.airbnb.com/rooms/6987332</td>\n",
       "      <td>https://www.airbnb.com/users/show/23116772</td>\n",
       "    </tr>\n",
       "    <tr>\n",
       "      <th>5555235</th>\n",
       "      <td>Paris</td>\n",
       "      <td>Quiet &amp; Bright flat</td>\n",
       "      <td>https://www.airbnb.com/rooms/5555235</td>\n",
       "      <td>https://www.airbnb.com/users/show/24411952</td>\n",
       "    </tr>\n",
       "    <tr>\n",
       "      <th>4927689</th>\n",
       "      <td>London</td>\n",
       "      <td>Lovely 2-floor 2 bedroom garden flat in Islington</td>\n",
       "      <td>https://www.airbnb.com/rooms/4927689</td>\n",
       "      <td>https://www.airbnb.com/users/show/4891639</td>\n",
       "    </tr>\n",
       "  </tbody>\n",
       "</table>\n",
       "</div>"
      ],
      "text/plain": [
       "            City                                               Name                            Listing Url                                    Host URL\n",
       "ID                                                                                                                                                    \n",
       "11570020  London  Lovely & warm flat 12 mins from central London     https://www.airbnb.com/rooms/11570020  https://www.airbnb.com/users/show/27348595\n",
       "2504482   Paris   Joli trois-pièces avec vue                         https://www.airbnb.com/rooms/2504482   https://www.airbnb.com/users/show/7035807 \n",
       "6987332   Paris   Appartement Paris Centre (9ème)                    https://www.airbnb.com/rooms/6987332   https://www.airbnb.com/users/show/23116772\n",
       "5555235   Paris   Quiet & Bright flat                                https://www.airbnb.com/rooms/5555235   https://www.airbnb.com/users/show/24411952\n",
       "4927689   London  Lovely 2-floor 2 bedroom garden flat in Islington  https://www.airbnb.com/rooms/4927689   https://www.airbnb.com/users/show/4891639 "
      ]
     },
     "execution_count": 249,
     "metadata": {},
     "output_type": "execute_result"
    }
   ],
   "source": [
    "recommendations_contact"
   ]
  }
 ],
 "metadata": {
  "kernelspec": {
   "display_name": "Python 3",
   "language": "python",
   "name": "python3"
  },
  "language_info": {
   "codemirror_mode": {
    "name": "ipython",
    "version": 3
   },
   "file_extension": ".py",
   "mimetype": "text/x-python",
   "name": "python",
   "nbconvert_exporter": "python",
   "pygments_lexer": "ipython3",
   "version": "3.7.6"
  }
 },
 "nbformat": 4,
 "nbformat_minor": 4
}
