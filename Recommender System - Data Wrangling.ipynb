{
 "cells": [
  {
   "cell_type": "markdown",
   "metadata": {},
   "source": [
    "# Data Wrangling\n",
    "\n",
    "The recommendation system that we are building will consider both information of residences from Airbnb Hosts as well as city features. In order to input these features into a recommendation system, we will generate a DataFrame containing one row per Host, that will include the features of the residence as well as the city in which the residence is located.\n",
    "\n",
    "To simplify the work, our initial scope for the project will be residences in the region of Europe.\n",
    "\n",
    "The dataset with residences has been obtained from https://public.opendatasoft.com/explore/dataset/airbnb-listings\n",
    "\n",
    "The datasets with features of cities has been obtained from https://ec.europa.eu/eurostat and https://www.numbeo.com"
   ]
  },
  {
   "cell_type": "markdown",
   "metadata": {},
   "source": [
    "## Import libraries"
   ]
  },
  {
   "cell_type": "code",
   "execution_count": 1,
   "metadata": {},
   "outputs": [],
   "source": [
    "import pandas as pd\n",
    "import numpy as np"
   ]
  },
  {
   "cell_type": "markdown",
   "metadata": {},
   "source": [
    "## Load Files\n",
    "\n",
    "This is the Airbnb listings dataset including around 500k residences in several countries and continents:"
   ]
  },
  {
   "cell_type": "code",
   "execution_count": 2,
   "metadata": {
    "scrolled": true
   },
   "outputs": [],
   "source": [
    "df = pd.read_csv(r'C:\\Users\\34658\\SPRINGBOARD\\Airbnb Recommender System - Capstone Project\\Notebooks\\Data\\residences\\airbnb-listings.csv', sep=';',low_memory=False)"
   ]
  },
  {
   "cell_type": "code",
   "execution_count": 3,
   "metadata": {
    "scrolled": true
   },
   "outputs": [
    {
     "data": {
      "text/html": [
       "<div>\n",
       "<style scoped>\n",
       "    .dataframe tbody tr th:only-of-type {\n",
       "        vertical-align: middle;\n",
       "    }\n",
       "\n",
       "    .dataframe tbody tr th {\n",
       "        vertical-align: top;\n",
       "    }\n",
       "\n",
       "    .dataframe thead th {\n",
       "        text-align: right;\n",
       "    }\n",
       "</style>\n",
       "<table border=\"1\" class=\"dataframe\">\n",
       "  <thead>\n",
       "    <tr style=\"text-align: right;\">\n",
       "      <th></th>\n",
       "      <th>ID</th>\n",
       "      <th>Listing Url</th>\n",
       "      <th>Scrape ID</th>\n",
       "      <th>Last Scraped</th>\n",
       "      <th>Name</th>\n",
       "      <th>Summary</th>\n",
       "      <th>Space</th>\n",
       "      <th>Description</th>\n",
       "      <th>Experiences Offered</th>\n",
       "      <th>Neighborhood Overview</th>\n",
       "      <th>...</th>\n",
       "      <th>Review Scores Communication</th>\n",
       "      <th>Review Scores Location</th>\n",
       "      <th>Review Scores Value</th>\n",
       "      <th>License</th>\n",
       "      <th>Jurisdiction Names</th>\n",
       "      <th>Cancellation Policy</th>\n",
       "      <th>Calculated host listings count</th>\n",
       "      <th>Reviews per Month</th>\n",
       "      <th>Geolocation</th>\n",
       "      <th>Features</th>\n",
       "    </tr>\n",
       "  </thead>\n",
       "  <tbody>\n",
       "    <tr>\n",
       "      <th>0</th>\n",
       "      <td>15802051</td>\n",
       "      <td>https://www.airbnb.com/rooms/15802051</td>\n",
       "      <td>20170304065726</td>\n",
       "      <td>2017-03-05</td>\n",
       "      <td>Large double available now.</td>\n",
       "      <td>Double room available</td>\n",
       "      <td>NaN</td>\n",
       "      <td>Double room available</td>\n",
       "      <td>none</td>\n",
       "      <td>NaN</td>\n",
       "      <td>...</td>\n",
       "      <td>9.0</td>\n",
       "      <td>10.0</td>\n",
       "      <td>10.0</td>\n",
       "      <td>NaN</td>\n",
       "      <td>NaN</td>\n",
       "      <td>strict</td>\n",
       "      <td>2.0</td>\n",
       "      <td>0.83</td>\n",
       "      <td>51.4814235208,-0.113258577959</td>\n",
       "      <td>Host Has Profile Pic</td>\n",
       "    </tr>\n",
       "  </tbody>\n",
       "</table>\n",
       "<p>1 rows × 89 columns</p>\n",
       "</div>"
      ],
      "text/plain": [
       "         ID                            Listing Url       Scrape ID  \\\n",
       "0  15802051  https://www.airbnb.com/rooms/15802051  20170304065726   \n",
       "\n",
       "  Last Scraped                         Name                Summary Space  \\\n",
       "0   2017-03-05  Large double available now.  Double room available   NaN   \n",
       "\n",
       "             Description Experiences Offered Neighborhood Overview  ...  \\\n",
       "0  Double room available                none                   NaN  ...   \n",
       "\n",
       "  Review Scores Communication Review Scores Location Review Scores Value  \\\n",
       "0                         9.0                   10.0                10.0   \n",
       "\n",
       "  License Jurisdiction Names Cancellation Policy  \\\n",
       "0     NaN                NaN              strict   \n",
       "\n",
       "  Calculated host listings count Reviews per Month  \\\n",
       "0                            2.0              0.83   \n",
       "\n",
       "                     Geolocation              Features  \n",
       "0  51.4814235208,-0.113258577959  Host Has Profile Pic  \n",
       "\n",
       "[1 rows x 89 columns]"
      ]
     },
     "execution_count": 3,
     "metadata": {},
     "output_type": "execute_result"
    }
   ],
   "source": [
    "df.head(1)"
   ]
  },
  {
   "cell_type": "code",
   "execution_count": 4,
   "metadata": {},
   "outputs": [
    {
     "data": {
      "text/plain": [
       "(494954, 89)"
      ]
     },
     "execution_count": 4,
     "metadata": {},
     "output_type": "execute_result"
    }
   ],
   "source": [
    "#it contains around 500k listings and 89 features per listing\n",
    "df.shape"
   ]
  },
  {
   "cell_type": "code",
   "execution_count": 5,
   "metadata": {
    "scrolled": false
   },
   "outputs": [
    {
     "data": {
      "text/plain": [
       "Index(['ID', 'Listing Url', 'Scrape ID', 'Last Scraped', 'Name', 'Summary',\n",
       "       'Space', 'Description', 'Experiences Offered', 'Neighborhood Overview',\n",
       "       'Notes', 'Transit', 'Access', 'Interaction', 'House Rules',\n",
       "       'Thumbnail Url', 'Medium Url', 'Picture Url', 'XL Picture Url',\n",
       "       'Host ID', 'Host URL', 'Host Name', 'Host Since', 'Host Location',\n",
       "       'Host About', 'Host Response Time', 'Host Response Rate',\n",
       "       'Host Acceptance Rate', 'Host Thumbnail Url', 'Host Picture Url',\n",
       "       'Host Neighbourhood', 'Host Listings Count',\n",
       "       'Host Total Listings Count', 'Host Verifications', 'Street',\n",
       "       'Neighbourhood', 'Neighbourhood Cleansed',\n",
       "       'Neighbourhood Group Cleansed', 'City', 'State', 'Zipcode', 'Market',\n",
       "       'Smart Location', 'Country Code', 'Country', 'Latitude', 'Longitude',\n",
       "       'Property Type', 'Room Type', 'Accommodates', 'Bathrooms', 'Bedrooms',\n",
       "       'Beds', 'Bed Type', 'Amenities', 'Square Feet', 'Price', 'Weekly Price',\n",
       "       'Monthly Price', 'Security Deposit', 'Cleaning Fee', 'Guests Included',\n",
       "       'Extra People', 'Minimum Nights', 'Maximum Nights', 'Calendar Updated',\n",
       "       'Has Availability', 'Availability 30', 'Availability 60',\n",
       "       'Availability 90', 'Availability 365', 'Calendar last Scraped',\n",
       "       'Number of Reviews', 'First Review', 'Last Review',\n",
       "       'Review Scores Rating', 'Review Scores Accuracy',\n",
       "       'Review Scores Cleanliness', 'Review Scores Checkin',\n",
       "       'Review Scores Communication', 'Review Scores Location',\n",
       "       'Review Scores Value', 'License', 'Jurisdiction Names',\n",
       "       'Cancellation Policy', 'Calculated host listings count',\n",
       "       'Reviews per Month', 'Geolocation', 'Features'],\n",
       "      dtype='object')"
      ]
     },
     "execution_count": 5,
     "metadata": {},
     "output_type": "execute_result"
    }
   ],
   "source": [
    "#check the features of the dataframe\n",
    "df.columns"
   ]
  },
  {
   "cell_type": "code",
   "execution_count": 6,
   "metadata": {},
   "outputs": [
    {
     "name": "stdout",
     "output_type": "stream",
     "text": [
      "['United Kingdom' 'United States' 'Spain' 'Australia' 'Canada'\n",
      " 'Netherlands' 'Germany' 'Greece' 'Belgium' 'Ireland' 'Hong Kong'\n",
      " 'Switzerland' 'France' 'China' 'Denmark' 'Italy' 'Austria' nan 'Mexico'\n",
      " '0' 'Uruguay' 'Vanuatu' 'Vatican City' 'Cuba']\n"
     ]
    }
   ],
   "source": [
    "#get the list of unique countries\n",
    "countries = df.Country.unique()\n",
    "print(countries)"
   ]
  },
  {
   "cell_type": "code",
   "execution_count": 7,
   "metadata": {
    "scrolled": true
   },
   "outputs": [
    {
     "data": {
      "text/plain": [
       "Country       \n",
       "United States     134545\n",
       "United Kingdom     61041\n",
       "France             56562\n",
       "Spain              45844\n",
       "Australia          40693\n",
       "Italy              33146\n",
       "Canada             30787\n",
       "Germany            20576\n",
       "Denmark            20545\n",
       "Netherlands        15181\n",
       "Austria             7893\n",
       "Belgium             7419\n",
       "Ireland             6729\n",
       "Hong Kong           6423\n",
       "Greece              5127\n",
       "Switzerland         2381\n",
       "China                 51\n",
       "Vatican City           2\n",
       "Mexico                 2\n",
       "Cuba                   1\n",
       "Vanuatu                1\n",
       "Uruguay                1\n",
       "0                      1\n",
       "dtype: int64"
      ]
     },
     "execution_count": 7,
     "metadata": {},
     "output_type": "execute_result"
    }
   ],
   "source": [
    "# Europe (262k) and North America (160k) have the most residences in the dataset\n",
    "# Asia/Oceania (46k) is mainly conformed of residences in Australia (40k) and Hong Kong (6k)\n",
    "# South America (4) have only residual information\n",
    "#we will focus on the europe residences in this project\n",
    "df[['Country']].value_counts()"
   ]
  },
  {
   "cell_type": "code",
   "execution_count": 8,
   "metadata": {},
   "outputs": [],
   "source": [
    "#subset the original dataset into regions. we will focus on europe in this pilot project\n",
    "europe = ['United Kingdom','Spain','Netherlands','Germany','Greece','Belgium','Ireland',\n",
    "      'Switzerland','France','Denmark','Italy','Austria','Vatican City']\n",
    "america = ['United States','Canada']\n",
    "asia = ['China','Hong Kong','Australia','Vanuatu']\n",
    "latam = ['Mexico','Uruguay','Cuba']\n",
    "\n",
    "#create region datasets\n",
    "eu = df[df['Country'].isin(europe)]\n",
    "na = df[df['Country'].isin(america)]\n",
    "ap = df[df['Country'].isin(asia)]\n",
    "sa = df[df['Country'].isin(latam)]"
   ]
  },
  {
   "cell_type": "markdown",
   "metadata": {},
   "source": [
    "## Europe Region - Subsetting the top 50 cities with more listings\n",
    "\n",
    "We will further analyze and breakdown the europe listings to extract some features that we will utilize in this pilot project. In particular, we are initially interested in extracting the location of the listing, the characteristics of the listing (nº of bedrooms, price, as well as some information about the host and the ratings given by guests."
   ]
  },
  {
   "cell_type": "code",
   "execution_count": 9,
   "metadata": {
    "scrolled": true
   },
   "outputs": [
    {
     "data": {
      "text/plain": [
       "(282446, 89)"
      ]
     },
     "execution_count": 9,
     "metadata": {},
     "output_type": "execute_result"
    }
   ],
   "source": [
    "#there are 282k listings in europe region\n",
    "eu.shape"
   ]
  },
  {
   "cell_type": "code",
   "execution_count": 10,
   "metadata": {
    "scrolled": true
   },
   "outputs": [
    {
     "data": {
      "text/plain": [
       "Country         City              \n",
       "France          Paris                 54512\n",
       "United Kingdom  London                47423\n",
       "Germany         Berlin                20454\n",
       "Italy           Roma                  18618\n",
       "Spain           Barcelona             17431\n",
       "Netherlands     Amsterdam             14869\n",
       "Denmark         København             13805\n",
       "Spain           Madrid                13207\n",
       "United Kingdom  Edinburgh              6130\n",
       "Austria         Wien                   6121\n",
       "Italy           Rome                   6064\n",
       "Ireland         Dublin                 4263\n",
       "Italy           Venezia                4067\n",
       "Greece          Athina                 3560\n",
       "Denmark         Copenhagen             3326\n",
       "                Frederiksberg          2391\n",
       "Spain           Palma                  1994\n",
       "Austria         Vienna                 1670\n",
       "Italy           Venice                 1528\n",
       "Switzerland     Genève                 1429\n",
       "Belgium         Bruxelles              1245\n",
       "Greece          Athens                 1041\n",
       "Belgium         Antwerpen              1026\n",
       "                Ixelles                1016\n",
       "Spain           Pollença                991\n",
       "                Alcúdia                 862\n",
       "United Kingdom  Greater London          850\n",
       "                Manchester              810\n",
       "Spain           Palma de Mallorca       728\n",
       "Belgium         Saint-Gilles            654\n",
       "Switzerland     Geneva                  430\n",
       "Belgium         Brussels                397\n",
       "                Schaerbeek              380\n",
       "Spain           Llucmajor               363\n",
       "Belgium         Etterbeek               348\n",
       "Greece          Αθήνα                   339\n",
       "Belgium         Forest                  275\n",
       "Spain           Manacor                 272\n",
       "                Campos                  270\n",
       "                Can Picafort            266\n",
       "United Kingdom  Richmond                261\n",
       "Spain           Santanyí                259\n",
       "United Kingdom  Twickenham              255\n",
       "Spain           Sóller                  250\n",
       "                Muro                    246\n",
       "Belgium         Uccle                   245\n",
       "Spain           Felanitx                232\n",
       "United Kingdom  Croydon                 222\n",
       "Belgium         Brussel                 219\n",
       "Spain           Inca                    202\n",
       "Italy           Lido                    198\n",
       "Netherlands     Amsterdam-Zuidoost      198\n",
       "Spain           Sa Pobla                198\n",
       "dtype: int64"
      ]
     },
     "execution_count": 10,
     "metadata": {},
     "output_type": "execute_result"
    }
   ],
   "source": [
    "#For this pilot project, we will focus on the top 50 cities with more listings\n",
    "first_50 = eu[['Country','City']].value_counts().head(53)\n",
    "first_50.head(53)"
   ]
  },
  {
   "cell_type": "markdown",
   "metadata": {},
   "source": [
    "**Some cities** in the top 50 **are duplicated** in some way, either by having different names (e.g. in english and local) or by being a big burought within a city (e.g. Amsterdam and Amsterdam-Zuidoost).\n",
    "\n",
    "Some evident duplicates straight away are: \"Rome and Roma\", \"København and Copenhage\", \"Geneva and Genéve\", \"Bruxelles and Brussel\", \"Venice and Venize\" and \"Palma and Palma de Mallorca\", \"London and Greater London\", \"Amsterdam and Amsterdam-Zuidoost\" and \"Athens, Athina and Αθήνα\".\n",
    "\n",
    "However, **there may be also boroughts in big cities that do not show and should be added in the city they belong.**\n",
    "\n",
    "To solve this issue, we will filter country by country the top 15-20 cities with more listings and individually check whether these buroughts should be added to their city or not."
   ]
  },
  {
   "cell_type": "code",
   "execution_count": 11,
   "metadata": {
    "scrolled": true
   },
   "outputs": [
    {
     "name": "stdout",
     "output_type": "stream",
     "text": [
      "Before city name convergence, the first 50 cities group 91.0 % of the listings in the dataset\n"
     ]
    }
   ],
   "source": [
    "print('Before city name convergence, the first 50 cities group',np.round((first_50.sum()/282444),2)*100,'% of the listings in the dataset')"
   ]
  },
  {
   "cell_type": "markdown",
   "metadata": {},
   "source": [
    "## Convergence of i. cities named in different ways, and ii. buroughts within such cities\n",
    "\n",
    "Before starting with this task, we will set some criteria to make the convergence:\n",
    "\n",
    "1. We will first list the 15 cities with more listings per country. If the listing count is still very high at city 15, we will add 5 more and keep repeating until the number is in line with other cities.\n",
    "2. In relation with the **buroughts/small towns/populations** close or very close to big cities:\n",
    "   * if they are clearly a burough or very close to the city (inside peripheria) we will add them to the city.\n",
    "   * if the city is very wide, and therefore has a wider urbanised peripheria, we will set a limit radius and only pick the ones inside that radius. Depending of the city area, this radius will be larger or smaller.\n",
    "   * If they can be visually split from the city in a map, due to having some unurbanized area between them, we will not consider them as part of the city.\n",
    "\n",
    "Based on this criteria, we will proceed to identify and make a convergence of city names and buroughts. After doing this, we expect to see a different set of the 50 cities with more listings, and a greater number of listings within the cities that already appeared in the first top 50 list."
   ]
  },
  {
   "cell_type": "markdown",
   "metadata": {},
   "source": [
    "### France top cities by nº of residences\n",
    "\n",
    "Top 15 cities in France are actually all different Paris buroughs, we will converge all of them into Paris.\n",
    "\n",
    "Acknowledging that the *\"Arrondissments\"* are the buroughs from Paris, we decided to extend the list of cities to get them all, even though the count was already small enough to stop there in the first 15 cities."
   ]
  },
  {
   "cell_type": "code",
   "execution_count": 12,
   "metadata": {
    "scrolled": true
   },
   "outputs": [
    {
     "data": {
      "text/plain": [
       "Country  City                    \n",
       "France   Paris                       54512\n",
       "         Paris-19E-Arrondissement      170\n",
       "         Paris-15E-Arrondissement      148\n",
       "         Paris-18E-Arrondissement      121\n",
       "         Paris-20E-Arrondissement      112\n",
       "         Paris-16E-Arrondissement       94\n",
       "         Paris-11E-Arrondissement       90\n",
       "         Paris-10E-Arrondissement       81\n",
       "         Paris-17E-Arrondissement       77\n",
       "         Paris-13E-Arrondissement       76\n",
       "         Paris-14E-Arrondissement       75\n",
       "         Paris-12E-Arrondissement       70\n",
       "         Paris-4E-Arrondissement        64\n",
       "         Boulogne-Billancourt           61\n",
       "         Paris-3E-Arrondissement        61\n",
       "         Paris-1ER-Arrondissement       43\n",
       "         Neuilly-sur-Seine              41\n",
       "         Paris-2E-Arrondissement        41\n",
       "         Paris-5E-Arrondissement        40\n",
       "         PARIS                          32\n",
       "         Paris-8E-Arrondissement        30\n",
       "         Issy-les-Moulineaux            29\n",
       "         Paris-6E-Arrondissement        26\n",
       "         paris                          25\n",
       "         Saint-Ouen                     21\n",
       "         Vincennes                      21\n",
       "dtype: int64"
      ]
     },
     "execution_count": 12,
     "metadata": {},
     "output_type": "execute_result"
    }
   ],
   "source": [
    "# 1 France cities\n",
    "eu[eu['Country'] =='France'][['Country','City']].value_counts().head(26)"
   ]
  },
  {
   "cell_type": "code",
   "execution_count": 13,
   "metadata": {},
   "outputs": [],
   "source": [
    "#create a list with all the duplicates from paris\n",
    "Paris_duplicates = ['Paris-19E-Arrondissement','Paris-15E-Arrondissement','Paris-18E-Arrondissement','Paris-20E-Arrondissement',\n",
    "                   'Paris-16E-Arrondissement','Paris-11E-Arrondissement','Paris-10E-Arrondissement','Paris-17E-Arrondissement',\n",
    "                   'Paris-13E-Arrondissement','Paris-14E-Arrondissement','Paris-12E-Arrondissement','Paris-4E-Arrondissement',\n",
    "                   'Paris-3E-Arrondissement','Paris-1ER-Arrondissement','Paris-2E-Arrondissement','Paris-5E-Arrondissement',\n",
    "                    'Paris-8E-Arrondissement','Paris-6E-Arrondissement','Paris-6E-Arrondissement','Paris-7E-Arrondissement',\n",
    "                   'paris','PARIS']"
   ]
  },
  {
   "cell_type": "markdown",
   "metadata": {},
   "source": [
    "### Germany top cities by nº of residences\n",
    "\n",
    "Top 15 cities in Germany are mainly Berlin in different languages and Berlin buroughs.\n",
    "\n",
    "We converge them directly to Berlin."
   ]
  },
  {
   "cell_type": "code",
   "execution_count": 14,
   "metadata": {
    "scrolled": true
   },
   "outputs": [
    {
     "data": {
      "text/plain": [
       "Country  City                  \n",
       "Germany  Berlin                    20454\n",
       "         米特                            8\n",
       "         berlin                        8\n",
       "         Berlino                       6\n",
       "         Berlin, Berlin, DE            5\n",
       "         柏林                            5\n",
       "         Berlin, friedrichshain        4\n",
       "         Berlin-Mitte                  4\n",
       "         Berlin-Schöneberg             3\n",
       "         Berlin Neukölln               3\n",
       "         Berlin-Friedrichshain         3\n",
       "         Prenzlauer Berg               3\n",
       "         Berlin-Wilmersdorf            3\n",
       "         Берлин                        3\n",
       "         Berlin-Neukölln               2\n",
       "dtype: int64"
      ]
     },
     "execution_count": 14,
     "metadata": {},
     "output_type": "execute_result"
    }
   ],
   "source": [
    "# 2 Germany cities\n",
    "eu[eu['Country'] =='Germany'][['Country','City']].value_counts().head(15)"
   ]
  },
  {
   "cell_type": "code",
   "execution_count": 15,
   "metadata": {},
   "outputs": [],
   "source": [
    "Berlin_duplicates = ['berlin','Berlino','Berlin, Berlin, DE','Berlin, friedrichshain','Berlin-Mitte','Berlin-Schöneberg','Berlin Neukölln',\n",
    "                     'Berlin-Friedrichshain','Prenzlauer Berg','Berlin-Wilmersdorf','Берлин','Berlin-Neukölln']"
   ]
  },
  {
   "cell_type": "markdown",
   "metadata": {},
   "source": [
    "### Spain top cities by nº of residences\n",
    "\n",
    "Spain had many residences in several different cities and towns, it is quite an special case because compared to other countries, there are many listings in places such as Palma de Mallorca island, which are actually different towns and villages separate from its main city \"Palma de Mallorca\". We grouped Palma, Alcudia, Pollensa and Inca.\n",
    "\n",
    "As there were many residences in different cities, we increased ad-hoc the number of cities to be shown to 40 cities, aiming to see if there were more duplicates, but as commented, mostly the cities were individual cities in the island of Palma de Mallorca, being different towns than the city Palma de Mallorca. Therefore, we did not add them."
   ]
  },
  {
   "cell_type": "code",
   "execution_count": 16,
   "metadata": {
    "scrolled": false
   },
   "outputs": [
    {
     "data": {
      "text/plain": [
       "Country  City                      \n",
       "Spain    Barcelona                     17431\n",
       "         Madrid                        13207\n",
       "         Palma                          1994\n",
       "         Pollença                        991\n",
       "         Alcúdia                         862\n",
       "         Palma de Mallorca               728\n",
       "         Llucmajor                       363\n",
       "         Manacor                         272\n",
       "         Campos                          270\n",
       "         Can Picafort                    266\n",
       "         Santanyí                        259\n",
       "         Sóller                          250\n",
       "         Muro                            246\n",
       "         Felanitx                        232\n",
       "         Inca                            202\n",
       "         Sa Pobla                        198\n",
       "         Illes Balears                   192\n",
       "         Colònia de Sant Jordi           176\n",
       "         Andratx                         165\n",
       "         Alcudia                         159\n",
       "         Calvià                          155\n",
       "         Capdepera                       132\n",
       "         Son Servera                     131\n",
       "         Santa Margalida                 126\n",
       "         Selva                           126\n",
       "         Algaida                         123\n",
       "         Cala Ratjada                    122\n",
       "         Sant Llorenç des Cardassar      121\n",
       "         Pollensa                        117\n",
       "         Artà                            113\n",
       "         Can Pastilla                    110\n",
       "         Valldemossa                     108\n",
       "         Porto Cristo                    107\n",
       "         Portocolom                      101\n",
       "         Sa Ràpita                       101\n",
       "         Port de Pollença                 98\n",
       "         Cala Sant Vicenç                 93\n",
       "         Búger                            93\n",
       "         Llubí                            90\n",
       "         Campanet                         89\n",
       "dtype: int64"
      ]
     },
     "execution_count": 16,
     "metadata": {},
     "output_type": "execute_result"
    }
   ],
   "source": [
    "# 3 Spain cities\n",
    "eu[eu['Country'] =='Spain'][['Country','City']].value_counts().head(40)"
   ]
  },
  {
   "cell_type": "code",
   "execution_count": 17,
   "metadata": {},
   "outputs": [],
   "source": [
    "Palma_duplicates = ['Palma']\n",
    "Alcudia_duplicates = ['Alcúdia']\n",
    "Pollensa_duplicates = ['Pollença','Port de Pollença']\n",
    "Inca_duplicates = ['Selva','Algaida']"
   ]
  },
  {
   "cell_type": "markdown",
   "metadata": {},
   "source": [
    "### Italy top cities by nº of residences\n",
    "\n",
    "Top cities from Italy were mainly Rome, Venice and Lido, which were named differently. Also there was a burough from Roma included."
   ]
  },
  {
   "cell_type": "code",
   "execution_count": 18,
   "metadata": {
    "scrolled": true
   },
   "outputs": [
    {
     "data": {
      "text/plain": [
       "Country  City                \n",
       "Italy    Roma                    18618\n",
       "         Rome                     6064\n",
       "         Venezia                  4067\n",
       "         Venice                   1528\n",
       "         Lido                      198\n",
       "         Lido di Ostia             189\n",
       "         Trento                    132\n",
       "         Riva del Garda            111\n",
       "         Arco                       65\n",
       "         Municipio Roma X           59\n",
       "         Mestre                     49\n",
       "         Rovereto                   43\n",
       "         Madonna di Campiglio       41\n",
       "         Pinzolo                    37\n",
       "         Canazei                    32\n",
       "dtype: int64"
      ]
     },
     "execution_count": 18,
     "metadata": {},
     "output_type": "execute_result"
    }
   ],
   "source": [
    "# 4 Italy cities\n",
    "eu[eu['Country'] =='Italy'][['Country','City']].value_counts().head(15)"
   ]
  },
  {
   "cell_type": "code",
   "execution_count": 19,
   "metadata": {},
   "outputs": [],
   "source": [
    "Rome_duplicates = ['Roma','Municipio Roma X']\n",
    "Venice_duplicates = ['Venezia']\n",
    "Lido_duplicates = ['Lido di Ostia']"
   ]
  },
  {
   "cell_type": "markdown",
   "metadata": {},
   "source": [
    "### Greece top cities by nº of residences\n",
    "\n",
    "Top cities from Greece were mainly Athens, named in different languages and buroughs of Athens.\n",
    "\n",
    "We added them to Athens city."
   ]
  },
  {
   "cell_type": "code",
   "execution_count": 20,
   "metadata": {
    "scrolled": true
   },
   "outputs": [
    {
     "data": {
      "text/plain": [
       "Country  City                    \n",
       "Greece   Athina                      3560\n",
       "         Athens                      1041\n",
       "         Αθήνα                        339\n",
       "         Kesariani                      9\n",
       "         Ampelokipoi                    8\n",
       "         Zografou                       7\n",
       "         Dafni                          6\n",
       "         Kentrikos Tomeas Athinon       6\n",
       "         Neo Psichiko                   5\n",
       "         Kallithea                      5\n",
       "         Athènes                        4\n",
       "         Nea Smirni                     4\n",
       "         Vironas                        4\n",
       "         Kolonaki, Athens               4\n",
       "         Koukaki                        3\n",
       "dtype: int64"
      ]
     },
     "execution_count": 20,
     "metadata": {},
     "output_type": "execute_result"
    }
   ],
   "source": [
    "# 5 Greek cities\n",
    "eu[eu['Country'] =='Greece'][['Country','City']].value_counts().head(15)"
   ]
  },
  {
   "cell_type": "code",
   "execution_count": 21,
   "metadata": {},
   "outputs": [],
   "source": [
    "Athens_duplicates = ['Athina','Αθήνα','Athènes','Kesariani','Kolonaki, Athens','Koukaki','Kallithea','Zografou',\n",
    "                     'Nea Smirni','Ampelokipoi','Vironas','Neo Psichiko','Kentrikos Tomeas Athinon','Dafni']"
   ]
  },
  {
   "cell_type": "markdown",
   "metadata": {},
   "source": [
    "### Denmark top cities by nº of residences\n",
    "\n",
    "Top cities from Denmark were mainly Copenhagen and Frederiksberg. There were also several buroughs from Copenhagen and one from Frederiksberg.\n",
    "\n",
    "We added them to both cities, respectively."
   ]
  },
  {
   "cell_type": "code",
   "execution_count": 22,
   "metadata": {},
   "outputs": [
    {
     "data": {
      "text/plain": [
       "Country  City           \n",
       "Denmark  København          13805\n",
       "         Copenhagen          3326\n",
       "         Frederiksberg       2391\n",
       "         København V          107\n",
       "         København S           88\n",
       "         Valby                 88\n",
       "         København N           81\n",
       "         Hellerup              69\n",
       "         Vanløse               60\n",
       "         København K           59\n",
       "         Frederiksberg C       51\n",
       "         København Ø           40\n",
       "         København NV          28\n",
       "         Brønshøj              27\n",
       "         Kastrup               20\n",
       "dtype: int64"
      ]
     },
     "execution_count": 22,
     "metadata": {},
     "output_type": "execute_result"
    }
   ],
   "source": [
    "# 6 Denmark cities\n",
    "eu[eu['Country'] =='Denmark'][['Country','City']].value_counts().head(15)"
   ]
  },
  {
   "cell_type": "code",
   "execution_count": 23,
   "metadata": {},
   "outputs": [],
   "source": [
    "Copenhagen_duplicates =['København','København V','København S','København N','København K','København Ø','København NV',\n",
    "                     'Valby','Brønshøj','Kastrup','Vanløse','Frederiksberg','Frederiksberg C']"
   ]
  },
  {
   "cell_type": "markdown",
   "metadata": {},
   "source": [
    "### Austria top cities by nº of residences\n",
    "\n",
    "Top city in Austria was Vienna written in different languages and some of its buroughs.\n",
    "\n",
    "We added them to Vienna."
   ]
  },
  {
   "cell_type": "code",
   "execution_count": 24,
   "metadata": {},
   "outputs": [
    {
     "data": {
      "text/plain": [
       "Country  City          \n",
       "Austria  Wien              6121\n",
       "         Vienna            1670\n",
       "         维也纳                 20\n",
       "         Wien, Wien, AT       8\n",
       "         wien                 4\n",
       "         Innere Stadt         3\n",
       "         Josefstadt           3\n",
       "         Wieden               3\n",
       "         Wien 1180            3\n",
       "         Brigittenau          2\n",
       "         Neubau               2\n",
       "         ウィーン                 2\n",
       "         Wien 1150            2\n",
       "         Wien 15              2\n",
       "         Vienne               2\n",
       "dtype: int64"
      ]
     },
     "execution_count": 24,
     "metadata": {},
     "output_type": "execute_result"
    }
   ],
   "source": [
    "# 7 Austrian cities\n",
    "eu[eu['Country'] =='Austria'][['Country','City']].value_counts().head(15)"
   ]
  },
  {
   "cell_type": "code",
   "execution_count": 25,
   "metadata": {},
   "outputs": [],
   "source": [
    "Vienna_duplicates = ['Wien','维也纳','Wien, Wien, AT','wien','Innere Stadt','Josefstadt','Brigittenau','Neubau','Wieden','Wien 1180','ウィーン','Wien 1150','Wien 15','Vienne']"
   ]
  },
  {
   "cell_type": "markdown",
   "metadata": {},
   "source": [
    "### Ireland top cities by nº of residences\n",
    "\n",
    "Top city in Ireland was Dublin and many of its buroughs and very close peripherical towns or populations.\n",
    "\n",
    "We added them to the city of Dublin."
   ]
  },
  {
   "cell_type": "code",
   "execution_count": 26,
   "metadata": {},
   "outputs": [
    {
     "data": {
      "text/plain": [
       "Country  City       \n",
       "Ireland  Dublin         4263\n",
       "         Ballsbridge     152\n",
       "         Rathmines       133\n",
       "         Drumcondra      116\n",
       "         Ringsend        114\n",
       "         Ranelagh         96\n",
       "         Sandymount       88\n",
       "         Blackrock        74\n",
       "         Swords           71\n",
       "         Dublin 8         57\n",
       "         Malahide         56\n",
       "         Clontarf         54\n",
       "         Donnybrook       45\n",
       "         Sutton           41\n",
       "         Lucan            39\n",
       "dtype: int64"
      ]
     },
     "execution_count": 26,
     "metadata": {},
     "output_type": "execute_result"
    }
   ],
   "source": [
    "# 8 Ireland cities\n",
    "eu[eu['Country'] =='Ireland'][['Country','City']].value_counts().head(15)"
   ]
  },
  {
   "cell_type": "code",
   "execution_count": 27,
   "metadata": {},
   "outputs": [],
   "source": [
    "Dublin_duplicates = ['Ballsbridge','Rathmines','Drumcondra','Ringsend','Ranelagh','Sandymount','Dublin 8',\n",
    "                     'Clontarf','Donnybrook','Blackrock','Lucan','Sutton']"
   ]
  },
  {
   "cell_type": "markdown",
   "metadata": {},
   "source": [
    "### United Kingdom top cities by nº of residences\n",
    "\n",
    "Top cities from United kingdom were London, Edinburg and Manchester. There were many towns and populations as well as London buroughs.\n",
    "\n",
    "We added to London populations or towns that were in a radius of around 15km from the city of London."
   ]
  },
  {
   "cell_type": "code",
   "execution_count": 28,
   "metadata": {},
   "outputs": [
    {
     "data": {
      "text/plain": [
       "Country         City                \n",
       "United Kingdom  London                  47423\n",
       "                Edinburgh                6130\n",
       "                Greater London            850\n",
       "                Manchester                810\n",
       "                Richmond                  261\n",
       "                Twickenham                255\n",
       "                Croydon                   222\n",
       "                Londres                   193\n",
       "                Harrow                    187\n",
       "                Edgware                   178\n",
       "                Wembley                   172\n",
       "                Ilford                    171\n",
       "                Kingston upon Thames      166\n",
       "                Bromley                   137\n",
       "                Hounslow                  122\n",
       "                Londra                    111\n",
       "                Enfield                    95\n",
       "                Isleworth                  84\n",
       "                Mitcham                    79\n",
       "                Sutton                     76\n",
       "                Barking                    71\n",
       "                Beckenham                  69\n",
       "dtype: int64"
      ]
     },
     "execution_count": 28,
     "metadata": {},
     "output_type": "execute_result"
    }
   ],
   "source": [
    "# 9 United Kingdom cities. We widen to first 20 as there are more cities in this country. We will include anything\n",
    "#in a radius of 15 km from london center\n",
    "eu[eu['Country'] =='United Kingdom'][['Country','City']].value_counts().head(22)"
   ]
  },
  {
   "cell_type": "code",
   "execution_count": 29,
   "metadata": {},
   "outputs": [],
   "source": [
    "London_duplicates = ['Greater London','Londres','Londra','Croydon','Twickenham','Edgware',\n",
    "                     'Wembley','Bromley','Isleworth','Mitcham']"
   ]
  },
  {
   "cell_type": "markdown",
   "metadata": {},
   "source": [
    "### Belgium top cities by nº of residences\n",
    "\n",
    "Top cities from Belgium were Brussels and Antwerpen written in different ways as well as many buroughs of Brussels.\n",
    "\n",
    "We added them to their respective cities."
   ]
  },
  {
   "cell_type": "code",
   "execution_count": 30,
   "metadata": {},
   "outputs": [
    {
     "data": {
      "text/plain": [
       "Country  City                 \n",
       "Belgium  Bruxelles                1245\n",
       "         Antwerpen                1026\n",
       "         Ixelles                  1016\n",
       "         Saint-Gilles              654\n",
       "         Brussels                  397\n",
       "         Schaerbeek                380\n",
       "         Etterbeek                 348\n",
       "         Forest                    275\n",
       "         Uccle                     245\n",
       "         Brussel                   219\n",
       "         Antwerp                   193\n",
       "         Anderlecht                186\n",
       "         Saint-Josse-ten-Noode     147\n",
       "         Woluwe-Saint-Pierre        98\n",
       "         Ville de Bruxelles         97\n",
       "         Auderghem                  96\n",
       "         Woluwe-Saint-Lambert       85\n",
       "         Molenbeek-Saint-Jean       79\n",
       "         Watermael-Boitsfort        62\n",
       "         City of Brussels           59\n",
       "dtype: int64"
      ]
     },
     "execution_count": 30,
     "metadata": {},
     "output_type": "execute_result"
    }
   ],
   "source": [
    "# 10 Belgium cities\n",
    "eu[eu['Country'] =='Belgium'][['Country','City']].value_counts().head(20)"
   ]
  },
  {
   "cell_type": "code",
   "execution_count": 31,
   "metadata": {},
   "outputs": [],
   "source": [
    "Brussels_duplicates = ['Brussel','Bruxelles','Ixelles','Saint-Gilles','Schaerbeek','Etterbeek','Forest','Uccle','Anderlecht',\n",
    "                       'Saint-Josse-ten-Noode','Woluwe-Saint-Pierre','Ville de Bruxelles','Auderghem','Woluwe-Saint-Lambert'\n",
    "                      ,'Molenbeek-Saint-Jean','Watermael-Boitsfort','City of Brussels']\n",
    "Antwerp_duplicates = ['Antwerpen']\n"
   ]
  },
  {
   "cell_type": "markdown",
   "metadata": {},
   "source": [
    "### Netherlands top cities by nº of residences\n",
    "\n",
    "Top cities from The Netherlands were Amsterdam written in different ways as well as several buroughs of Amsterdam.\n",
    "\n",
    "We added them to the city of Amsterdam."
   ]
  },
  {
   "cell_type": "code",
   "execution_count": 32,
   "metadata": {},
   "outputs": [
    {
     "data": {
      "text/plain": [
       "Country      City                        \n",
       "Netherlands  Amsterdam                       14869\n",
       "             Amsterdam-Zuidoost                198\n",
       "             Amsterdam Zuid-Oost                54\n",
       "             De Pijp                             6\n",
       "             Amstelveen                          5\n",
       "             Jordaan                             5\n",
       "             Watergraafsmeer                     5\n",
       "             Amsterdam Zuidoost                  4\n",
       "             Ámsterdam                           4\n",
       "             Badhoevedorp                        3\n",
       "             Amsterdam (Zunderdorp)              3\n",
       "             Diemen                              2\n",
       "             Zeeburg                             2\n",
       "             Am                                  1\n",
       "             Amsterda                            1\n",
       "             AMSTERDAM                           1\n",
       "             Amsterdam West                      1\n",
       "             Amsterdam, Noord-Holland, NL        1\n",
       "             Amsterdão                           1\n",
       "             Амстердам                           1\n",
       "dtype: int64"
      ]
     },
     "execution_count": 32,
     "metadata": {},
     "output_type": "execute_result"
    }
   ],
   "source": [
    "# 11 Netherlands cities\n",
    "eu[eu['Country'] =='Netherlands'][['Country','City']].value_counts().head(20)"
   ]
  },
  {
   "cell_type": "code",
   "execution_count": 33,
   "metadata": {},
   "outputs": [],
   "source": [
    "Amsterdam_duplicates = ['Amsterdam-Zuidoost','Amsterdam Zuid-Oost','De Pijp','Amstelveen','Jordaan','Watergraafsmeer',\n",
    "                       'Amsterdam Zuidoost','Ámsterdam','Amsterdam (Zunderdorp)','Diemen','Zeeburg','Am','Amsterda','AMSTERDAM'\n",
    "                       ,'Amsterdam West','Amsterdam, Noord-Holland, NL','Амстердам']"
   ]
  },
  {
   "cell_type": "markdown",
   "metadata": {},
   "source": [
    "### Switzerland top cities by nº of residences\n",
    "\n",
    "Top city of Switzerland was Geneva written in different ways, as well as several buroughs of Geneva.\n",
    "\n",
    "We added them to the city of Geneva."
   ]
  },
  {
   "cell_type": "code",
   "execution_count": 34,
   "metadata": {},
   "outputs": [
    {
     "data": {
      "text/plain": [
       "Country      City              \n",
       "Switzerland  Genève                1429\n",
       "             Geneva                 430\n",
       "             Carouge                 79\n",
       "             Thônex                  26\n",
       "             Vernier                 25\n",
       "             Le Grand-Saconnex       24\n",
       "             Meyrin                  24\n",
       "             Chêne-Bourg             22\n",
       "             Lancy                   21\n",
       "             Onex                    20\n",
       "             Chêne-Bougeries         19\n",
       "             Bellevue                18\n",
       "             Versoix                 18\n",
       "             Cologny                 15\n",
       "             Plan-les-Ouates         14\n",
       "             Grand-Lancy             14\n",
       "             Collonge-Bellerive      11\n",
       "             Veyrier                 10\n",
       "             Vésenaz                  9\n",
       "             Grand-Saconnex           9\n",
       "dtype: int64"
      ]
     },
     "execution_count": 34,
     "metadata": {},
     "output_type": "execute_result"
    }
   ],
   "source": [
    "# 12 Switzerland cities\n",
    "eu[eu['Country'] =='Switzerland'][['Country','City']].value_counts().head(20)"
   ]
  },
  {
   "cell_type": "code",
   "execution_count": 35,
   "metadata": {},
   "outputs": [],
   "source": [
    "Geneva_duplicates = ['Genève','Carouge','Thônex','Vernier','Le Grand-Saconnex','Meyrin','Chêne-Bourg','Lancy','Onex','Chêne-Bougeries'\n",
    "                    ,'Bellevue','Versoix','Cologny','Plan-les-Ouates','Grand-Lancy','Collonge-Bellerive','Veyrier','Vésenaz','Grand-Saconnex']"
   ]
  },
  {
   "cell_type": "markdown",
   "metadata": {},
   "source": [
    "### Elimination of duplicates and final top 50 cities list\n",
    "\n",
    "At this point, we proceeded to apply the necessary replacements in line with the duplicates identified previously. After doing this, we recalculated the top 50 cities with more listings and proceeded to save them in a new dataframe called \"eu_clean\""
   ]
  },
  {
   "cell_type": "code",
   "execution_count": 36,
   "metadata": {},
   "outputs": [],
   "source": [
    "#we create a new DataFrame \"eu_clean\" to do the replacements of duplicated cities\n",
    "eu_clean = eu"
   ]
  },
  {
   "cell_type": "code",
   "execution_count": 37,
   "metadata": {},
   "outputs": [
    {
     "name": "stderr",
     "output_type": "stream",
     "text": [
      "C:\\Users\\34658\\Anaconda3\\lib\\site-packages\\ipykernel_launcher.py:2: SettingWithCopyWarning: \n",
      "A value is trying to be set on a copy of a slice from a DataFrame.\n",
      "Try using .loc[row_indexer,col_indexer] = value instead\n",
      "\n",
      "See the caveats in the documentation: https://pandas.pydata.org/pandas-docs/stable/user_guide/indexing.html#returning-a-view-versus-a-copy\n",
      "  \n",
      "C:\\Users\\34658\\Anaconda3\\lib\\site-packages\\ipykernel_launcher.py:3: SettingWithCopyWarning: \n",
      "A value is trying to be set on a copy of a slice from a DataFrame.\n",
      "Try using .loc[row_indexer,col_indexer] = value instead\n",
      "\n",
      "See the caveats in the documentation: https://pandas.pydata.org/pandas-docs/stable/user_guide/indexing.html#returning-a-view-versus-a-copy\n",
      "  This is separate from the ipykernel package so we can avoid doing imports until\n",
      "C:\\Users\\34658\\Anaconda3\\lib\\site-packages\\ipykernel_launcher.py:4: SettingWithCopyWarning: \n",
      "A value is trying to be set on a copy of a slice from a DataFrame.\n",
      "Try using .loc[row_indexer,col_indexer] = value instead\n",
      "\n",
      "See the caveats in the documentation: https://pandas.pydata.org/pandas-docs/stable/user_guide/indexing.html#returning-a-view-versus-a-copy\n",
      "  after removing the cwd from sys.path.\n",
      "C:\\Users\\34658\\Anaconda3\\lib\\site-packages\\ipykernel_launcher.py:5: SettingWithCopyWarning: \n",
      "A value is trying to be set on a copy of a slice from a DataFrame.\n",
      "Try using .loc[row_indexer,col_indexer] = value instead\n",
      "\n",
      "See the caveats in the documentation: https://pandas.pydata.org/pandas-docs/stable/user_guide/indexing.html#returning-a-view-versus-a-copy\n",
      "  \"\"\"\n",
      "C:\\Users\\34658\\Anaconda3\\lib\\site-packages\\ipykernel_launcher.py:6: SettingWithCopyWarning: \n",
      "A value is trying to be set on a copy of a slice from a DataFrame.\n",
      "Try using .loc[row_indexer,col_indexer] = value instead\n",
      "\n",
      "See the caveats in the documentation: https://pandas.pydata.org/pandas-docs/stable/user_guide/indexing.html#returning-a-view-versus-a-copy\n",
      "  \n",
      "C:\\Users\\34658\\Anaconda3\\lib\\site-packages\\ipykernel_launcher.py:7: SettingWithCopyWarning: \n",
      "A value is trying to be set on a copy of a slice from a DataFrame.\n",
      "Try using .loc[row_indexer,col_indexer] = value instead\n",
      "\n",
      "See the caveats in the documentation: https://pandas.pydata.org/pandas-docs/stable/user_guide/indexing.html#returning-a-view-versus-a-copy\n",
      "  import sys\n",
      "C:\\Users\\34658\\Anaconda3\\lib\\site-packages\\ipykernel_launcher.py:8: SettingWithCopyWarning: \n",
      "A value is trying to be set on a copy of a slice from a DataFrame.\n",
      "Try using .loc[row_indexer,col_indexer] = value instead\n",
      "\n",
      "See the caveats in the documentation: https://pandas.pydata.org/pandas-docs/stable/user_guide/indexing.html#returning-a-view-versus-a-copy\n",
      "  \n",
      "C:\\Users\\34658\\Anaconda3\\lib\\site-packages\\ipykernel_launcher.py:9: SettingWithCopyWarning: \n",
      "A value is trying to be set on a copy of a slice from a DataFrame.\n",
      "Try using .loc[row_indexer,col_indexer] = value instead\n",
      "\n",
      "See the caveats in the documentation: https://pandas.pydata.org/pandas-docs/stable/user_guide/indexing.html#returning-a-view-versus-a-copy\n",
      "  if __name__ == '__main__':\n",
      "C:\\Users\\34658\\Anaconda3\\lib\\site-packages\\ipykernel_launcher.py:10: SettingWithCopyWarning: \n",
      "A value is trying to be set on a copy of a slice from a DataFrame.\n",
      "Try using .loc[row_indexer,col_indexer] = value instead\n",
      "\n",
      "See the caveats in the documentation: https://pandas.pydata.org/pandas-docs/stable/user_guide/indexing.html#returning-a-view-versus-a-copy\n",
      "  # Remove the CWD from sys.path while we load stuff.\n",
      "C:\\Users\\34658\\Anaconda3\\lib\\site-packages\\ipykernel_launcher.py:11: SettingWithCopyWarning: \n",
      "A value is trying to be set on a copy of a slice from a DataFrame.\n",
      "Try using .loc[row_indexer,col_indexer] = value instead\n",
      "\n",
      "See the caveats in the documentation: https://pandas.pydata.org/pandas-docs/stable/user_guide/indexing.html#returning-a-view-versus-a-copy\n",
      "  # This is added back by InteractiveShellApp.init_path()\n",
      "C:\\Users\\34658\\Anaconda3\\lib\\site-packages\\ipykernel_launcher.py:12: SettingWithCopyWarning: \n",
      "A value is trying to be set on a copy of a slice from a DataFrame.\n",
      "Try using .loc[row_indexer,col_indexer] = value instead\n",
      "\n",
      "See the caveats in the documentation: https://pandas.pydata.org/pandas-docs/stable/user_guide/indexing.html#returning-a-view-versus-a-copy\n",
      "  if sys.path[0] == '':\n",
      "C:\\Users\\34658\\Anaconda3\\lib\\site-packages\\ipykernel_launcher.py:13: SettingWithCopyWarning: \n",
      "A value is trying to be set on a copy of a slice from a DataFrame.\n",
      "Try using .loc[row_indexer,col_indexer] = value instead\n",
      "\n",
      "See the caveats in the documentation: https://pandas.pydata.org/pandas-docs/stable/user_guide/indexing.html#returning-a-view-versus-a-copy\n",
      "  del sys.path[0]\n",
      "C:\\Users\\34658\\Anaconda3\\lib\\site-packages\\ipykernel_launcher.py:14: SettingWithCopyWarning: \n",
      "A value is trying to be set on a copy of a slice from a DataFrame.\n",
      "Try using .loc[row_indexer,col_indexer] = value instead\n",
      "\n",
      "See the caveats in the documentation: https://pandas.pydata.org/pandas-docs/stable/user_guide/indexing.html#returning-a-view-versus-a-copy\n",
      "  \n",
      "C:\\Users\\34658\\Anaconda3\\lib\\site-packages\\ipykernel_launcher.py:15: SettingWithCopyWarning: \n",
      "A value is trying to be set on a copy of a slice from a DataFrame.\n",
      "Try using .loc[row_indexer,col_indexer] = value instead\n",
      "\n",
      "See the caveats in the documentation: https://pandas.pydata.org/pandas-docs/stable/user_guide/indexing.html#returning-a-view-versus-a-copy\n",
      "  from ipykernel import kernelapp as app\n",
      "C:\\Users\\34658\\Anaconda3\\lib\\site-packages\\ipykernel_launcher.py:16: SettingWithCopyWarning: \n",
      "A value is trying to be set on a copy of a slice from a DataFrame.\n",
      "Try using .loc[row_indexer,col_indexer] = value instead\n",
      "\n",
      "See the caveats in the documentation: https://pandas.pydata.org/pandas-docs/stable/user_guide/indexing.html#returning-a-view-versus-a-copy\n",
      "  app.launch_new_instance()\n",
      "C:\\Users\\34658\\Anaconda3\\lib\\site-packages\\ipykernel_launcher.py:17: SettingWithCopyWarning: \n",
      "A value is trying to be set on a copy of a slice from a DataFrame.\n",
      "Try using .loc[row_indexer,col_indexer] = value instead\n",
      "\n",
      "See the caveats in the documentation: https://pandas.pydata.org/pandas-docs/stable/user_guide/indexing.html#returning-a-view-versus-a-copy\n",
      "C:\\Users\\34658\\Anaconda3\\lib\\site-packages\\ipykernel_launcher.py:18: SettingWithCopyWarning: \n",
      "A value is trying to be set on a copy of a slice from a DataFrame.\n",
      "Try using .loc[row_indexer,col_indexer] = value instead\n",
      "\n",
      "See the caveats in the documentation: https://pandas.pydata.org/pandas-docs/stable/user_guide/indexing.html#returning-a-view-versus-a-copy\n",
      "C:\\Users\\34658\\Anaconda3\\lib\\site-packages\\ipykernel_launcher.py:19: SettingWithCopyWarning: \n",
      "A value is trying to be set on a copy of a slice from a DataFrame.\n",
      "Try using .loc[row_indexer,col_indexer] = value instead\n",
      "\n",
      "See the caveats in the documentation: https://pandas.pydata.org/pandas-docs/stable/user_guide/indexing.html#returning-a-view-versus-a-copy\n"
     ]
    }
   ],
   "source": [
    "#replacement of the duplicated cities\n",
    "eu_clean['City'] = eu_clean['City'].replace(Paris_duplicates,'Paris')\n",
    "eu_clean['City'] = eu_clean['City'].replace(Berlin_duplicates,'Berlin')\n",
    "eu_clean['City'] = eu_clean['City'].replace(Palma_duplicates,'Palma de Mallorca')\n",
    "eu_clean['City'] = eu_clean['City'].replace(Alcudia_duplicates,'Alcudia')\n",
    "eu_clean['City'] = eu_clean['City'].replace(Pollensa_duplicates,'Pollensa')\n",
    "eu_clean['City'] = eu_clean['City'].replace(Inca_duplicates,'Inca')\n",
    "eu_clean['City'] = eu_clean['City'].replace(Rome_duplicates,'Rome')\n",
    "eu_clean['City'] = eu_clean['City'].replace(Venice_duplicates,'Venice')\n",
    "eu_clean['City'] = eu_clean['City'].replace(Lido_duplicates,'Lido')\n",
    "eu_clean['City'] = eu_clean['City'].replace(Athens_duplicates,'Athens')\n",
    "eu_clean['City'] = eu_clean['City'].replace(Copenhagen_duplicates,'Copenhagen')\n",
    "eu_clean['City'] = eu_clean['City'].replace(Vienna_duplicates,'Vienna')\n",
    "eu_clean['City'] = eu_clean['City'].replace(Dublin_duplicates,'Dublin')\n",
    "eu_clean['City'] = eu_clean['City'].replace(London_duplicates,'London')\n",
    "eu_clean['City'] = eu_clean['City'].replace(Brussels_duplicates,'Brussels')\n",
    "eu_clean['City'] = eu_clean['City'].replace(Antwerp_duplicates,'Antwerp')\n",
    "eu_clean['City'] = eu_clean['City'].replace(Amsterdam_duplicates,'Amsterdam')\n",
    "eu_clean['City'] = eu_clean['City'].replace(Geneva_duplicates,'Geneva')"
   ]
  },
  {
   "cell_type": "code",
   "execution_count": 38,
   "metadata": {
    "scrolled": false
   },
   "outputs": [
    {
     "data": {
      "text/plain": [
       "Country         City                      \n",
       "France          Paris                         56008\n",
       "United Kingdom  London                        49704\n",
       "Italy           Rome                          24741\n",
       "Germany         Berlin                        20501\n",
       "Denmark         Copenhagen                    20171\n",
       "Spain           Barcelona                     17431\n",
       "Netherlands     Amsterdam                     15163\n",
       "Spain           Madrid                        13207\n",
       "Austria         Vienna                         7847\n",
       "United Kingdom  Edinburgh                      6130\n",
       "Belgium         Brussels                       5688\n",
       "Italy           Venice                         5595\n",
       "Ireland         Dublin                         5272\n",
       "Greece          Athens                         5005\n",
       "Spain           Palma de Mallorca              2722\n",
       "Switzerland     Geneva                         2237\n",
       "Belgium         Antwerp                        1219\n",
       "Spain           Pollensa                       1206\n",
       "                Alcudia                        1021\n",
       "United Kingdom  Manchester                      810\n",
       "Spain           Inca                            451\n",
       "Italy           Lido                            387\n",
       "Spain           Llucmajor                       363\n",
       "                Manacor                         272\n",
       "                Campos                          270\n",
       "                Can Picafort                    266\n",
       "United Kingdom  Richmond                        261\n",
       "Spain           Santanyí                        259\n",
       "                Sóller                          250\n",
       "                Muro                            246\n",
       "                Felanitx                        232\n",
       "                Sa Pobla                        198\n",
       "                Illes Balears                   192\n",
       "United Kingdom  Harrow                          187\n",
       "Spain           Colònia de Sant Jordi           176\n",
       "United Kingdom  Ilford                          171\n",
       "                Kingston upon Thames            166\n",
       "Spain           Andratx                         165\n",
       "                Calvià                          155\n",
       "                Capdepera                       132\n",
       "Italy           Trento                          132\n",
       "Spain           Son Servera                     131\n",
       "                Santa Margalida                 126\n",
       "                Cala Ratjada                    122\n",
       "United Kingdom  Hounslow                        122\n",
       "Spain           Sant Llorenç des Cardassar      121\n",
       "                Artà                            113\n",
       "Italy           Riva del Garda                  111\n",
       "Spain           Can Pastilla                    110\n",
       "                Valldemossa                     108\n",
       "dtype: int64"
      ]
     },
     "execution_count": 38,
     "metadata": {},
     "output_type": "execute_result"
    }
   ],
   "source": [
    "#check again the first new 50 cities with more residences\n",
    "first_50_bis = eu_clean[['Country','City']].value_counts().head(50)\n",
    "first_50_bis.head(50)"
   ]
  },
  {
   "cell_type": "code",
   "execution_count": 39,
   "metadata": {},
   "outputs": [
    {
     "name": "stdout",
     "output_type": "stream",
     "text": [
      "The top 50 cities now include 95.0 % of the residences in the Europe region.\n"
     ]
    }
   ],
   "source": [
    "#recalculation of how many listings we have in the top 50 cities compared to the original dataset\n",
    "print('The top 50 cities now include',np.round(first_50_bis.sum()/282444,2)*100,'% of the residences in the Europe region.')"
   ]
  },
  {
   "cell_type": "markdown",
   "metadata": {},
   "source": [
    "### Final subset of Europe region\n",
    "\n",
    "The elimination of duplicities increased the number of listings in the previous top 50 from 91% of the original dataset to 95%. There are new cities in the lower braket that previously did not appear.\n",
    "\n",
    "There may be some cities that are still duplicated or buroughs that should be added, but for the sake of practicity, and being this project a pilot prototype, we will proceed with this list as it is."
   ]
  },
  {
   "cell_type": "code",
   "execution_count": 40,
   "metadata": {},
   "outputs": [
    {
     "data": {
      "text/plain": [
       "['Paris',\n",
       " 'London',\n",
       " 'Rome',\n",
       " 'Berlin',\n",
       " 'Copenhagen',\n",
       " 'Barcelona',\n",
       " 'Amsterdam',\n",
       " 'Madrid',\n",
       " 'Vienna',\n",
       " 'Edinburgh',\n",
       " 'Brussels',\n",
       " 'Venice',\n",
       " 'Dublin',\n",
       " 'Athens',\n",
       " 'Palma de Mallorca',\n",
       " 'Geneva',\n",
       " 'Antwerp',\n",
       " 'Pollensa',\n",
       " 'Alcudia',\n",
       " 'Manchester',\n",
       " 'Inca',\n",
       " 'Lido',\n",
       " 'Llucmajor',\n",
       " 'Manacor',\n",
       " 'Campos',\n",
       " 'Can Picafort',\n",
       " 'Richmond',\n",
       " 'Santanyí',\n",
       " 'Sóller',\n",
       " 'Muro',\n",
       " 'Felanitx',\n",
       " 'Sa Pobla',\n",
       " 'Illes Balears',\n",
       " 'Harrow',\n",
       " 'Colònia de Sant Jordi',\n",
       " 'Ilford',\n",
       " 'Kingston upon Thames',\n",
       " 'Andratx',\n",
       " 'Calvià',\n",
       " 'Capdepera',\n",
       " 'Trento',\n",
       " 'Son Servera',\n",
       " 'Santa Margalida',\n",
       " 'Cala Ratjada',\n",
       " 'Hounslow',\n",
       " 'Sant Llorenç des Cardassar',\n",
       " 'Artà',\n",
       " 'Riva del Garda',\n",
       " 'Can Pastilla',\n",
       " 'Valldemossa']"
      ]
     },
     "execution_count": 40,
     "metadata": {},
     "output_type": "execute_result"
    }
   ],
   "source": [
    "first_50_bisdf = pd.DataFrame(first_50_bis)\n",
    "first_50_bisdf.reset_index(inplace=True)\n",
    "list_cities = first_50_bisdf['City'].to_list()\n",
    "list_countries = first_50_bisdf['Country'].to_list()\n",
    "list_cities"
   ]
  },
  {
   "cell_type": "markdown",
   "metadata": {},
   "source": [
    "### Final Europe region dataset\n",
    "\n",
    "We save the final europe region dataset as \"eu_final\" and will proceed to impute missing values of the columns that will be used in the recommender system."
   ]
  },
  {
   "cell_type": "code",
   "execution_count": 41,
   "metadata": {},
   "outputs": [],
   "source": [
    "#filter eu clean dataframe to only consider the cities of \"cities list\"\n",
    "eu_final = eu_clean[eu_clean['City'].isin(list_cities)]"
   ]
  },
  {
   "cell_type": "code",
   "execution_count": 42,
   "metadata": {
    "scrolled": true
   },
   "outputs": [
    {
     "data": {
      "text/plain": [
       "(267750, 89)"
      ]
     },
     "execution_count": 42,
     "metadata": {},
     "output_type": "execute_result"
    }
   ],
   "source": [
    "eu_final.shape"
   ]
  },
  {
   "cell_type": "code",
   "execution_count": 43,
   "metadata": {
    "scrolled": true
   },
   "outputs": [
    {
     "name": "stdout",
     "output_type": "stream",
     "text": [
      "<class 'pandas.core.frame.DataFrame'>\n",
      "Int64Index: 267750 entries, 0 to 491914\n",
      "Data columns (total 89 columns):\n",
      " #   Column                          Non-Null Count   Dtype  \n",
      "---  ------                          --------------   -----  \n",
      " 0   ID                              267750 non-null  object \n",
      " 1   Listing Url                     267750 non-null  object \n",
      " 2   Scrape ID                       267750 non-null  object \n",
      " 3   Last Scraped                    267750 non-null  object \n",
      " 4   Name                            267401 non-null  object \n",
      " 5   Summary                         258101 non-null  object \n",
      " 6   Space                           186288 non-null  object \n",
      " 7   Description                     267675 non-null  object \n",
      " 8   Experiences Offered             267750 non-null  object \n",
      " 9   Neighborhood Overview           155370 non-null  object \n",
      " 10  Notes                           100582 non-null  object \n",
      " 11  Transit                         162095 non-null  object \n",
      " 12  Access                          144539 non-null  object \n",
      " 13  Interaction                     138531 non-null  object \n",
      " 14  House Rules                     160164 non-null  object \n",
      " 15  Thumbnail Url                   212888 non-null  object \n",
      " 16  Medium Url                      212888 non-null  object \n",
      " 17  Picture Url                     267242 non-null  object \n",
      " 18  XL Picture Url                  212888 non-null  object \n",
      " 19  Host ID                         267750 non-null  int64  \n",
      " 20  Host URL                        267750 non-null  object \n",
      " 21  Host Name                       267679 non-null  object \n",
      " 22  Host Since                      267679 non-null  object \n",
      " 23  Host Location                   266708 non-null  object \n",
      " 24  Host About                      156176 non-null  object \n",
      " 25  Host Response Time              205234 non-null  object \n",
      " 26  Host Response Rate              205234 non-null  float64\n",
      " 27  Host Acceptance Rate            7975 non-null    object \n",
      " 28  Host Thumbnail Url              267679 non-null  object \n",
      " 29  Host Picture Url                267679 non-null  object \n",
      " 30  Host Neighbourhood              197035 non-null  object \n",
      " 31  Host Listings Count             267679 non-null  float64\n",
      " 32  Host Total Listings Count       267679 non-null  float64\n",
      " 33  Host Verifications              267570 non-null  object \n",
      " 34  Street                          267750 non-null  object \n",
      " 35  Neighbourhood                   181061 non-null  object \n",
      " 36  Neighbourhood Cleansed          267750 non-null  object \n",
      " 37  Neighbourhood Group Cleansed    56929 non-null   object \n",
      " 38  City                            267750 non-null  object \n",
      " 39  State                           219635 non-null  object \n",
      " 40  Zipcode                         257476 non-null  object \n",
      " 41  Market                          263784 non-null  object \n",
      " 42  Smart Location                  267750 non-null  object \n",
      " 43  Country Code                    267750 non-null  object \n",
      " 44  Country                         267750 non-null  object \n",
      " 45  Latitude                        267750 non-null  float64\n",
      " 46  Longitude                       267750 non-null  float64\n",
      " 47  Property Type                   267749 non-null  object \n",
      " 48  Room Type                       267750 non-null  object \n",
      " 49  Accommodates                    267750 non-null  float64\n",
      " 50  Bathrooms                       266952 non-null  float64\n",
      " 51  Bedrooms                        267359 non-null  float64\n",
      " 52  Beds                            267251 non-null  float64\n",
      " 53  Bed Type                        267750 non-null  object \n",
      " 54  Amenities                       265640 non-null  object \n",
      " 55  Square Feet                     8157 non-null    float64\n",
      " 56  Price                           263568 non-null  float64\n",
      " 57  Weekly Price                    56880 non-null   float64\n",
      " 58  Monthly Price                   49603 non-null   float64\n",
      " 59  Security Deposit                109233 non-null  float64\n",
      " 60  Cleaning Fee                    163033 non-null  float64\n",
      " 61  Guests Included                 267750 non-null  float64\n",
      " 62  Extra People                    267725 non-null  float64\n",
      " 63  Minimum Nights                  267750 non-null  float64\n",
      " 64  Maximum Nights                  267750 non-null  float64\n",
      " 65  Calendar Updated                267750 non-null  object \n",
      " 66  Has Availability                688 non-null     object \n",
      " 67  Availability 30                 267750 non-null  float64\n",
      " 68  Availability 60                 267750 non-null  float64\n",
      " 69  Availability 90                 267750 non-null  float64\n",
      " 70  Availability 365                267750 non-null  float64\n",
      " 71  Calendar last Scraped           267750 non-null  object \n",
      " 72  Number of Reviews               267750 non-null  float64\n",
      " 73  First Review                    203077 non-null  object \n",
      " 74  Last Review                     203015 non-null  object \n",
      " 75  Review Scores Rating            199903 non-null  float64\n",
      " 76  Review Scores Accuracy          199434 non-null  float64\n",
      " 77  Review Scores Cleanliness       199551 non-null  float64\n",
      " 78  Review Scores Checkin           199259 non-null  float64\n",
      " 79  Review Scores Communication     199524 non-null  float64\n",
      " 80  Review Scores Location          199300 non-null  float64\n",
      " 81  Review Scores Value             199244 non-null  float64\n",
      " 82  License                         4220 non-null    object \n",
      " 83  Jurisdiction Names              70123 non-null   object \n",
      " 84  Cancellation Policy             267750 non-null  object \n",
      " 85  Calculated host listings count  266940 non-null  float64\n",
      " 86  Reviews per Month               203077 non-null  float64\n",
      " 87  Geolocation                     267750 non-null  object \n",
      " 88  Features                        267595 non-null  object \n",
      "dtypes: float64(33), int64(1), object(55)\n",
      "memory usage: 183.8+ MB\n"
     ]
    }
   ],
   "source": [
    "eu_final.info()"
   ]
  },
  {
   "cell_type": "code",
   "execution_count": 44,
   "metadata": {},
   "outputs": [
    {
     "data": {
      "text/plain": [
       "ID    267748\n",
       "dtype: int64"
      ]
     },
     "execution_count": 44,
     "metadata": {},
     "output_type": "execute_result"
    }
   ],
   "source": [
    "#we will check that the ID of the listing is unique for every residence\n",
    "#There are 2 ID's which are duplicated\n",
    "eu_final[['ID']].nunique()"
   ]
  },
  {
   "cell_type": "code",
   "execution_count": 45,
   "metadata": {
    "scrolled": true
   },
   "outputs": [
    {
     "data": {
      "text/html": [
       "<div>\n",
       "<style scoped>\n",
       "    .dataframe tbody tr th:only-of-type {\n",
       "        vertical-align: middle;\n",
       "    }\n",
       "\n",
       "    .dataframe tbody tr th {\n",
       "        vertical-align: top;\n",
       "    }\n",
       "\n",
       "    .dataframe thead th {\n",
       "        text-align: right;\n",
       "    }\n",
       "</style>\n",
       "<table border=\"1\" class=\"dataframe\">\n",
       "  <thead>\n",
       "    <tr style=\"text-align: right;\">\n",
       "      <th></th>\n",
       "      <th>ID</th>\n",
       "      <th>Listing Url</th>\n",
       "      <th>Scrape ID</th>\n",
       "      <th>Last Scraped</th>\n",
       "      <th>Name</th>\n",
       "      <th>Summary</th>\n",
       "      <th>Space</th>\n",
       "      <th>Description</th>\n",
       "      <th>Experiences Offered</th>\n",
       "      <th>Neighborhood Overview</th>\n",
       "      <th>...</th>\n",
       "      <th>Review Scores Communication</th>\n",
       "      <th>Review Scores Location</th>\n",
       "      <th>Review Scores Value</th>\n",
       "      <th>License</th>\n",
       "      <th>Jurisdiction Names</th>\n",
       "      <th>Cancellation Policy</th>\n",
       "      <th>Calculated host listings count</th>\n",
       "      <th>Reviews per Month</th>\n",
       "      <th>Geolocation</th>\n",
       "      <th>Features</th>\n",
       "    </tr>\n",
       "  </thead>\n",
       "  <tbody>\n",
       "    <tr>\n",
       "      <th>325397</th>\n",
       "      <td>12512133</td>\n",
       "      <td>https://www.airbnb.com/rooms/12512133</td>\n",
       "      <td>20160709001120</td>\n",
       "      <td>2016-07-09</td>\n",
       "      <td>Spacious Central 4 Bed Apartment</td>\n",
       "      <td>This light and airy apartment, located near Ge...</td>\n",
       "      <td>The apartment is over two storeys, with 2 bedr...</td>\n",
       "      <td>This light and airy apartment, located near Ge...</td>\n",
       "      <td>none</td>\n",
       "      <td>The apartment is very well located. George Squ...</td>\n",
       "      <td>...</td>\n",
       "      <td>8.0</td>\n",
       "      <td>10.0</td>\n",
       "      <td>10.0</td>\n",
       "      <td>NaN</td>\n",
       "      <td>NaN</td>\n",
       "      <td>strict</td>\n",
       "      <td>1.0</td>\n",
       "      <td>1.0</td>\n",
       "      <td>55.9436642918,-3.18404774644</td>\n",
       "      <td>Host Has Profile Pic,Is Location Exact</td>\n",
       "    </tr>\n",
       "    <tr>\n",
       "      <th>473754</th>\n",
       "      <td>2832508</td>\n",
       "      <td>https://www.airbnb.com/rooms/2832508</td>\n",
       "      <td>20160709001120</td>\n",
       "      <td>2016-07-09</td>\n",
       "      <td>Bethlehem way, Edinburgh , Scotland</td>\n",
       "      <td>Whether you're in Edinburgh on business or lei...</td>\n",
       "      <td>The apartment is equipped with complimentary W...</td>\n",
       "      <td>Whether you're in Edinburgh on business or lei...</td>\n",
       "      <td>none</td>\n",
       "      <td>2 bedroom flat close to city centre in the won...</td>\n",
       "      <td>...</td>\n",
       "      <td>10.0</td>\n",
       "      <td>9.0</td>\n",
       "      <td>9.0</td>\n",
       "      <td>NaN</td>\n",
       "      <td>NaN</td>\n",
       "      <td>strict</td>\n",
       "      <td>1.0</td>\n",
       "      <td>1.0</td>\n",
       "      <td>55.9639969728,-3.16185946779</td>\n",
       "      <td>Host Has Profile Pic</td>\n",
       "    </tr>\n",
       "  </tbody>\n",
       "</table>\n",
       "<p>2 rows × 89 columns</p>\n",
       "</div>"
      ],
      "text/plain": [
       "              ID                            Listing Url       Scrape ID  \\\n",
       "325397  12512133  https://www.airbnb.com/rooms/12512133  20160709001120   \n",
       "473754   2832508   https://www.airbnb.com/rooms/2832508  20160709001120   \n",
       "\n",
       "       Last Scraped                                 Name  \\\n",
       "325397   2016-07-09     Spacious Central 4 Bed Apartment   \n",
       "473754   2016-07-09  Bethlehem way, Edinburgh , Scotland   \n",
       "\n",
       "                                                  Summary  \\\n",
       "325397  This light and airy apartment, located near Ge...   \n",
       "473754  Whether you're in Edinburgh on business or lei...   \n",
       "\n",
       "                                                    Space  \\\n",
       "325397  The apartment is over two storeys, with 2 bedr...   \n",
       "473754  The apartment is equipped with complimentary W...   \n",
       "\n",
       "                                              Description Experiences Offered  \\\n",
       "325397  This light and airy apartment, located near Ge...                none   \n",
       "473754  Whether you're in Edinburgh on business or lei...                none   \n",
       "\n",
       "                                    Neighborhood Overview  ...  \\\n",
       "325397  The apartment is very well located. George Squ...  ...   \n",
       "473754  2 bedroom flat close to city centre in the won...  ...   \n",
       "\n",
       "       Review Scores Communication Review Scores Location Review Scores Value  \\\n",
       "325397                         8.0                   10.0                10.0   \n",
       "473754                        10.0                    9.0                 9.0   \n",
       "\n",
       "       License Jurisdiction Names Cancellation Policy  \\\n",
       "325397     NaN                NaN              strict   \n",
       "473754     NaN                NaN              strict   \n",
       "\n",
       "       Calculated host listings count Reviews per Month  \\\n",
       "325397                            1.0               1.0   \n",
       "473754                            1.0               1.0   \n",
       "\n",
       "                         Geolocation                                Features  \n",
       "325397  55.9436642918,-3.18404774644  Host Has Profile Pic,Is Location Exact  \n",
       "473754  55.9639969728,-3.16185946779                    Host Has Profile Pic  \n",
       "\n",
       "[2 rows x 89 columns]"
      ]
     },
     "execution_count": 45,
     "metadata": {},
     "output_type": "execute_result"
    }
   ],
   "source": [
    "#filter them to see which ID's are repeated\n",
    "duplicated = eu_final[eu_final.duplicated(['ID'])]\n",
    "duplicated.head()"
   ]
  },
  {
   "cell_type": "code",
   "execution_count": 46,
   "metadata": {
    "scrolled": true
   },
   "outputs": [
    {
     "data": {
      "text/html": [
       "<div>\n",
       "<style scoped>\n",
       "    .dataframe tbody tr th:only-of-type {\n",
       "        vertical-align: middle;\n",
       "    }\n",
       "\n",
       "    .dataframe tbody tr th {\n",
       "        vertical-align: top;\n",
       "    }\n",
       "\n",
       "    .dataframe thead th {\n",
       "        text-align: right;\n",
       "    }\n",
       "</style>\n",
       "<table border=\"1\" class=\"dataframe\">\n",
       "  <thead>\n",
       "    <tr style=\"text-align: right;\">\n",
       "      <th></th>\n",
       "      <th>ID</th>\n",
       "      <th>Listing Url</th>\n",
       "      <th>Scrape ID</th>\n",
       "      <th>Last Scraped</th>\n",
       "      <th>Name</th>\n",
       "      <th>Summary</th>\n",
       "      <th>Space</th>\n",
       "      <th>Description</th>\n",
       "      <th>Experiences Offered</th>\n",
       "      <th>Neighborhood Overview</th>\n",
       "      <th>...</th>\n",
       "      <th>Review Scores Communication</th>\n",
       "      <th>Review Scores Location</th>\n",
       "      <th>Review Scores Value</th>\n",
       "      <th>License</th>\n",
       "      <th>Jurisdiction Names</th>\n",
       "      <th>Cancellation Policy</th>\n",
       "      <th>Calculated host listings count</th>\n",
       "      <th>Reviews per Month</th>\n",
       "      <th>Geolocation</th>\n",
       "      <th>Features</th>\n",
       "    </tr>\n",
       "  </thead>\n",
       "  <tbody>\n",
       "    <tr>\n",
       "      <th>56034</th>\n",
       "      <td>12512133</td>\n",
       "      <td>https://www.airbnb.com/rooms/12512133</td>\n",
       "      <td>20160709001120</td>\n",
       "      <td>2016-07-09</td>\n",
       "      <td>Spacious Central 4 Bed Apartment</td>\n",
       "      <td>This light and airy apartment, located near Ge...</td>\n",
       "      <td>The apartment is over two storeys, with 2 bedr...</td>\n",
       "      <td>This light and airy apartment, located near Ge...</td>\n",
       "      <td>none</td>\n",
       "      <td>The apartment is very well located. George Squ...</td>\n",
       "      <td>...</td>\n",
       "      <td>8.0</td>\n",
       "      <td>10.0</td>\n",
       "      <td>10.0</td>\n",
       "      <td>NaN</td>\n",
       "      <td>NaN</td>\n",
       "      <td>strict</td>\n",
       "      <td>1.0</td>\n",
       "      <td>1.0</td>\n",
       "      <td>55.9436642918,-3.18404774644</td>\n",
       "      <td>Host Has Profile Pic,Is Location Exact</td>\n",
       "    </tr>\n",
       "    <tr>\n",
       "      <th>325397</th>\n",
       "      <td>12512133</td>\n",
       "      <td>https://www.airbnb.com/rooms/12512133</td>\n",
       "      <td>20160709001120</td>\n",
       "      <td>2016-07-09</td>\n",
       "      <td>Spacious Central 4 Bed Apartment</td>\n",
       "      <td>This light and airy apartment, located near Ge...</td>\n",
       "      <td>The apartment is over two storeys, with 2 bedr...</td>\n",
       "      <td>This light and airy apartment, located near Ge...</td>\n",
       "      <td>none</td>\n",
       "      <td>The apartment is very well located. George Squ...</td>\n",
       "      <td>...</td>\n",
       "      <td>8.0</td>\n",
       "      <td>10.0</td>\n",
       "      <td>10.0</td>\n",
       "      <td>NaN</td>\n",
       "      <td>NaN</td>\n",
       "      <td>strict</td>\n",
       "      <td>1.0</td>\n",
       "      <td>1.0</td>\n",
       "      <td>55.9436642918,-3.18404774644</td>\n",
       "      <td>Host Has Profile Pic,Is Location Exact</td>\n",
       "    </tr>\n",
       "  </tbody>\n",
       "</table>\n",
       "<p>2 rows × 89 columns</p>\n",
       "</div>"
      ],
      "text/plain": [
       "              ID                            Listing Url       Scrape ID  \\\n",
       "56034   12512133  https://www.airbnb.com/rooms/12512133  20160709001120   \n",
       "325397  12512133  https://www.airbnb.com/rooms/12512133  20160709001120   \n",
       "\n",
       "       Last Scraped                              Name  \\\n",
       "56034    2016-07-09  Spacious Central 4 Bed Apartment   \n",
       "325397   2016-07-09  Spacious Central 4 Bed Apartment   \n",
       "\n",
       "                                                  Summary  \\\n",
       "56034   This light and airy apartment, located near Ge...   \n",
       "325397  This light and airy apartment, located near Ge...   \n",
       "\n",
       "                                                    Space  \\\n",
       "56034   The apartment is over two storeys, with 2 bedr...   \n",
       "325397  The apartment is over two storeys, with 2 bedr...   \n",
       "\n",
       "                                              Description Experiences Offered  \\\n",
       "56034   This light and airy apartment, located near Ge...                none   \n",
       "325397  This light and airy apartment, located near Ge...                none   \n",
       "\n",
       "                                    Neighborhood Overview  ...  \\\n",
       "56034   The apartment is very well located. George Squ...  ...   \n",
       "325397  The apartment is very well located. George Squ...  ...   \n",
       "\n",
       "       Review Scores Communication Review Scores Location Review Scores Value  \\\n",
       "56034                          8.0                   10.0                10.0   \n",
       "325397                         8.0                   10.0                10.0   \n",
       "\n",
       "       License Jurisdiction Names Cancellation Policy  \\\n",
       "56034      NaN                NaN              strict   \n",
       "325397     NaN                NaN              strict   \n",
       "\n",
       "       Calculated host listings count Reviews per Month  \\\n",
       "56034                             1.0               1.0   \n",
       "325397                            1.0               1.0   \n",
       "\n",
       "                         Geolocation                                Features  \n",
       "56034   55.9436642918,-3.18404774644  Host Has Profile Pic,Is Location Exact  \n",
       "325397  55.9436642918,-3.18404774644  Host Has Profile Pic,Is Location Exact  \n",
       "\n",
       "[2 rows x 89 columns]"
      ]
     },
     "execution_count": 46,
     "metadata": {},
     "output_type": "execute_result"
    }
   ],
   "source": [
    "#ID 12512133 appears 2 times in the dataset\n",
    "eu_final[eu_final['ID'] == '12512133']"
   ]
  },
  {
   "cell_type": "code",
   "execution_count": 47,
   "metadata": {},
   "outputs": [
    {
     "data": {
      "text/html": [
       "<div>\n",
       "<style scoped>\n",
       "    .dataframe tbody tr th:only-of-type {\n",
       "        vertical-align: middle;\n",
       "    }\n",
       "\n",
       "    .dataframe tbody tr th {\n",
       "        vertical-align: top;\n",
       "    }\n",
       "\n",
       "    .dataframe thead th {\n",
       "        text-align: right;\n",
       "    }\n",
       "</style>\n",
       "<table border=\"1\" class=\"dataframe\">\n",
       "  <thead>\n",
       "    <tr style=\"text-align: right;\">\n",
       "      <th></th>\n",
       "      <th>ID</th>\n",
       "      <th>Listing Url</th>\n",
       "      <th>Scrape ID</th>\n",
       "      <th>Last Scraped</th>\n",
       "      <th>Name</th>\n",
       "      <th>Summary</th>\n",
       "      <th>Space</th>\n",
       "      <th>Description</th>\n",
       "      <th>Experiences Offered</th>\n",
       "      <th>Neighborhood Overview</th>\n",
       "      <th>...</th>\n",
       "      <th>Review Scores Communication</th>\n",
       "      <th>Review Scores Location</th>\n",
       "      <th>Review Scores Value</th>\n",
       "      <th>License</th>\n",
       "      <th>Jurisdiction Names</th>\n",
       "      <th>Cancellation Policy</th>\n",
       "      <th>Calculated host listings count</th>\n",
       "      <th>Reviews per Month</th>\n",
       "      <th>Geolocation</th>\n",
       "      <th>Features</th>\n",
       "    </tr>\n",
       "  </thead>\n",
       "  <tbody>\n",
       "    <tr>\n",
       "      <th>230188</th>\n",
       "      <td>2832508</td>\n",
       "      <td>https://www.airbnb.com/rooms/2832508</td>\n",
       "      <td>20160709001120</td>\n",
       "      <td>2016-07-09</td>\n",
       "      <td>Bethlehem way, Edinburgh , Scotland</td>\n",
       "      <td>Whether you're in Edinburgh on business or lei...</td>\n",
       "      <td>The apartment is equipped with complimentary W...</td>\n",
       "      <td>Whether you're in Edinburgh on business or lei...</td>\n",
       "      <td>none</td>\n",
       "      <td>2 bedroom flat close to city centre in the won...</td>\n",
       "      <td>...</td>\n",
       "      <td>10.0</td>\n",
       "      <td>9.0</td>\n",
       "      <td>9.0</td>\n",
       "      <td>NaN</td>\n",
       "      <td>NaN</td>\n",
       "      <td>strict</td>\n",
       "      <td>1.0</td>\n",
       "      <td>1.0</td>\n",
       "      <td>55.9639969728,-3.16185946779</td>\n",
       "      <td>Host Has Profile Pic</td>\n",
       "    </tr>\n",
       "    <tr>\n",
       "      <th>473754</th>\n",
       "      <td>2832508</td>\n",
       "      <td>https://www.airbnb.com/rooms/2832508</td>\n",
       "      <td>20160709001120</td>\n",
       "      <td>2016-07-09</td>\n",
       "      <td>Bethlehem way, Edinburgh , Scotland</td>\n",
       "      <td>Whether you're in Edinburgh on business or lei...</td>\n",
       "      <td>The apartment is equipped with complimentary W...</td>\n",
       "      <td>Whether you're in Edinburgh on business or lei...</td>\n",
       "      <td>none</td>\n",
       "      <td>2 bedroom flat close to city centre in the won...</td>\n",
       "      <td>...</td>\n",
       "      <td>10.0</td>\n",
       "      <td>9.0</td>\n",
       "      <td>9.0</td>\n",
       "      <td>NaN</td>\n",
       "      <td>NaN</td>\n",
       "      <td>strict</td>\n",
       "      <td>1.0</td>\n",
       "      <td>1.0</td>\n",
       "      <td>55.9639969728,-3.16185946779</td>\n",
       "      <td>Host Has Profile Pic</td>\n",
       "    </tr>\n",
       "  </tbody>\n",
       "</table>\n",
       "<p>2 rows × 89 columns</p>\n",
       "</div>"
      ],
      "text/plain": [
       "             ID                           Listing Url       Scrape ID  \\\n",
       "230188  2832508  https://www.airbnb.com/rooms/2832508  20160709001120   \n",
       "473754  2832508  https://www.airbnb.com/rooms/2832508  20160709001120   \n",
       "\n",
       "       Last Scraped                                 Name  \\\n",
       "230188   2016-07-09  Bethlehem way, Edinburgh , Scotland   \n",
       "473754   2016-07-09  Bethlehem way, Edinburgh , Scotland   \n",
       "\n",
       "                                                  Summary  \\\n",
       "230188  Whether you're in Edinburgh on business or lei...   \n",
       "473754  Whether you're in Edinburgh on business or lei...   \n",
       "\n",
       "                                                    Space  \\\n",
       "230188  The apartment is equipped with complimentary W...   \n",
       "473754  The apartment is equipped with complimentary W...   \n",
       "\n",
       "                                              Description Experiences Offered  \\\n",
       "230188  Whether you're in Edinburgh on business or lei...                none   \n",
       "473754  Whether you're in Edinburgh on business or lei...                none   \n",
       "\n",
       "                                    Neighborhood Overview  ...  \\\n",
       "230188  2 bedroom flat close to city centre in the won...  ...   \n",
       "473754  2 bedroom flat close to city centre in the won...  ...   \n",
       "\n",
       "       Review Scores Communication Review Scores Location Review Scores Value  \\\n",
       "230188                        10.0                    9.0                 9.0   \n",
       "473754                        10.0                    9.0                 9.0   \n",
       "\n",
       "       License Jurisdiction Names Cancellation Policy  \\\n",
       "230188     NaN                NaN              strict   \n",
       "473754     NaN                NaN              strict   \n",
       "\n",
       "       Calculated host listings count Reviews per Month  \\\n",
       "230188                            1.0               1.0   \n",
       "473754                            1.0               1.0   \n",
       "\n",
       "                         Geolocation              Features  \n",
       "230188  55.9639969728,-3.16185946779  Host Has Profile Pic  \n",
       "473754  55.9639969728,-3.16185946779  Host Has Profile Pic  \n",
       "\n",
       "[2 rows x 89 columns]"
      ]
     },
     "execution_count": 47,
     "metadata": {},
     "output_type": "execute_result"
    }
   ],
   "source": [
    "#ID 2832508 appears 2 times in the dataset\n",
    "eu_final[eu_final['ID'] == '2832508']"
   ]
  },
  {
   "cell_type": "code",
   "execution_count": 48,
   "metadata": {},
   "outputs": [],
   "source": [
    "#we will keep the first record only\n",
    "eu_final = eu_final.drop_duplicates(subset='ID', keep=\"first\")"
   ]
  },
  {
   "cell_type": "code",
   "execution_count": 49,
   "metadata": {},
   "outputs": [],
   "source": [
    "#we set the index to be ID\n",
    "eu_final.set_index('ID', inplace=True)"
   ]
  },
  {
   "cell_type": "code",
   "execution_count": 50,
   "metadata": {},
   "outputs": [
    {
     "data": {
      "text/html": [
       "<div>\n",
       "<style scoped>\n",
       "    .dataframe tbody tr th:only-of-type {\n",
       "        vertical-align: middle;\n",
       "    }\n",
       "\n",
       "    .dataframe tbody tr th {\n",
       "        vertical-align: top;\n",
       "    }\n",
       "\n",
       "    .dataframe thead th {\n",
       "        text-align: right;\n",
       "    }\n",
       "</style>\n",
       "<table border=\"1\" class=\"dataframe\">\n",
       "  <thead>\n",
       "    <tr style=\"text-align: right;\">\n",
       "      <th></th>\n",
       "      <th>Listing Url</th>\n",
       "      <th>Scrape ID</th>\n",
       "      <th>Last Scraped</th>\n",
       "      <th>Name</th>\n",
       "      <th>Summary</th>\n",
       "      <th>Space</th>\n",
       "      <th>Description</th>\n",
       "      <th>Experiences Offered</th>\n",
       "      <th>Neighborhood Overview</th>\n",
       "      <th>Notes</th>\n",
       "      <th>...</th>\n",
       "      <th>Review Scores Communication</th>\n",
       "      <th>Review Scores Location</th>\n",
       "      <th>Review Scores Value</th>\n",
       "      <th>License</th>\n",
       "      <th>Jurisdiction Names</th>\n",
       "      <th>Cancellation Policy</th>\n",
       "      <th>Calculated host listings count</th>\n",
       "      <th>Reviews per Month</th>\n",
       "      <th>Geolocation</th>\n",
       "      <th>Features</th>\n",
       "    </tr>\n",
       "    <tr>\n",
       "      <th>ID</th>\n",
       "      <th></th>\n",
       "      <th></th>\n",
       "      <th></th>\n",
       "      <th></th>\n",
       "      <th></th>\n",
       "      <th></th>\n",
       "      <th></th>\n",
       "      <th></th>\n",
       "      <th></th>\n",
       "      <th></th>\n",
       "      <th></th>\n",
       "      <th></th>\n",
       "      <th></th>\n",
       "      <th></th>\n",
       "      <th></th>\n",
       "      <th></th>\n",
       "      <th></th>\n",
       "      <th></th>\n",
       "      <th></th>\n",
       "      <th></th>\n",
       "      <th></th>\n",
       "    </tr>\n",
       "  </thead>\n",
       "  <tbody>\n",
       "    <tr>\n",
       "      <th>15802051</th>\n",
       "      <td>https://www.airbnb.com/rooms/15802051</td>\n",
       "      <td>20170304065726</td>\n",
       "      <td>2017-03-05</td>\n",
       "      <td>Large double available now.</td>\n",
       "      <td>Double room available</td>\n",
       "      <td>NaN</td>\n",
       "      <td>Double room available</td>\n",
       "      <td>none</td>\n",
       "      <td>NaN</td>\n",
       "      <td>NaN</td>\n",
       "      <td>...</td>\n",
       "      <td>9.0</td>\n",
       "      <td>10.0</td>\n",
       "      <td>10.0</td>\n",
       "      <td>NaN</td>\n",
       "      <td>NaN</td>\n",
       "      <td>strict</td>\n",
       "      <td>2.0</td>\n",
       "      <td>0.83</td>\n",
       "      <td>51.4814235208,-0.113258577959</td>\n",
       "      <td>Host Has Profile Pic</td>\n",
       "    </tr>\n",
       "    <tr>\n",
       "      <th>14751869</th>\n",
       "      <td>https://www.airbnb.com/rooms/14751869</td>\n",
       "      <td>20170304065726</td>\n",
       "      <td>2017-03-05</td>\n",
       "      <td>Spacious 4BR home near Brixton and Clapham</td>\n",
       "      <td>My home is a large four bedroom space set over...</td>\n",
       "      <td>This is a bright, tidy, and spacious home in a...</td>\n",
       "      <td>My home is a large four bedroom space set over...</td>\n",
       "      <td>none</td>\n",
       "      <td>Both Brixton and Clapham are very trendy areas...</td>\n",
       "      <td>Please note: our standard check in times are b...</td>\n",
       "      <td>...</td>\n",
       "      <td>10.0</td>\n",
       "      <td>9.0</td>\n",
       "      <td>10.0</td>\n",
       "      <td>NaN</td>\n",
       "      <td>NaN</td>\n",
       "      <td>moderate</td>\n",
       "      <td>1.0</td>\n",
       "      <td>3.73</td>\n",
       "      <td>51.455615821,-0.122839067385</td>\n",
       "      <td>Host Is Superhost,Host Has Profile Pic,Host Id...</td>\n",
       "    </tr>\n",
       "  </tbody>\n",
       "</table>\n",
       "<p>2 rows × 88 columns</p>\n",
       "</div>"
      ],
      "text/plain": [
       "                                    Listing Url       Scrape ID Last Scraped  \\\n",
       "ID                                                                             \n",
       "15802051  https://www.airbnb.com/rooms/15802051  20170304065726   2017-03-05   \n",
       "14751869  https://www.airbnb.com/rooms/14751869  20170304065726   2017-03-05   \n",
       "\n",
       "                                                Name  \\\n",
       "ID                                                     \n",
       "15802051                 Large double available now.   \n",
       "14751869  Spacious 4BR home near Brixton and Clapham   \n",
       "\n",
       "                                                    Summary  \\\n",
       "ID                                                            \n",
       "15802051                              Double room available   \n",
       "14751869  My home is a large four bedroom space set over...   \n",
       "\n",
       "                                                      Space  \\\n",
       "ID                                                            \n",
       "15802051                                                NaN   \n",
       "14751869  This is a bright, tidy, and spacious home in a...   \n",
       "\n",
       "                                                Description  \\\n",
       "ID                                                            \n",
       "15802051                              Double room available   \n",
       "14751869  My home is a large four bedroom space set over...   \n",
       "\n",
       "         Experiences Offered  \\\n",
       "ID                             \n",
       "15802051                none   \n",
       "14751869                none   \n",
       "\n",
       "                                      Neighborhood Overview  \\\n",
       "ID                                                            \n",
       "15802051                                                NaN   \n",
       "14751869  Both Brixton and Clapham are very trendy areas...   \n",
       "\n",
       "                                                      Notes  ...  \\\n",
       "ID                                                           ...   \n",
       "15802051                                                NaN  ...   \n",
       "14751869  Please note: our standard check in times are b...  ...   \n",
       "\n",
       "         Review Scores Communication Review Scores Location  \\\n",
       "ID                                                            \n",
       "15802051                         9.0                   10.0   \n",
       "14751869                        10.0                    9.0   \n",
       "\n",
       "         Review Scores Value License Jurisdiction Names Cancellation Policy  \\\n",
       "ID                                                                            \n",
       "15802051                10.0     NaN                NaN              strict   \n",
       "14751869                10.0     NaN                NaN            moderate   \n",
       "\n",
       "         Calculated host listings count Reviews per Month  \\\n",
       "ID                                                          \n",
       "15802051                            2.0              0.83   \n",
       "14751869                            1.0              3.73   \n",
       "\n",
       "                            Geolocation  \\\n",
       "ID                                        \n",
       "15802051  51.4814235208,-0.113258577959   \n",
       "14751869   51.455615821,-0.122839067385   \n",
       "\n",
       "                                                   Features  \n",
       "ID                                                           \n",
       "15802051                               Host Has Profile Pic  \n",
       "14751869  Host Is Superhost,Host Has Profile Pic,Host Id...  \n",
       "\n",
       "[2 rows x 88 columns]"
      ]
     },
     "execution_count": 50,
     "metadata": {},
     "output_type": "execute_result"
    }
   ],
   "source": [
    "eu_final.head(2)"
   ]
  },
  {
   "cell_type": "code",
   "execution_count": 51,
   "metadata": {
    "scrolled": false
   },
   "outputs": [
    {
     "data": {
      "text/plain": [
       "Index(['Listing Url', 'Scrape ID', 'Last Scraped', 'Name', 'Summary', 'Space',\n",
       "       'Description', 'Experiences Offered', 'Neighborhood Overview', 'Notes',\n",
       "       'Transit', 'Access', 'Interaction', 'House Rules', 'Thumbnail Url',\n",
       "       'Medium Url', 'Picture Url', 'XL Picture Url', 'Host ID', 'Host URL',\n",
       "       'Host Name', 'Host Since', 'Host Location', 'Host About',\n",
       "       'Host Response Time', 'Host Response Rate', 'Host Acceptance Rate',\n",
       "       'Host Thumbnail Url', 'Host Picture Url', 'Host Neighbourhood',\n",
       "       'Host Listings Count', 'Host Total Listings Count',\n",
       "       'Host Verifications', 'Street', 'Neighbourhood',\n",
       "       'Neighbourhood Cleansed', 'Neighbourhood Group Cleansed', 'City',\n",
       "       'State', 'Zipcode', 'Market', 'Smart Location', 'Country Code',\n",
       "       'Country', 'Latitude', 'Longitude', 'Property Type', 'Room Type',\n",
       "       'Accommodates', 'Bathrooms', 'Bedrooms', 'Beds', 'Bed Type',\n",
       "       'Amenities', 'Square Feet', 'Price', 'Weekly Price', 'Monthly Price',\n",
       "       'Security Deposit', 'Cleaning Fee', 'Guests Included', 'Extra People',\n",
       "       'Minimum Nights', 'Maximum Nights', 'Calendar Updated',\n",
       "       'Has Availability', 'Availability 30', 'Availability 60',\n",
       "       'Availability 90', 'Availability 365', 'Calendar last Scraped',\n",
       "       'Number of Reviews', 'First Review', 'Last Review',\n",
       "       'Review Scores Rating', 'Review Scores Accuracy',\n",
       "       'Review Scores Cleanliness', 'Review Scores Checkin',\n",
       "       'Review Scores Communication', 'Review Scores Location',\n",
       "       'Review Scores Value', 'License', 'Jurisdiction Names',\n",
       "       'Cancellation Policy', 'Calculated host listings count',\n",
       "       'Reviews per Month', 'Geolocation', 'Features'],\n",
       "      dtype='object')"
      ]
     },
     "execution_count": 51,
     "metadata": {},
     "output_type": "execute_result"
    }
   ],
   "source": [
    "#check all the columns\n",
    "#we will split the columns into groups based on their content\n",
    "#for this prototype project we are interested in house characteristics and host information\n",
    "eu_final.columns"
   ]
  },
  {
   "cell_type": "markdown",
   "metadata": {},
   "source": [
    "## Create different datasets containing features of the same type\n",
    "\n",
    "This will allow us to easily clean each of them separately, focusing on the features we really want to extract, to later on add them together based on the IDs that are not null in each of the datasets.\n",
    "\n",
    "* **res_characteristics**: informamtion about the type of residence and number of rooms by type (bathrooms, bedrooms, .. ) and the host characteristics (has profile picture, is verified, requires guest phone number,..)\n",
    "* **res_rating**: ratings of the residence by previous guests on different subjects, such as cleaningless, communication with host.. \n",
    "* **res_price**: daily, weekly and monthly price of the residence, as well as other extra fees (cleaning, deposit,..)\n",
    "\n",
    "\n",
    "* res_location: information about the country and city of the residence, street, zipcode..\n",
    "* res_availability: different time periods in which the house is available\n",
    "* host_rating: some metrics about the host, such as response rate, number of verifications by guests, .. \n",
    "* res_text: different text fields describing the host, residence, neighbour, house rules, ..\n",
    "* res_url: url address to residence and host pictures\n",
    "\n",
    "For this project we will work with **res_characteristics, res_rating and res_price.**"
   ]
  },
  {
   "cell_type": "code",
   "execution_count": 52,
   "metadata": {},
   "outputs": [],
   "source": [
    "\n",
    "#info about the residence structure\n",
    "res_characteristics = eu_final[['Features','Property Type', 'Room Type',\n",
    "       'Accommodates', 'Bathrooms', 'Bedrooms', 'Beds', 'Bed Type',\n",
    "       'Square Feet']]\n",
    "\n",
    "#info about the residence ratings\n",
    "res_rating = eu_final[['First Review', 'Last Review','Number of Reviews',\n",
    "                 'Review Scores Rating','Review Scores Accuracy',\n",
    "               'Review Scores Cleanliness', 'Review Scores Checkin',\n",
    "               'Review Scores Communication', 'Review Scores Location',\n",
    "               'Review Scores Value','Reviews per Month']]\n",
    "\n",
    "#info about the residence price\n",
    "res_price = eu_final[['Price', 'Weekly Price', 'Monthly Price',\n",
    "       'Security Deposit', 'Cleaning Fee', 'Guests Included',\n",
    "               'Extra People','Cancellation Policy']]\n",
    "\n",
    "#info about the residence location\n",
    "res_location = eu_final[['Country Code','Country','City','State','Street',\n",
    "                   'Zipcode','Market','Smart Location']]\n",
    "\n",
    "#info about the residence availability\n",
    "res_availability = eu_final[['Has Availability', 'Availability 30', 'Availability 60',\n",
    "       'Availability 90', 'Availability 365']]\n",
    "\n",
    "#info about the host rating\n",
    "host_rating = eu_final[['Host Response Time', 'Host Response Rate', 'Host Acceptance Rate',\n",
    "               'Calculated host listings count','Host Listings Count', 'Host Total Listings Count',\n",
    "       'Host Verifications']]\n",
    "\n",
    "#info of several text fields\n",
    "res_text = eu_final[['Host ID','Name', 'Summary', 'Space',\n",
    "       'Description', 'Experiences Offered', 'Neighborhood Overview', 'Notes',\n",
    "        'Neighbourhood','Neighbourhood Cleansed', 'Neighbourhood Group Cleansed',\n",
    "        'City','Host Name', 'Host Since', 'Host Location', 'Host About',\n",
    "        'Host Neighbourhood','Transit', 'Access', 'Interaction',\n",
    "        'House Rules','Amenities','Minimum Nights', 'Maximum Nights']]\n",
    "\n",
    "#info about the residence url and images online\n",
    "res_url = eu_final[['Listing Url','Thumbnail Url',\n",
    "        'Medium Url', 'Picture Url', 'XL Picture Url','Host URL','Host Thumbnail Url',\n",
    "        'Host Picture Url']]\n"
   ]
  },
  {
   "cell_type": "markdown",
   "metadata": {},
   "source": [
    "## The listings characteristics (res_characteristics)\n",
    "\n",
    "The listing characteristics are related to either the strucutre of the residence, through its number of rooms, bathrooms, type of bed, nº of people allowed in the house and property type; and some characteristics about the host and type of booking.\n",
    "\n",
    "These features are useful to later on cluster residences that are similar. There are many missing values for square feet, therefore we will probably ignore this feature in our recommender system due to being too little populated.\n",
    "\n",
    "### Imputing missing values for residence characteristics\n",
    "\n",
    "We will start by imputing missing values of listings based on some criteria.\n",
    "\n",
    "For the **missing Bathrooms**, we will add 1 as minimum when the value is missing.\n",
    "\n",
    "For the **missing beds**, if the house states type of bed \"Real bed\" we will impute 1 bed.\n",
    "\n",
    "For the **missing Bedrooms**, we will infer it based on the room type and the number of accomodates. In particular:\n",
    "* if the room type is private room or shared room, we will impute 1 bedroom\n",
    "* if the room is an entire home/apt, we will impute the following:\n",
    " *  if there are less than 2 accommodates, we will impute 1 bedroom\n",
    " *  if there are >2 and < 4 accommodates, we will impute 2 bedrooms\n",
    " *  if there are >4 and <6 accomodates, we will impute 3 bedrroms\n",
    " *  if there are >6 accommodates, we will impute 4 bedrooms\n",
    "\n",
    "Acknowledging that there are many ways in which this data could be impute, we could also discard the listings with missing features, but with the aim of keeping as many listings as possible, we decided to follow this system rather than dropping such rows.\n",
    "\n",
    "For the **features**, which represent some host characteristics, we will build a binary dataframe, with columns as categories such as \"Has profile pic\" and a 0 or a 1 in the rows depending on whether the listing has that feature or not."
   ]
  },
  {
   "cell_type": "markdown",
   "metadata": {},
   "source": [
    "#### Imputing Bedrooms missing values"
   ]
  },
  {
   "cell_type": "code",
   "execution_count": 53,
   "metadata": {},
   "outputs": [
    {
     "name": "stderr",
     "output_type": "stream",
     "text": [
      "C:\\Users\\34658\\Anaconda3\\lib\\site-packages\\pandas\\core\\indexing.py:1745: SettingWithCopyWarning: \n",
      "A value is trying to be set on a copy of a slice from a DataFrame.\n",
      "Try using .loc[row_indexer,col_indexer] = value instead\n",
      "\n",
      "See the caveats in the documentation: https://pandas.pydata.org/pandas-docs/stable/user_guide/indexing.html#returning-a-view-versus-a-copy\n",
      "  isetter(ilocs[0], value)\n",
      "C:\\Users\\34658\\Anaconda3\\lib\\site-packages\\pandas\\core\\indexing.py:1745: SettingWithCopyWarning: \n",
      "A value is trying to be set on a copy of a slice from a DataFrame.\n",
      "Try using .loc[row_indexer,col_indexer] = value instead\n",
      "\n",
      "See the caveats in the documentation: https://pandas.pydata.org/pandas-docs/stable/user_guide/indexing.html#returning-a-view-versus-a-copy\n",
      "  isetter(ilocs[0], value)\n",
      "C:\\Users\\34658\\Anaconda3\\lib\\site-packages\\pandas\\core\\indexing.py:1745: SettingWithCopyWarning: \n",
      "A value is trying to be set on a copy of a slice from a DataFrame.\n",
      "Try using .loc[row_indexer,col_indexer] = value instead\n",
      "\n",
      "See the caveats in the documentation: https://pandas.pydata.org/pandas-docs/stable/user_guide/indexing.html#returning-a-view-versus-a-copy\n",
      "  isetter(ilocs[0], value)\n",
      "C:\\Users\\34658\\Anaconda3\\lib\\site-packages\\pandas\\core\\indexing.py:1745: SettingWithCopyWarning: \n",
      "A value is trying to be set on a copy of a slice from a DataFrame.\n",
      "Try using .loc[row_indexer,col_indexer] = value instead\n",
      "\n",
      "See the caveats in the documentation: https://pandas.pydata.org/pandas-docs/stable/user_guide/indexing.html#returning-a-view-versus-a-copy\n",
      "  isetter(ilocs[0], value)\n",
      "C:\\Users\\34658\\Anaconda3\\lib\\site-packages\\pandas\\core\\indexing.py:1745: SettingWithCopyWarning: \n",
      "A value is trying to be set on a copy of a slice from a DataFrame.\n",
      "Try using .loc[row_indexer,col_indexer] = value instead\n",
      "\n",
      "See the caveats in the documentation: https://pandas.pydata.org/pandas-docs/stable/user_guide/indexing.html#returning-a-view-versus-a-copy\n",
      "  isetter(ilocs[0], value)\n"
     ]
    }
   ],
   "source": [
    "#fill Private rooms and Shared rooms with 1 bedroom in case they are empty\n",
    "res_characteristics.loc[:,'Bedrooms'] = np.where(((res_characteristics['Bedrooms'].isnull()) & (res_characteristics['Room Type']=='Private room')),1,res_characteristics['Bedrooms'])\n",
    "res_characteristics.loc[:,'Bedrooms'] = np.where(((res_characteristics['Bedrooms'].isnull()) & (res_characteristics['Room Type']=='Shared room')),1,res_characteristics['Bedrooms'])\n",
    "#fill Entire Home/Apt with empty bedrooms with 1 if less than 2 accommodates, 2 if >2 and < 4 accomodates, 3 if >4 and <6 accomodates and 4 otherwise\n",
    "res_characteristics.loc[:,'Bedrooms'] = np.where(((res_characteristics['Bedrooms'].isnull()) & (res_characteristics['Room Type']=='Entire home/apt') & (res_characteristics['Accommodates']<=2)),1,res_characteristics['Bedrooms'])\n",
    "res_characteristics.loc[:,'Bedrooms'] = np.where(((res_characteristics['Bedrooms'].isnull()) & (res_characteristics['Room Type']=='Entire home/apt') & (res_characteristics['Accommodates']>2) & (res_characteristics['Accommodates']<=4)),2,res_characteristics['Bedrooms'])\n",
    "res_characteristics.loc[:,'Bedrooms'] = np.where(((res_characteristics['Bedrooms'].isnull()) & (res_characteristics['Room Type']=='Entire home/apt') & (res_characteristics['Accommodates']>4) & (res_characteristics['Accommodates']<=6)),3,res_characteristics['Bedrooms'])\n",
    "res_characteristics.loc[:,'Bedrooms'] = np.where(((res_characteristics['Bedrooms'].isnull()) & (res_characteristics['Room Type']=='Entire home/apt') & (res_characteristics['Accommodates']>6)),4,res_characteristics['Bedrooms'])"
   ]
  },
  {
   "cell_type": "code",
   "execution_count": 54,
   "metadata": {
    "scrolled": false
   },
   "outputs": [
    {
     "name": "stdout",
     "output_type": "stream",
     "text": [
      "0\n"
     ]
    }
   ],
   "source": [
    "#there are now no listings without bedrooms\n",
    "print(res_characteristics['Bedrooms'].isnull().sum())"
   ]
  },
  {
   "cell_type": "markdown",
   "metadata": {},
   "source": [
    "#### Imputing Bathrooms missing values"
   ]
  },
  {
   "cell_type": "code",
   "execution_count": 55,
   "metadata": {
    "scrolled": true
   },
   "outputs": [],
   "source": [
    "#impute the bathroom values\n",
    "res_characteristics.loc[:,'Bathrooms'] = np.where(res_characteristics['Bathrooms'].isnull(), 1, res_characteristics['Bathrooms'])"
   ]
  },
  {
   "cell_type": "code",
   "execution_count": 56,
   "metadata": {
    "scrolled": true
   },
   "outputs": [
    {
     "name": "stdout",
     "output_type": "stream",
     "text": [
      "0\n"
     ]
    }
   ],
   "source": [
    "#check null values for bathrooms\n",
    "print(res_characteristics['Bathrooms'].isnull().sum())"
   ]
  },
  {
   "cell_type": "markdown",
   "metadata": {},
   "source": [
    "#### Imputing Beds missing values"
   ]
  },
  {
   "cell_type": "code",
   "execution_count": 57,
   "metadata": {},
   "outputs": [],
   "source": [
    "#impute beds values\n",
    "res_characteristics.loc[:,'Beds'] = np.where(((res_characteristics['Beds'].isnull()) & (res_characteristics['Bed Type']=='Real Bed')),\n",
    "                                            1, res_characteristics['Beds'])"
   ]
  },
  {
   "cell_type": "code",
   "execution_count": 58,
   "metadata": {
    "scrolled": true
   },
   "outputs": [
    {
     "name": "stdout",
     "output_type": "stream",
     "text": [
      "0\n"
     ]
    }
   ],
   "source": [
    "#check null values for beds\n",
    "print(res_characteristics['Beds'].isnull().sum())"
   ]
  },
  {
   "cell_type": "code",
   "execution_count": 59,
   "metadata": {
    "scrolled": true
   },
   "outputs": [
    {
     "data": {
      "text/html": [
       "<div>\n",
       "<style scoped>\n",
       "    .dataframe tbody tr th:only-of-type {\n",
       "        vertical-align: middle;\n",
       "    }\n",
       "\n",
       "    .dataframe tbody tr th {\n",
       "        vertical-align: top;\n",
       "    }\n",
       "\n",
       "    .dataframe thead th {\n",
       "        text-align: right;\n",
       "    }\n",
       "</style>\n",
       "<table border=\"1\" class=\"dataframe\">\n",
       "  <thead>\n",
       "    <tr style=\"text-align: right;\">\n",
       "      <th></th>\n",
       "      <th>Features</th>\n",
       "      <th>Property Type</th>\n",
       "      <th>Room Type</th>\n",
       "      <th>Accommodates</th>\n",
       "      <th>Bathrooms</th>\n",
       "      <th>Bedrooms</th>\n",
       "      <th>Beds</th>\n",
       "      <th>Bed Type</th>\n",
       "      <th>Square Feet</th>\n",
       "    </tr>\n",
       "    <tr>\n",
       "      <th>ID</th>\n",
       "      <th></th>\n",
       "      <th></th>\n",
       "      <th></th>\n",
       "      <th></th>\n",
       "      <th></th>\n",
       "      <th></th>\n",
       "      <th></th>\n",
       "      <th></th>\n",
       "      <th></th>\n",
       "    </tr>\n",
       "  </thead>\n",
       "  <tbody>\n",
       "    <tr>\n",
       "      <th>15802051</th>\n",
       "      <td>Host Has Profile Pic</td>\n",
       "      <td>House</td>\n",
       "      <td>Private room</td>\n",
       "      <td>2.0</td>\n",
       "      <td>1.0</td>\n",
       "      <td>2.0</td>\n",
       "      <td>2.0</td>\n",
       "      <td>Real Bed</td>\n",
       "      <td>NaN</td>\n",
       "    </tr>\n",
       "    <tr>\n",
       "      <th>14751869</th>\n",
       "      <td>Host Is Superhost,Host Has Profile Pic,Host Id...</td>\n",
       "      <td>House</td>\n",
       "      <td>Entire home/apt</td>\n",
       "      <td>8.0</td>\n",
       "      <td>1.5</td>\n",
       "      <td>4.0</td>\n",
       "      <td>4.0</td>\n",
       "      <td>Real Bed</td>\n",
       "      <td>NaN</td>\n",
       "    </tr>\n",
       "    <tr>\n",
       "      <th>8901485</th>\n",
       "      <td>Host Has Profile Pic,Host Identity Verified</td>\n",
       "      <td>Apartment</td>\n",
       "      <td>Private room</td>\n",
       "      <td>2.0</td>\n",
       "      <td>1.0</td>\n",
       "      <td>1.0</td>\n",
       "      <td>1.0</td>\n",
       "      <td>Real Bed</td>\n",
       "      <td>NaN</td>\n",
       "    </tr>\n",
       "    <tr>\n",
       "      <th>5832248</th>\n",
       "      <td>Host Has Profile Pic</td>\n",
       "      <td>Apartment</td>\n",
       "      <td>Entire home/apt</td>\n",
       "      <td>6.0</td>\n",
       "      <td>1.0</td>\n",
       "      <td>2.0</td>\n",
       "      <td>4.0</td>\n",
       "      <td>Real Bed</td>\n",
       "      <td>NaN</td>\n",
       "    </tr>\n",
       "    <tr>\n",
       "      <th>8049784</th>\n",
       "      <td>Host Has Profile Pic</td>\n",
       "      <td>House</td>\n",
       "      <td>Private room</td>\n",
       "      <td>2.0</td>\n",
       "      <td>1.0</td>\n",
       "      <td>1.0</td>\n",
       "      <td>1.0</td>\n",
       "      <td>Real Bed</td>\n",
       "      <td>NaN</td>\n",
       "    </tr>\n",
       "  </tbody>\n",
       "</table>\n",
       "</div>"
      ],
      "text/plain": [
       "                                                   Features Property Type  \\\n",
       "ID                                                                          \n",
       "15802051                               Host Has Profile Pic         House   \n",
       "14751869  Host Is Superhost,Host Has Profile Pic,Host Id...         House   \n",
       "8901485         Host Has Profile Pic,Host Identity Verified     Apartment   \n",
       "5832248                                Host Has Profile Pic     Apartment   \n",
       "8049784                                Host Has Profile Pic         House   \n",
       "\n",
       "                Room Type  Accommodates  Bathrooms  Bedrooms  Beds  Bed Type  \\\n",
       "ID                                                                             \n",
       "15802051     Private room           2.0        1.0       2.0   2.0  Real Bed   \n",
       "14751869  Entire home/apt           8.0        1.5       4.0   4.0  Real Bed   \n",
       "8901485      Private room           2.0        1.0       1.0   1.0  Real Bed   \n",
       "5832248   Entire home/apt           6.0        1.0       2.0   4.0  Real Bed   \n",
       "8049784      Private room           2.0        1.0       1.0   1.0  Real Bed   \n",
       "\n",
       "          Square Feet  \n",
       "ID                     \n",
       "15802051          NaN  \n",
       "14751869          NaN  \n",
       "8901485           NaN  \n",
       "5832248           NaN  \n",
       "8049784           NaN  "
      ]
     },
     "execution_count": 59,
     "metadata": {},
     "output_type": "execute_result"
    }
   ],
   "source": [
    "res_characteristics.head()"
   ]
  },
  {
   "cell_type": "code",
   "execution_count": 60,
   "metadata": {},
   "outputs": [],
   "source": [
    "#split the features into a new dataframe \"features\"\n",
    "#drop the columns Features and Square feet from the res_characteristics dataframe\n",
    "features = res_characteristics[['Features']]\n",
    "res_characteristics = res_characteristics.drop(['Features','Square Feet'],axis=1)"
   ]
  },
  {
   "cell_type": "markdown",
   "metadata": {},
   "source": [
    "#### Creating the binary features dataframe with host information\n",
    "\n",
    "The host features bring information about the Host. These features give information about the host, the requirements for guests and about the type of booking of the residence. In particular:\n",
    "\n",
    "* For the host: if i. has profile picture, ii. is \"verified\" by previous guests, and iii. is a \"super host\".\n",
    "* For the guest requirements: if the guests are requrired to have a: i. profile picutre, ii. phone verification and iii. licencse.\n",
    "* For the type of booking: if i. location is exact, and ii. if listing is instant bookable.\n",
    "\n",
    "We will extract these features into a binary table with such categories, being 1 having that categories and 0 otherwise."
   ]
  },
  {
   "cell_type": "code",
   "execution_count": null,
   "metadata": {},
   "outputs": [],
   "source": []
  },
  {
   "cell_type": "code",
   "execution_count": 61,
   "metadata": {},
   "outputs": [
    {
     "data": {
      "text/html": [
       "<div>\n",
       "<style scoped>\n",
       "    .dataframe tbody tr th:only-of-type {\n",
       "        vertical-align: middle;\n",
       "    }\n",
       "\n",
       "    .dataframe tbody tr th {\n",
       "        vertical-align: top;\n",
       "    }\n",
       "\n",
       "    .dataframe thead th {\n",
       "        text-align: right;\n",
       "    }\n",
       "</style>\n",
       "<table border=\"1\" class=\"dataframe\">\n",
       "  <thead>\n",
       "    <tr style=\"text-align: right;\">\n",
       "      <th></th>\n",
       "      <th>Features</th>\n",
       "    </tr>\n",
       "    <tr>\n",
       "      <th>ID</th>\n",
       "      <th></th>\n",
       "    </tr>\n",
       "  </thead>\n",
       "  <tbody>\n",
       "    <tr>\n",
       "      <th>15802051</th>\n",
       "      <td>Host Has Profile Pic</td>\n",
       "    </tr>\n",
       "    <tr>\n",
       "      <th>14751869</th>\n",
       "      <td>Host Is Superhost,Host Has Profile Pic,Host Id...</td>\n",
       "    </tr>\n",
       "    <tr>\n",
       "      <th>8901485</th>\n",
       "      <td>Host Has Profile Pic,Host Identity Verified</td>\n",
       "    </tr>\n",
       "    <tr>\n",
       "      <th>5832248</th>\n",
       "      <td>Host Has Profile Pic</td>\n",
       "    </tr>\n",
       "    <tr>\n",
       "      <th>8049784</th>\n",
       "      <td>Host Has Profile Pic</td>\n",
       "    </tr>\n",
       "  </tbody>\n",
       "</table>\n",
       "</div>"
      ],
      "text/plain": [
       "                                                   Features\n",
       "ID                                                         \n",
       "15802051                               Host Has Profile Pic\n",
       "14751869  Host Is Superhost,Host Has Profile Pic,Host Id...\n",
       "8901485         Host Has Profile Pic,Host Identity Verified\n",
       "5832248                                Host Has Profile Pic\n",
       "8049784                                Host Has Profile Pic"
      ]
     },
     "execution_count": 61,
     "metadata": {},
     "output_type": "execute_result"
    }
   ],
   "source": [
    "features.head()"
   ]
  },
  {
   "cell_type": "code",
   "execution_count": 62,
   "metadata": {
    "scrolled": true
   },
   "outputs": [
    {
     "name": "stderr",
     "output_type": "stream",
     "text": [
      "C:\\Users\\34658\\Anaconda3\\lib\\site-packages\\ipykernel_launcher.py:1: FutureWarning: The pandas.np module is deprecated and will be removed from pandas in a future version. Import numpy directly instead\n",
      "  \"\"\"Entry point for launching an IPython kernel.\n",
      "C:\\Users\\34658\\Anaconda3\\lib\\site-packages\\ipykernel_launcher.py:2: FutureWarning: The pandas.np module is deprecated and will be removed from pandas in a future version. Import numpy directly instead\n",
      "  \n",
      "C:\\Users\\34658\\Anaconda3\\lib\\site-packages\\ipykernel_launcher.py:3: FutureWarning: The pandas.np module is deprecated and will be removed from pandas in a future version. Import numpy directly instead\n",
      "  This is separate from the ipykernel package so we can avoid doing imports until\n",
      "C:\\Users\\34658\\Anaconda3\\lib\\site-packages\\ipykernel_launcher.py:4: FutureWarning: The pandas.np module is deprecated and will be removed from pandas in a future version. Import numpy directly instead\n",
      "  after removing the cwd from sys.path.\n",
      "C:\\Users\\34658\\Anaconda3\\lib\\site-packages\\ipykernel_launcher.py:5: FutureWarning: The pandas.np module is deprecated and will be removed from pandas in a future version. Import numpy directly instead\n",
      "  \"\"\"\n",
      "C:\\Users\\34658\\Anaconda3\\lib\\site-packages\\ipykernel_launcher.py:6: FutureWarning: The pandas.np module is deprecated and will be removed from pandas in a future version. Import numpy directly instead\n",
      "  \n",
      "C:\\Users\\34658\\Anaconda3\\lib\\site-packages\\ipykernel_launcher.py:7: FutureWarning: The pandas.np module is deprecated and will be removed from pandas in a future version. Import numpy directly instead\n",
      "  import sys\n"
     ]
    }
   ],
   "source": [
    "features['Host pic'] = pd.np.where(features.Features.str.contains(\"Host Has Profile Pic\"),1,0)\n",
    "features['Host verified'] = pd.np.where(features.Features.str.contains(\"Host Identity Verified\"),1,0)\n",
    "features['Host superhost'] = pd.np.where(features.Features.str.contains(\"Host Is Superhost\"),1,0)\n",
    "features['Instant book'] = pd.np.where(features.Features.str.contains(\"Instant Bookable\"),1,0)\n",
    "features['Req guest phone'] = pd.np.where(features.Features.str.contains(\"Require Guest Phone Verification\"),1,0)\n",
    "features['Req guest pic'] = pd.np.where(features.Features.str.contains(\"Require Guest Profile Picture\"),1,0)\n",
    "features['Req license'] = pd.np.where(features.Features.str.contains(\"Requires License\"),1,0)"
   ]
  },
  {
   "cell_type": "code",
   "execution_count": 63,
   "metadata": {},
   "outputs": [],
   "source": [
    "host_features = features.loc[:, features.columns != 'Features']"
   ]
  },
  {
   "cell_type": "code",
   "execution_count": 64,
   "metadata": {
    "scrolled": true
   },
   "outputs": [
    {
     "data": {
      "text/html": [
       "<div>\n",
       "<style scoped>\n",
       "    .dataframe tbody tr th:only-of-type {\n",
       "        vertical-align: middle;\n",
       "    }\n",
       "\n",
       "    .dataframe tbody tr th {\n",
       "        vertical-align: top;\n",
       "    }\n",
       "\n",
       "    .dataframe thead th {\n",
       "        text-align: right;\n",
       "    }\n",
       "</style>\n",
       "<table border=\"1\" class=\"dataframe\">\n",
       "  <thead>\n",
       "    <tr style=\"text-align: right;\">\n",
       "      <th></th>\n",
       "      <th>Host pic</th>\n",
       "      <th>Host verified</th>\n",
       "      <th>Host superhost</th>\n",
       "      <th>Instant book</th>\n",
       "      <th>Req guest phone</th>\n",
       "      <th>Req guest pic</th>\n",
       "      <th>Req license</th>\n",
       "    </tr>\n",
       "    <tr>\n",
       "      <th>ID</th>\n",
       "      <th></th>\n",
       "      <th></th>\n",
       "      <th></th>\n",
       "      <th></th>\n",
       "      <th></th>\n",
       "      <th></th>\n",
       "      <th></th>\n",
       "    </tr>\n",
       "  </thead>\n",
       "  <tbody>\n",
       "    <tr>\n",
       "      <th>15802051</th>\n",
       "      <td>1</td>\n",
       "      <td>0</td>\n",
       "      <td>0</td>\n",
       "      <td>0</td>\n",
       "      <td>0</td>\n",
       "      <td>0</td>\n",
       "      <td>0</td>\n",
       "    </tr>\n",
       "    <tr>\n",
       "      <th>14751869</th>\n",
       "      <td>1</td>\n",
       "      <td>1</td>\n",
       "      <td>1</td>\n",
       "      <td>1</td>\n",
       "      <td>0</td>\n",
       "      <td>0</td>\n",
       "      <td>0</td>\n",
       "    </tr>\n",
       "    <tr>\n",
       "      <th>8901485</th>\n",
       "      <td>1</td>\n",
       "      <td>1</td>\n",
       "      <td>0</td>\n",
       "      <td>0</td>\n",
       "      <td>0</td>\n",
       "      <td>0</td>\n",
       "      <td>0</td>\n",
       "    </tr>\n",
       "    <tr>\n",
       "      <th>5832248</th>\n",
       "      <td>1</td>\n",
       "      <td>0</td>\n",
       "      <td>0</td>\n",
       "      <td>0</td>\n",
       "      <td>0</td>\n",
       "      <td>0</td>\n",
       "      <td>0</td>\n",
       "    </tr>\n",
       "    <tr>\n",
       "      <th>8049784</th>\n",
       "      <td>1</td>\n",
       "      <td>0</td>\n",
       "      <td>0</td>\n",
       "      <td>0</td>\n",
       "      <td>0</td>\n",
       "      <td>0</td>\n",
       "      <td>0</td>\n",
       "    </tr>\n",
       "    <tr>\n",
       "      <th>...</th>\n",
       "      <td>...</td>\n",
       "      <td>...</td>\n",
       "      <td>...</td>\n",
       "      <td>...</td>\n",
       "      <td>...</td>\n",
       "      <td>...</td>\n",
       "      <td>...</td>\n",
       "    </tr>\n",
       "    <tr>\n",
       "      <th>2610162</th>\n",
       "      <td>1</td>\n",
       "      <td>1</td>\n",
       "      <td>0</td>\n",
       "      <td>0</td>\n",
       "      <td>0</td>\n",
       "      <td>0</td>\n",
       "      <td>0</td>\n",
       "    </tr>\n",
       "    <tr>\n",
       "      <th>13760682</th>\n",
       "      <td>1</td>\n",
       "      <td>1</td>\n",
       "      <td>0</td>\n",
       "      <td>0</td>\n",
       "      <td>0</td>\n",
       "      <td>0</td>\n",
       "      <td>0</td>\n",
       "    </tr>\n",
       "    <tr>\n",
       "      <th>9173969</th>\n",
       "      <td>1</td>\n",
       "      <td>0</td>\n",
       "      <td>0</td>\n",
       "      <td>0</td>\n",
       "      <td>0</td>\n",
       "      <td>0</td>\n",
       "      <td>0</td>\n",
       "    </tr>\n",
       "    <tr>\n",
       "      <th>13754942</th>\n",
       "      <td>1</td>\n",
       "      <td>0</td>\n",
       "      <td>0</td>\n",
       "      <td>0</td>\n",
       "      <td>0</td>\n",
       "      <td>0</td>\n",
       "      <td>0</td>\n",
       "    </tr>\n",
       "    <tr>\n",
       "      <th>8642835</th>\n",
       "      <td>1</td>\n",
       "      <td>1</td>\n",
       "      <td>0</td>\n",
       "      <td>0</td>\n",
       "      <td>0</td>\n",
       "      <td>0</td>\n",
       "      <td>0</td>\n",
       "    </tr>\n",
       "  </tbody>\n",
       "</table>\n",
       "<p>267748 rows × 7 columns</p>\n",
       "</div>"
      ],
      "text/plain": [
       "          Host pic  Host verified  Host superhost  Instant book  \\\n",
       "ID                                                                \n",
       "15802051         1              0               0             0   \n",
       "14751869         1              1               1             1   \n",
       "8901485          1              1               0             0   \n",
       "5832248          1              0               0             0   \n",
       "8049784          1              0               0             0   \n",
       "...            ...            ...             ...           ...   \n",
       "2610162          1              1               0             0   \n",
       "13760682         1              1               0             0   \n",
       "9173969          1              0               0             0   \n",
       "13754942         1              0               0             0   \n",
       "8642835          1              1               0             0   \n",
       "\n",
       "          Req guest phone  Req guest pic  Req license  \n",
       "ID                                                     \n",
       "15802051                0              0            0  \n",
       "14751869                0              0            0  \n",
       "8901485                 0              0            0  \n",
       "5832248                 0              0            0  \n",
       "8049784                 0              0            0  \n",
       "...                   ...            ...          ...  \n",
       "2610162                 0              0            0  \n",
       "13760682                0              0            0  \n",
       "9173969                 0              0            0  \n",
       "13754942                0              0            0  \n",
       "8642835                 0              0            0  \n",
       "\n",
       "[267748 rows x 7 columns]"
      ]
     },
     "execution_count": 64,
     "metadata": {},
     "output_type": "execute_result"
    }
   ],
   "source": [
    "host_features"
   ]
  },
  {
   "cell_type": "code",
   "execution_count": 65,
   "metadata": {
    "scrolled": false
   },
   "outputs": [
    {
     "data": {
      "text/plain": [
       "Host pic           0\n",
       "Host verified      0\n",
       "Host superhost     0\n",
       "Instant book       0\n",
       "Req guest phone    0\n",
       "Req guest pic      0\n",
       "Req license        0\n",
       "dtype: int64"
      ]
     },
     "execution_count": 65,
     "metadata": {},
     "output_type": "execute_result"
    }
   ],
   "source": [
    "host_features.isnull().sum()"
   ]
  },
  {
   "cell_type": "markdown",
   "metadata": {},
   "source": [
    "#### Conclussions\n",
    "\n",
    "We have imputed values for the residence characteristics and generated a new dataframe \"res_features\" including the information about the host features."
   ]
  },
  {
   "cell_type": "markdown",
   "metadata": {},
   "source": [
    "### Listing ratings\n",
    "\n",
    "The listing ratings show the scores that each listing received from previous guests.\n",
    "\n",
    "The scores can be about:\n",
    "* number of reviews: how many guests rated the residence\n",
    "* rating: a value between 0 and 100\n",
    "* cleaningless: a value between 0 and 10\n",
    "* check in: a value between 0 and 10\n",
    "* communication: a value between 0 and 10\n",
    "* location: a value between 0 and 10\n",
    "* value: a value between 0 and 10\n",
    "* reviews/month: number o reviews divided by number of months the listing has been in the dataset\n",
    "\n",
    "We will focus on imputing zero values for the residences that have 0 reviews.\n",
    "\n",
    "We will also calculate a column with the age of the residence, meaning how much time has passed between the first review and the last review."
   ]
  },
  {
   "cell_type": "code",
   "execution_count": 66,
   "metadata": {
    "scrolled": true
   },
   "outputs": [
    {
     "data": {
      "text/plain": [
       "First Review                   64673\n",
       "Last Review                    64735\n",
       "Number of Reviews                  0\n",
       "Review Scores Rating           67847\n",
       "Review Scores Accuracy         68315\n",
       "Review Scores Cleanliness      68198\n",
       "Review Scores Checkin          68491\n",
       "Review Scores Communication    68226\n",
       "Review Scores Location         68450\n",
       "Review Scores Value            68506\n",
       "Reviews per Month              64673\n",
       "dtype: int64"
      ]
     },
     "execution_count": 66,
     "metadata": {},
     "output_type": "execute_result"
    }
   ],
   "source": [
    "res_rating.isnull().sum()"
   ]
  },
  {
   "cell_type": "code",
   "execution_count": 67,
   "metadata": {},
   "outputs": [
    {
     "data": {
      "text/plain": [
       "(267748, 11)"
      ]
     },
     "execution_count": 67,
     "metadata": {},
     "output_type": "execute_result"
    }
   ],
   "source": [
    "res_rating.shape"
   ]
  },
  {
   "cell_type": "code",
   "execution_count": 68,
   "metadata": {
    "scrolled": false
   },
   "outputs": [
    {
     "data": {
      "text/html": [
       "<div>\n",
       "<style scoped>\n",
       "    .dataframe tbody tr th:only-of-type {\n",
       "        vertical-align: middle;\n",
       "    }\n",
       "\n",
       "    .dataframe tbody tr th {\n",
       "        vertical-align: top;\n",
       "    }\n",
       "\n",
       "    .dataframe thead th {\n",
       "        text-align: right;\n",
       "    }\n",
       "</style>\n",
       "<table border=\"1\" class=\"dataframe\">\n",
       "  <thead>\n",
       "    <tr style=\"text-align: right;\">\n",
       "      <th></th>\n",
       "      <th>First Review</th>\n",
       "      <th>Last Review</th>\n",
       "      <th>Number of Reviews</th>\n",
       "      <th>Review Scores Rating</th>\n",
       "      <th>Review Scores Accuracy</th>\n",
       "      <th>Review Scores Cleanliness</th>\n",
       "      <th>Review Scores Checkin</th>\n",
       "      <th>Review Scores Communication</th>\n",
       "      <th>Review Scores Location</th>\n",
       "      <th>Review Scores Value</th>\n",
       "      <th>Reviews per Month</th>\n",
       "    </tr>\n",
       "    <tr>\n",
       "      <th>ID</th>\n",
       "      <th></th>\n",
       "      <th></th>\n",
       "      <th></th>\n",
       "      <th></th>\n",
       "      <th></th>\n",
       "      <th></th>\n",
       "      <th></th>\n",
       "      <th></th>\n",
       "      <th></th>\n",
       "      <th></th>\n",
       "      <th></th>\n",
       "    </tr>\n",
       "  </thead>\n",
       "  <tbody>\n",
       "    <tr>\n",
       "      <th>15802051</th>\n",
       "      <td>2016-11-18</td>\n",
       "      <td>2017-01-02</td>\n",
       "      <td>3.0</td>\n",
       "      <td>93.0</td>\n",
       "      <td>9.0</td>\n",
       "      <td>9.0</td>\n",
       "      <td>10.0</td>\n",
       "      <td>9.0</td>\n",
       "      <td>10.0</td>\n",
       "      <td>10.0</td>\n",
       "      <td>0.83</td>\n",
       "    </tr>\n",
       "    <tr>\n",
       "      <th>14751869</th>\n",
       "      <td>2016-09-18</td>\n",
       "      <td>2017-02-25</td>\n",
       "      <td>21.0</td>\n",
       "      <td>95.0</td>\n",
       "      <td>10.0</td>\n",
       "      <td>10.0</td>\n",
       "      <td>9.0</td>\n",
       "      <td>10.0</td>\n",
       "      <td>9.0</td>\n",
       "      <td>10.0</td>\n",
       "      <td>3.73</td>\n",
       "    </tr>\n",
       "    <tr>\n",
       "      <th>8901485</th>\n",
       "      <td>NaN</td>\n",
       "      <td>NaN</td>\n",
       "      <td>0.0</td>\n",
       "      <td>NaN</td>\n",
       "      <td>NaN</td>\n",
       "      <td>NaN</td>\n",
       "      <td>NaN</td>\n",
       "      <td>NaN</td>\n",
       "      <td>NaN</td>\n",
       "      <td>NaN</td>\n",
       "      <td>NaN</td>\n",
       "    </tr>\n",
       "    <tr>\n",
       "      <th>5832248</th>\n",
       "      <td>2015-09-19</td>\n",
       "      <td>2016-05-03</td>\n",
       "      <td>2.0</td>\n",
       "      <td>100.0</td>\n",
       "      <td>10.0</td>\n",
       "      <td>10.0</td>\n",
       "      <td>10.0</td>\n",
       "      <td>10.0</td>\n",
       "      <td>10.0</td>\n",
       "      <td>10.0</td>\n",
       "      <td>0.11</td>\n",
       "    </tr>\n",
       "    <tr>\n",
       "      <th>8049784</th>\n",
       "      <td>2015-11-03</td>\n",
       "      <td>2016-01-18</td>\n",
       "      <td>3.0</td>\n",
       "      <td>93.0</td>\n",
       "      <td>9.0</td>\n",
       "      <td>9.0</td>\n",
       "      <td>10.0</td>\n",
       "      <td>10.0</td>\n",
       "      <td>9.0</td>\n",
       "      <td>9.0</td>\n",
       "      <td>0.18</td>\n",
       "    </tr>\n",
       "  </tbody>\n",
       "</table>\n",
       "</div>"
      ],
      "text/plain": [
       "         First Review Last Review  Number of Reviews  Review Scores Rating  \\\n",
       "ID                                                                           \n",
       "15802051   2016-11-18  2017-01-02                3.0                  93.0   \n",
       "14751869   2016-09-18  2017-02-25               21.0                  95.0   \n",
       "8901485           NaN         NaN                0.0                   NaN   \n",
       "5832248    2015-09-19  2016-05-03                2.0                 100.0   \n",
       "8049784    2015-11-03  2016-01-18                3.0                  93.0   \n",
       "\n",
       "          Review Scores Accuracy  Review Scores Cleanliness  \\\n",
       "ID                                                            \n",
       "15802051                     9.0                        9.0   \n",
       "14751869                    10.0                       10.0   \n",
       "8901485                      NaN                        NaN   \n",
       "5832248                     10.0                       10.0   \n",
       "8049784                      9.0                        9.0   \n",
       "\n",
       "          Review Scores Checkin  Review Scores Communication  \\\n",
       "ID                                                             \n",
       "15802051                   10.0                          9.0   \n",
       "14751869                    9.0                         10.0   \n",
       "8901485                     NaN                          NaN   \n",
       "5832248                    10.0                         10.0   \n",
       "8049784                    10.0                         10.0   \n",
       "\n",
       "          Review Scores Location  Review Scores Value  Reviews per Month  \n",
       "ID                                                                        \n",
       "15802051                    10.0                 10.0               0.83  \n",
       "14751869                     9.0                 10.0               3.73  \n",
       "8901485                      NaN                  NaN                NaN  \n",
       "5832248                     10.0                 10.0               0.11  \n",
       "8049784                      9.0                  9.0               0.18  "
      ]
     },
     "execution_count": 68,
     "metadata": {},
     "output_type": "execute_result"
    }
   ],
   "source": [
    "res_rating.head()"
   ]
  },
  {
   "cell_type": "code",
   "execution_count": 69,
   "metadata": {
    "scrolled": false
   },
   "outputs": [
    {
     "name": "stderr",
     "output_type": "stream",
     "text": [
      "C:\\Users\\34658\\Anaconda3\\lib\\site-packages\\pandas\\core\\indexing.py:1760: SettingWithCopyWarning: \n",
      "A value is trying to be set on a copy of a slice from a DataFrame.\n",
      "Try using .loc[row_indexer,col_indexer] = value instead\n",
      "\n",
      "See the caveats in the documentation: https://pandas.pydata.org/pandas-docs/stable/user_guide/indexing.html#returning-a-view-versus-a-copy\n",
      "  isetter(loc, v)\n"
     ]
    }
   ],
   "source": [
    "#fill with zero values all rows in which Number of reviews is zero\n",
    "res_rating.loc[res_rating['Number of Reviews'] == 0, ['First Review', 'Last Review','Review Scores Rating','Review Scores Accuracy','Review Scores Cleanliness','Review Scores Checkin','Review Scores Communication','Review Scores Location','Review Scores Value','Reviews per Month']] = 0,0,0,0,0,0,0,0,0,0"
   ]
  },
  {
   "cell_type": "code",
   "execution_count": 70,
   "metadata": {
    "scrolled": true
   },
   "outputs": [
    {
     "data": {
      "text/plain": [
       "First Review                    object\n",
       "Last Review                     object\n",
       "Number of Reviews              float64\n",
       "Review Scores Rating           float64\n",
       "Review Scores Accuracy         float64\n",
       "Review Scores Cleanliness      float64\n",
       "Review Scores Checkin          float64\n",
       "Review Scores Communication    float64\n",
       "Review Scores Location         float64\n",
       "Review Scores Value            float64\n",
       "Reviews per Month              float64\n",
       "dtype: object"
      ]
     },
     "execution_count": 70,
     "metadata": {},
     "output_type": "execute_result"
    }
   ],
   "source": [
    "res_rating.dtypes"
   ]
  },
  {
   "cell_type": "code",
   "execution_count": 71,
   "metadata": {
    "scrolled": false
   },
   "outputs": [
    {
     "name": "stderr",
     "output_type": "stream",
     "text": [
      "C:\\Users\\34658\\Anaconda3\\lib\\site-packages\\ipykernel_launcher.py:1: SettingWithCopyWarning: \n",
      "A value is trying to be set on a copy of a slice from a DataFrame.\n",
      "Try using .loc[row_indexer,col_indexer] = value instead\n",
      "\n",
      "See the caveats in the documentation: https://pandas.pydata.org/pandas-docs/stable/user_guide/indexing.html#returning-a-view-versus-a-copy\n",
      "  \"\"\"Entry point for launching an IPython kernel.\n",
      "C:\\Users\\34658\\Anaconda3\\lib\\site-packages\\ipykernel_launcher.py:2: SettingWithCopyWarning: \n",
      "A value is trying to be set on a copy of a slice from a DataFrame.\n",
      "Try using .loc[row_indexer,col_indexer] = value instead\n",
      "\n",
      "See the caveats in the documentation: https://pandas.pydata.org/pandas-docs/stable/user_guide/indexing.html#returning-a-view-versus-a-copy\n",
      "  \n"
     ]
    }
   ],
   "source": [
    "res_rating['First Review'] = pd.to_datetime(res_rating['First Review'])\n",
    "res_rating['Last Review'] = pd.to_datetime(res_rating['Last Review'])"
   ]
  },
  {
   "cell_type": "code",
   "execution_count": 72,
   "metadata": {},
   "outputs": [
    {
     "name": "stderr",
     "output_type": "stream",
     "text": [
      "C:\\Users\\34658\\Anaconda3\\lib\\site-packages\\ipykernel_launcher.py:1: SettingWithCopyWarning: \n",
      "A value is trying to be set on a copy of a slice from a DataFrame.\n",
      "Try using .loc[row_indexer,col_indexer] = value instead\n",
      "\n",
      "See the caveats in the documentation: https://pandas.pydata.org/pandas-docs/stable/user_guide/indexing.html#returning-a-view-versus-a-copy\n",
      "  \"\"\"Entry point for launching an IPython kernel.\n"
     ]
    }
   ],
   "source": [
    "res_rating['Last Review'] = np.where(res_rating['Last Review'].isnull(),res_rating['First Review'],res_rating['Last Review'])"
   ]
  },
  {
   "cell_type": "code",
   "execution_count": 73,
   "metadata": {
    "scrolled": false
   },
   "outputs": [
    {
     "name": "stderr",
     "output_type": "stream",
     "text": [
      "C:\\Users\\34658\\Anaconda3\\lib\\site-packages\\ipykernel_launcher.py:1: SettingWithCopyWarning: \n",
      "A value is trying to be set on a copy of a slice from a DataFrame.\n",
      "Try using .loc[row_indexer,col_indexer] = value instead\n",
      "\n",
      "See the caveats in the documentation: https://pandas.pydata.org/pandas-docs/stable/user_guide/indexing.html#returning-a-view-versus-a-copy\n",
      "  \"\"\"Entry point for launching an IPython kernel.\n"
     ]
    }
   ],
   "source": [
    "res_rating['Age'] = res_rating['Last Review'] - res_rating['First Review']"
   ]
  },
  {
   "cell_type": "code",
   "execution_count": 74,
   "metadata": {
    "scrolled": true
   },
   "outputs": [
    {
     "data": {
      "text/html": [
       "<div>\n",
       "<style scoped>\n",
       "    .dataframe tbody tr th:only-of-type {\n",
       "        vertical-align: middle;\n",
       "    }\n",
       "\n",
       "    .dataframe tbody tr th {\n",
       "        vertical-align: top;\n",
       "    }\n",
       "\n",
       "    .dataframe thead th {\n",
       "        text-align: right;\n",
       "    }\n",
       "</style>\n",
       "<table border=\"1\" class=\"dataframe\">\n",
       "  <thead>\n",
       "    <tr style=\"text-align: right;\">\n",
       "      <th></th>\n",
       "      <th>First Review</th>\n",
       "      <th>Last Review</th>\n",
       "      <th>Number of Reviews</th>\n",
       "      <th>Review Scores Rating</th>\n",
       "      <th>Review Scores Accuracy</th>\n",
       "      <th>Review Scores Cleanliness</th>\n",
       "      <th>Review Scores Checkin</th>\n",
       "      <th>Review Scores Communication</th>\n",
       "      <th>Review Scores Location</th>\n",
       "      <th>Review Scores Value</th>\n",
       "      <th>Reviews per Month</th>\n",
       "      <th>Age</th>\n",
       "    </tr>\n",
       "    <tr>\n",
       "      <th>ID</th>\n",
       "      <th></th>\n",
       "      <th></th>\n",
       "      <th></th>\n",
       "      <th></th>\n",
       "      <th></th>\n",
       "      <th></th>\n",
       "      <th></th>\n",
       "      <th></th>\n",
       "      <th></th>\n",
       "      <th></th>\n",
       "      <th></th>\n",
       "      <th></th>\n",
       "    </tr>\n",
       "  </thead>\n",
       "  <tbody>\n",
       "    <tr>\n",
       "      <th>15802051</th>\n",
       "      <td>2016-11-18</td>\n",
       "      <td>2017-01-02</td>\n",
       "      <td>3.0</td>\n",
       "      <td>93.0</td>\n",
       "      <td>9.0</td>\n",
       "      <td>9.0</td>\n",
       "      <td>10.0</td>\n",
       "      <td>9.0</td>\n",
       "      <td>10.0</td>\n",
       "      <td>10.0</td>\n",
       "      <td>0.83</td>\n",
       "      <td>45 days</td>\n",
       "    </tr>\n",
       "    <tr>\n",
       "      <th>14751869</th>\n",
       "      <td>2016-09-18</td>\n",
       "      <td>2017-02-25</td>\n",
       "      <td>21.0</td>\n",
       "      <td>95.0</td>\n",
       "      <td>10.0</td>\n",
       "      <td>10.0</td>\n",
       "      <td>9.0</td>\n",
       "      <td>10.0</td>\n",
       "      <td>9.0</td>\n",
       "      <td>10.0</td>\n",
       "      <td>3.73</td>\n",
       "      <td>160 days</td>\n",
       "    </tr>\n",
       "    <tr>\n",
       "      <th>8901485</th>\n",
       "      <td>1970-01-01</td>\n",
       "      <td>1970-01-01</td>\n",
       "      <td>0.0</td>\n",
       "      <td>0.0</td>\n",
       "      <td>0.0</td>\n",
       "      <td>0.0</td>\n",
       "      <td>0.0</td>\n",
       "      <td>0.0</td>\n",
       "      <td>0.0</td>\n",
       "      <td>0.0</td>\n",
       "      <td>0.00</td>\n",
       "      <td>0 days</td>\n",
       "    </tr>\n",
       "    <tr>\n",
       "      <th>5832248</th>\n",
       "      <td>2015-09-19</td>\n",
       "      <td>2016-05-03</td>\n",
       "      <td>2.0</td>\n",
       "      <td>100.0</td>\n",
       "      <td>10.0</td>\n",
       "      <td>10.0</td>\n",
       "      <td>10.0</td>\n",
       "      <td>10.0</td>\n",
       "      <td>10.0</td>\n",
       "      <td>10.0</td>\n",
       "      <td>0.11</td>\n",
       "      <td>227 days</td>\n",
       "    </tr>\n",
       "    <tr>\n",
       "      <th>8049784</th>\n",
       "      <td>2015-11-03</td>\n",
       "      <td>2016-01-18</td>\n",
       "      <td>3.0</td>\n",
       "      <td>93.0</td>\n",
       "      <td>9.0</td>\n",
       "      <td>9.0</td>\n",
       "      <td>10.0</td>\n",
       "      <td>10.0</td>\n",
       "      <td>9.0</td>\n",
       "      <td>9.0</td>\n",
       "      <td>0.18</td>\n",
       "      <td>76 days</td>\n",
       "    </tr>\n",
       "  </tbody>\n",
       "</table>\n",
       "</div>"
      ],
      "text/plain": [
       "         First Review Last Review  Number of Reviews  Review Scores Rating  \\\n",
       "ID                                                                           \n",
       "15802051   2016-11-18  2017-01-02                3.0                  93.0   \n",
       "14751869   2016-09-18  2017-02-25               21.0                  95.0   \n",
       "8901485    1970-01-01  1970-01-01                0.0                   0.0   \n",
       "5832248    2015-09-19  2016-05-03                2.0                 100.0   \n",
       "8049784    2015-11-03  2016-01-18                3.0                  93.0   \n",
       "\n",
       "          Review Scores Accuracy  Review Scores Cleanliness  \\\n",
       "ID                                                            \n",
       "15802051                     9.0                        9.0   \n",
       "14751869                    10.0                       10.0   \n",
       "8901485                      0.0                        0.0   \n",
       "5832248                     10.0                       10.0   \n",
       "8049784                      9.0                        9.0   \n",
       "\n",
       "          Review Scores Checkin  Review Scores Communication  \\\n",
       "ID                                                             \n",
       "15802051                   10.0                          9.0   \n",
       "14751869                    9.0                         10.0   \n",
       "8901485                     0.0                          0.0   \n",
       "5832248                    10.0                         10.0   \n",
       "8049784                    10.0                         10.0   \n",
       "\n",
       "          Review Scores Location  Review Scores Value  Reviews per Month  \\\n",
       "ID                                                                         \n",
       "15802051                    10.0                 10.0               0.83   \n",
       "14751869                     9.0                 10.0               3.73   \n",
       "8901485                      0.0                  0.0               0.00   \n",
       "5832248                     10.0                 10.0               0.11   \n",
       "8049784                      9.0                  9.0               0.18   \n",
       "\n",
       "              Age  \n",
       "ID                 \n",
       "15802051  45 days  \n",
       "14751869 160 days  \n",
       "8901485    0 days  \n",
       "5832248  227 days  \n",
       "8049784   76 days  "
      ]
     },
     "execution_count": 74,
     "metadata": {},
     "output_type": "execute_result"
    }
   ],
   "source": [
    "res_rating.head()"
   ]
  },
  {
   "cell_type": "code",
   "execution_count": 75,
   "metadata": {},
   "outputs": [
    {
     "data": {
      "text/plain": [
       "(267748, 12)"
      ]
     },
     "execution_count": 75,
     "metadata": {},
     "output_type": "execute_result"
    }
   ],
   "source": [
    "res_rating.shape"
   ]
  },
  {
   "cell_type": "code",
   "execution_count": 76,
   "metadata": {
    "scrolled": true
   },
   "outputs": [],
   "source": [
    "#drop all rows with all missing values\n",
    "res_rating = res_rating.dropna(how='any',subset=['First Review','Last Review','Number of Reviews','Review Scores Rating',\n",
    "                                                  'Review Scores Accuracy','Review Scores Cleanliness',\n",
    "                                                  'Review Scores Checkin','Review Scores Communication',\n",
    "                                                  'Review Scores Location','Review Scores Value','Reviews per Month','Age'])"
   ]
  },
  {
   "cell_type": "code",
   "execution_count": 77,
   "metadata": {
    "scrolled": true
   },
   "outputs": [
    {
     "data": {
      "text/plain": [
       "(263547, 12)"
      ]
     },
     "execution_count": 77,
     "metadata": {},
     "output_type": "execute_result"
    }
   ],
   "source": [
    "res_rating.shape"
   ]
  },
  {
   "cell_type": "code",
   "execution_count": 78,
   "metadata": {
    "scrolled": false
   },
   "outputs": [
    {
     "data": {
      "text/plain": [
       "First Review                   0\n",
       "Last Review                    0\n",
       "Number of Reviews              0\n",
       "Review Scores Rating           0\n",
       "Review Scores Accuracy         0\n",
       "Review Scores Cleanliness      0\n",
       "Review Scores Checkin          0\n",
       "Review Scores Communication    0\n",
       "Review Scores Location         0\n",
       "Review Scores Value            0\n",
       "Reviews per Month              0\n",
       "Age                            0\n",
       "dtype: int64"
      ]
     },
     "execution_count": 78,
     "metadata": {},
     "output_type": "execute_result"
    }
   ],
   "source": [
    "res_rating.isnull().sum()"
   ]
  },
  {
   "cell_type": "code",
   "execution_count": 79,
   "metadata": {},
   "outputs": [
    {
     "name": "stdout",
     "output_type": "stream",
     "text": [
      "After dropping the missing rows we maintain 98.0 % of the res_rating residences\n"
     ]
    }
   ],
   "source": [
    "print('After dropping the missing rows we maintain',np.round((263547/267748),2)*100,'% of the res_rating residences')"
   ]
  },
  {
   "cell_type": "markdown",
   "metadata": {},
   "source": [
    "### The listings price\n",
    "\n",
    "The listings price is an important feature to consider, we want to have features that allow us to pair hosts later on. Knowing the price of their residences is a good indicator to match them, as the value of the listing, in monetary terms should be similar so that the trade-off is fair between them.\n",
    "\n",
    "In big cities, regardless of their residence structure, it is logical that the listings are more expensive than in the country side. However, it should be possible to prioritize the listing price instead of the listing characteristics to make clusters."
   ]
  },
  {
   "cell_type": "code",
   "execution_count": 80,
   "metadata": {
    "scrolled": true
   },
   "outputs": [
    {
     "data": {
      "text/plain": [
       "Price                    4182\n",
       "Weekly Price           210869\n",
       "Monthly Price          218146\n",
       "Security Deposit       158517\n",
       "Cleaning Fee           104717\n",
       "Guests Included             0\n",
       "Extra People               25\n",
       "Cancellation Policy         0\n",
       "dtype: int64"
      ]
     },
     "execution_count": 80,
     "metadata": {},
     "output_type": "execute_result"
    }
   ],
   "source": [
    "res_price.isnull().sum()"
   ]
  },
  {
   "cell_type": "code",
   "execution_count": 81,
   "metadata": {},
   "outputs": [
    {
     "data": {
      "text/html": [
       "<div>\n",
       "<style scoped>\n",
       "    .dataframe tbody tr th:only-of-type {\n",
       "        vertical-align: middle;\n",
       "    }\n",
       "\n",
       "    .dataframe tbody tr th {\n",
       "        vertical-align: top;\n",
       "    }\n",
       "\n",
       "    .dataframe thead th {\n",
       "        text-align: right;\n",
       "    }\n",
       "</style>\n",
       "<table border=\"1\" class=\"dataframe\">\n",
       "  <thead>\n",
       "    <tr style=\"text-align: right;\">\n",
       "      <th></th>\n",
       "      <th>Price</th>\n",
       "      <th>Weekly Price</th>\n",
       "      <th>Monthly Price</th>\n",
       "      <th>Security Deposit</th>\n",
       "      <th>Cleaning Fee</th>\n",
       "      <th>Guests Included</th>\n",
       "      <th>Extra People</th>\n",
       "      <th>Cancellation Policy</th>\n",
       "    </tr>\n",
       "    <tr>\n",
       "      <th>ID</th>\n",
       "      <th></th>\n",
       "      <th></th>\n",
       "      <th></th>\n",
       "      <th></th>\n",
       "      <th></th>\n",
       "      <th></th>\n",
       "      <th></th>\n",
       "      <th></th>\n",
       "    </tr>\n",
       "  </thead>\n",
       "  <tbody>\n",
       "    <tr>\n",
       "      <th>15802051</th>\n",
       "      <td>44.0</td>\n",
       "      <td>NaN</td>\n",
       "      <td>NaN</td>\n",
       "      <td>100.0</td>\n",
       "      <td>NaN</td>\n",
       "      <td>1.0</td>\n",
       "      <td>15.0</td>\n",
       "      <td>strict</td>\n",
       "    </tr>\n",
       "    <tr>\n",
       "      <th>14751869</th>\n",
       "      <td>139.0</td>\n",
       "      <td>NaN</td>\n",
       "      <td>NaN</td>\n",
       "      <td>400.0</td>\n",
       "      <td>65.0</td>\n",
       "      <td>1.0</td>\n",
       "      <td>0.0</td>\n",
       "      <td>moderate</td>\n",
       "    </tr>\n",
       "    <tr>\n",
       "      <th>8901485</th>\n",
       "      <td>70.0</td>\n",
       "      <td>NaN</td>\n",
       "      <td>NaN</td>\n",
       "      <td>NaN</td>\n",
       "      <td>NaN</td>\n",
       "      <td>1.0</td>\n",
       "      <td>0.0</td>\n",
       "      <td>flexible</td>\n",
       "    </tr>\n",
       "    <tr>\n",
       "      <th>5832248</th>\n",
       "      <td>70.0</td>\n",
       "      <td>NaN</td>\n",
       "      <td>NaN</td>\n",
       "      <td>NaN</td>\n",
       "      <td>25.0</td>\n",
       "      <td>1.0</td>\n",
       "      <td>12.0</td>\n",
       "      <td>strict</td>\n",
       "    </tr>\n",
       "    <tr>\n",
       "      <th>8049784</th>\n",
       "      <td>25.0</td>\n",
       "      <td>NaN</td>\n",
       "      <td>NaN</td>\n",
       "      <td>100.0</td>\n",
       "      <td>NaN</td>\n",
       "      <td>1.0</td>\n",
       "      <td>15.0</td>\n",
       "      <td>moderate</td>\n",
       "    </tr>\n",
       "  </tbody>\n",
       "</table>\n",
       "</div>"
      ],
      "text/plain": [
       "          Price  Weekly Price  Monthly Price  Security Deposit  Cleaning Fee  \\\n",
       "ID                                                                             \n",
       "15802051   44.0           NaN            NaN             100.0           NaN   \n",
       "14751869  139.0           NaN            NaN             400.0          65.0   \n",
       "8901485    70.0           NaN            NaN               NaN           NaN   \n",
       "5832248    70.0           NaN            NaN               NaN          25.0   \n",
       "8049784    25.0           NaN            NaN             100.0           NaN   \n",
       "\n",
       "          Guests Included  Extra People Cancellation Policy  \n",
       "ID                                                           \n",
       "15802051              1.0          15.0              strict  \n",
       "14751869              1.0           0.0            moderate  \n",
       "8901485               1.0           0.0            flexible  \n",
       "5832248               1.0          12.0              strict  \n",
       "8049784               1.0          15.0            moderate  "
      ]
     },
     "execution_count": 81,
     "metadata": {},
     "output_type": "execute_result"
    }
   ],
   "source": [
    "res_price.head()"
   ]
  },
  {
   "cell_type": "code",
   "execution_count": 82,
   "metadata": {
    "scrolled": false
   },
   "outputs": [
    {
     "name": "stderr",
     "output_type": "stream",
     "text": [
      "C:\\Users\\34658\\Anaconda3\\lib\\site-packages\\pandas\\core\\indexing.py:1745: SettingWithCopyWarning: \n",
      "A value is trying to be set on a copy of a slice from a DataFrame.\n",
      "Try using .loc[row_indexer,col_indexer] = value instead\n",
      "\n",
      "See the caveats in the documentation: https://pandas.pydata.org/pandas-docs/stable/user_guide/indexing.html#returning-a-view-versus-a-copy\n",
      "  isetter(ilocs[0], value)\n"
     ]
    }
   ],
   "source": [
    "#we recalculated the missing weekly and monthly price based on the daily price of the listings\n",
    "res_price.loc[:,'Weekly Price'] = np.where(res_price['Weekly Price'].isnull(), res_price['Price']*7, res_price['Weekly Price'])\n",
    "res_price.loc[:,'Monthly Price'] = np.where(res_price['Monthly Price'].isnull(), res_price['Price']*30, res_price['Monthly Price'])\n",
    "res_price.loc[:,'Security Deposit'] = np.where(res_price['Security Deposit'].isnull(), 0, res_price['Security Deposit'])\n",
    "res_price.loc[:,'Cleaning Fee'] = np.where(res_price['Cleaning Fee'].isnull(), 0, res_price['Cleaning Fee'])\n",
    "res_price.loc[:,'Extra People'] = np.where(res_price['Extra People'].isnull(), 0, res_price['Extra People'])"
   ]
  },
  {
   "cell_type": "code",
   "execution_count": 83,
   "metadata": {
    "scrolled": false
   },
   "outputs": [
    {
     "name": "stderr",
     "output_type": "stream",
     "text": [
      "C:\\Users\\34658\\Anaconda3\\lib\\site-packages\\ipykernel_launcher.py:2: SettingWithCopyWarning: \n",
      "A value is trying to be set on a copy of a slice from a DataFrame\n",
      "\n",
      "See the caveats in the documentation: https://pandas.pydata.org/pandas-docs/stable/user_guide/indexing.html#returning-a-view-versus-a-copy\n",
      "  \n"
     ]
    }
   ],
   "source": [
    "#we drop all listings without a price, as this is a very important feature to consider\n",
    "res_price.dropna(subset = [\"Price\"], inplace=True)"
   ]
  },
  {
   "cell_type": "code",
   "execution_count": 84,
   "metadata": {
    "scrolled": false
   },
   "outputs": [
    {
     "data": {
      "text/html": [
       "<div>\n",
       "<style scoped>\n",
       "    .dataframe tbody tr th:only-of-type {\n",
       "        vertical-align: middle;\n",
       "    }\n",
       "\n",
       "    .dataframe tbody tr th {\n",
       "        vertical-align: top;\n",
       "    }\n",
       "\n",
       "    .dataframe thead th {\n",
       "        text-align: right;\n",
       "    }\n",
       "</style>\n",
       "<table border=\"1\" class=\"dataframe\">\n",
       "  <thead>\n",
       "    <tr style=\"text-align: right;\">\n",
       "      <th></th>\n",
       "      <th>Price</th>\n",
       "      <th>Weekly Price</th>\n",
       "      <th>Monthly Price</th>\n",
       "      <th>Security Deposit</th>\n",
       "      <th>Cleaning Fee</th>\n",
       "      <th>Guests Included</th>\n",
       "      <th>Extra People</th>\n",
       "      <th>Cancellation Policy</th>\n",
       "    </tr>\n",
       "    <tr>\n",
       "      <th>ID</th>\n",
       "      <th></th>\n",
       "      <th></th>\n",
       "      <th></th>\n",
       "      <th></th>\n",
       "      <th></th>\n",
       "      <th></th>\n",
       "      <th></th>\n",
       "      <th></th>\n",
       "    </tr>\n",
       "  </thead>\n",
       "  <tbody>\n",
       "    <tr>\n",
       "      <th>15802051</th>\n",
       "      <td>44.0</td>\n",
       "      <td>308.0</td>\n",
       "      <td>1320.0</td>\n",
       "      <td>100.0</td>\n",
       "      <td>0.0</td>\n",
       "      <td>1.0</td>\n",
       "      <td>15.0</td>\n",
       "      <td>strict</td>\n",
       "    </tr>\n",
       "    <tr>\n",
       "      <th>14751869</th>\n",
       "      <td>139.0</td>\n",
       "      <td>973.0</td>\n",
       "      <td>4170.0</td>\n",
       "      <td>400.0</td>\n",
       "      <td>65.0</td>\n",
       "      <td>1.0</td>\n",
       "      <td>0.0</td>\n",
       "      <td>moderate</td>\n",
       "    </tr>\n",
       "    <tr>\n",
       "      <th>8901485</th>\n",
       "      <td>70.0</td>\n",
       "      <td>490.0</td>\n",
       "      <td>2100.0</td>\n",
       "      <td>0.0</td>\n",
       "      <td>0.0</td>\n",
       "      <td>1.0</td>\n",
       "      <td>0.0</td>\n",
       "      <td>flexible</td>\n",
       "    </tr>\n",
       "    <tr>\n",
       "      <th>5832248</th>\n",
       "      <td>70.0</td>\n",
       "      <td>490.0</td>\n",
       "      <td>2100.0</td>\n",
       "      <td>0.0</td>\n",
       "      <td>25.0</td>\n",
       "      <td>1.0</td>\n",
       "      <td>12.0</td>\n",
       "      <td>strict</td>\n",
       "    </tr>\n",
       "    <tr>\n",
       "      <th>8049784</th>\n",
       "      <td>25.0</td>\n",
       "      <td>175.0</td>\n",
       "      <td>750.0</td>\n",
       "      <td>100.0</td>\n",
       "      <td>0.0</td>\n",
       "      <td>1.0</td>\n",
       "      <td>15.0</td>\n",
       "      <td>moderate</td>\n",
       "    </tr>\n",
       "  </tbody>\n",
       "</table>\n",
       "</div>"
      ],
      "text/plain": [
       "          Price  Weekly Price  Monthly Price  Security Deposit  Cleaning Fee  \\\n",
       "ID                                                                             \n",
       "15802051   44.0         308.0         1320.0             100.0           0.0   \n",
       "14751869  139.0         973.0         4170.0             400.0          65.0   \n",
       "8901485    70.0         490.0         2100.0               0.0           0.0   \n",
       "5832248    70.0         490.0         2100.0               0.0          25.0   \n",
       "8049784    25.0         175.0          750.0             100.0           0.0   \n",
       "\n",
       "          Guests Included  Extra People Cancellation Policy  \n",
       "ID                                                           \n",
       "15802051              1.0          15.0              strict  \n",
       "14751869              1.0           0.0            moderate  \n",
       "8901485               1.0           0.0            flexible  \n",
       "5832248               1.0          12.0              strict  \n",
       "8049784               1.0          15.0            moderate  "
      ]
     },
     "execution_count": 84,
     "metadata": {},
     "output_type": "execute_result"
    }
   ],
   "source": [
    "res_price.head()"
   ]
  },
  {
   "cell_type": "code",
   "execution_count": 85,
   "metadata": {
    "scrolled": false
   },
   "outputs": [
    {
     "data": {
      "text/plain": [
       "Price                  0\n",
       "Weekly Price           0\n",
       "Monthly Price          0\n",
       "Security Deposit       0\n",
       "Cleaning Fee           0\n",
       "Guests Included        0\n",
       "Extra People           0\n",
       "Cancellation Policy    0\n",
       "dtype: int64"
      ]
     },
     "execution_count": 85,
     "metadata": {},
     "output_type": "execute_result"
    }
   ],
   "source": [
    "res_price.isnull().sum()"
   ]
  },
  {
   "cell_type": "markdown",
   "metadata": {},
   "source": [
    "## Join of the different datasets\n",
    "\n",
    "At this point we have cleaned 3 different datasets:\n",
    "\n",
    "* res_characteristics\n",
    "* host features\n",
    "* res_ratings\n",
    "* res_price\n",
    "\n",
    "We will proceed to merge them into a single dataset and add to this dataset the city name, country name and name of the residence:"
   ]
  },
  {
   "cell_type": "code",
   "execution_count": 86,
   "metadata": {},
   "outputs": [],
   "source": [
    "res_location = res_location[['Country','City']]\n",
    "res_text = res_text[['Host ID','Name','Summary','Description']]"
   ]
  },
  {
   "cell_type": "code",
   "execution_count": 87,
   "metadata": {
    "scrolled": true
   },
   "outputs": [
    {
     "data": {
      "text/plain": [
       "((267748, 7), (267748, 7), (263547, 12), (263566, 8), (267748, 2), (267748, 4))"
      ]
     },
     "execution_count": 87,
     "metadata": {},
     "output_type": "execute_result"
    }
   ],
   "source": [
    "#res_rating is the dataframe with less values, we will left join on this\n",
    "res_characteristics.shape, host_features.shape, res_rating.shape, res_price.shape, res_location.shape, res_text.shape"
   ]
  },
  {
   "cell_type": "code",
   "execution_count": 88,
   "metadata": {},
   "outputs": [],
   "source": [
    "dataset = pd.concat([res_text,res_location,res_characteristics, host_features,res_rating,res_price], axis=1, join=\"inner\")"
   ]
  },
  {
   "cell_type": "code",
   "execution_count": 89,
   "metadata": {
    "scrolled": true
   },
   "outputs": [
    {
     "data": {
      "text/plain": [
       "Host ID                           0\n",
       "Name                            324\n",
       "Summary                        9377\n",
       "Description                      71\n",
       "Country                           0\n",
       "City                              0\n",
       "Property Type                     1\n",
       "Room Type                         0\n",
       "Accommodates                      0\n",
       "Bathrooms                         0\n",
       "Bedrooms                          0\n",
       "Beds                              0\n",
       "Bed Type                          0\n",
       "Host pic                          0\n",
       "Host verified                     0\n",
       "Host superhost                    0\n",
       "Instant book                      0\n",
       "Req guest phone                   0\n",
       "Req guest pic                     0\n",
       "Req license                       0\n",
       "First Review                      0\n",
       "Last Review                       0\n",
       "Number of Reviews                 0\n",
       "Review Scores Rating              0\n",
       "Review Scores Accuracy            0\n",
       "Review Scores Cleanliness         0\n",
       "Review Scores Checkin             0\n",
       "Review Scores Communication       0\n",
       "Review Scores Location            0\n",
       "Review Scores Value               0\n",
       "Reviews per Month                 0\n",
       "Age                               0\n",
       "Price                             0\n",
       "Weekly Price                      0\n",
       "Monthly Price                     0\n",
       "Security Deposit                  0\n",
       "Cleaning Fee                      0\n",
       "Guests Included                   0\n",
       "Extra People                      0\n",
       "Cancellation Policy               0\n",
       "dtype: int64"
      ]
     },
     "execution_count": 89,
     "metadata": {},
     "output_type": "execute_result"
    }
   ],
   "source": [
    "dataset.isnull().sum()"
   ]
  },
  {
   "cell_type": "code",
   "execution_count": 90,
   "metadata": {},
   "outputs": [],
   "source": [
    "dataset['Name'].fillna('Missing Name', inplace=True)"
   ]
  },
  {
   "cell_type": "code",
   "execution_count": 91,
   "metadata": {},
   "outputs": [],
   "source": [
    "pd.options.display.max_colwidth = 400"
   ]
  },
  {
   "cell_type": "code",
   "execution_count": 92,
   "metadata": {
    "scrolled": true
   },
   "outputs": [
    {
     "name": "stdout",
     "output_type": "stream",
     "text": [
      "ID\n",
      "7211683    My place is close to Edinburgh city centre, around 10 minutes on the bus which are very frequent or just a short taxi journey. It is also only a 35min journey from the airport on the bus (or around £15-20 in a taxi). My place is good for couples, solo adventurers, and business travelers. The room has a king sized bed, private en-suite and TV. I can provide a basic breakfast of cereal, toast, t...\n",
      "Name: Description, dtype: object\n"
     ]
    }
   ],
   "source": [
    "print(dataset[dataset['Property Type'].isnull()]['Description'])"
   ]
  },
  {
   "cell_type": "code",
   "execution_count": 93,
   "metadata": {},
   "outputs": [],
   "source": [
    "dataset['Property Type'].fillna('Private room', inplace=True)"
   ]
  },
  {
   "cell_type": "code",
   "execution_count": 94,
   "metadata": {
    "scrolled": true
   },
   "outputs": [],
   "source": [
    "dataset['Description'].fillna(dataset['Summary'],inplace=True)\n",
    "dataset['Summary'].fillna(dataset['Description'],inplace=True)"
   ]
  },
  {
   "cell_type": "code",
   "execution_count": 95,
   "metadata": {
    "scrolled": true
   },
   "outputs": [
    {
     "data": {
      "text/plain": [
       "Host ID                         0\n",
       "Name                            0\n",
       "Summary                        66\n",
       "Description                    66\n",
       "Country                         0\n",
       "City                            0\n",
       "Property Type                   0\n",
       "Room Type                       0\n",
       "Accommodates                    0\n",
       "Bathrooms                       0\n",
       "Bedrooms                        0\n",
       "Beds                            0\n",
       "Bed Type                        0\n",
       "Host pic                        0\n",
       "Host verified                   0\n",
       "Host superhost                  0\n",
       "Instant book                    0\n",
       "Req guest phone                 0\n",
       "Req guest pic                   0\n",
       "Req license                     0\n",
       "First Review                    0\n",
       "Last Review                     0\n",
       "Number of Reviews               0\n",
       "Review Scores Rating            0\n",
       "Review Scores Accuracy          0\n",
       "Review Scores Cleanliness       0\n",
       "Review Scores Checkin           0\n",
       "Review Scores Communication     0\n",
       "Review Scores Location          0\n",
       "Review Scores Value             0\n",
       "Reviews per Month               0\n",
       "Age                             0\n",
       "Price                           0\n",
       "Weekly Price                    0\n",
       "Monthly Price                   0\n",
       "Security Deposit                0\n",
       "Cleaning Fee                    0\n",
       "Guests Included                 0\n",
       "Extra People                    0\n",
       "Cancellation Policy             0\n",
       "dtype: int64"
      ]
     },
     "execution_count": 95,
     "metadata": {},
     "output_type": "execute_result"
    }
   ],
   "source": [
    "dataset.isnull().sum()"
   ]
  },
  {
   "cell_type": "code",
   "execution_count": 96,
   "metadata": {},
   "outputs": [],
   "source": [
    "dataset['Description'].fillna('Missing Description', inplace=True)\n",
    "dataset['Summary'].fillna('Missing Summary', inplace=True)"
   ]
  },
  {
   "cell_type": "code",
   "execution_count": 97,
   "metadata": {
    "scrolled": true
   },
   "outputs": [
    {
     "data": {
      "text/plain": [
       "Host ID                                  int64\n",
       "Name                                    object\n",
       "Summary                                 object\n",
       "Description                             object\n",
       "Country                                 object\n",
       "City                                    object\n",
       "Property Type                           object\n",
       "Room Type                               object\n",
       "Accommodates                           float64\n",
       "Bathrooms                              float64\n",
       "Bedrooms                               float64\n",
       "Beds                                   float64\n",
       "Bed Type                                object\n",
       "Host pic                                 int32\n",
       "Host verified                            int32\n",
       "Host superhost                           int32\n",
       "Instant book                             int32\n",
       "Req guest phone                          int32\n",
       "Req guest pic                            int32\n",
       "Req license                              int32\n",
       "First Review                    datetime64[ns]\n",
       "Last Review                     datetime64[ns]\n",
       "Number of Reviews                      float64\n",
       "Review Scores Rating                   float64\n",
       "Review Scores Accuracy                 float64\n",
       "Review Scores Cleanliness              float64\n",
       "Review Scores Checkin                  float64\n",
       "Review Scores Communication            float64\n",
       "Review Scores Location                 float64\n",
       "Review Scores Value                    float64\n",
       "Reviews per Month                      float64\n",
       "Age                            timedelta64[ns]\n",
       "Price                                  float64\n",
       "Weekly Price                           float64\n",
       "Monthly Price                          float64\n",
       "Security Deposit                       float64\n",
       "Cleaning Fee                           float64\n",
       "Guests Included                        float64\n",
       "Extra People                           float64\n",
       "Cancellation Policy                     object\n",
       "dtype: object"
      ]
     },
     "execution_count": 97,
     "metadata": {},
     "output_type": "execute_result"
    }
   ],
   "source": [
    "dataset.dtypes"
   ]
  },
  {
   "cell_type": "code",
   "execution_count": 98,
   "metadata": {},
   "outputs": [],
   "source": [
    "dataset[['Name','Summary','Description','Country','City']] = dataset[['Name','Summary','Description','Country','City']].astype('string')\n",
    "dataset[['Property Type','Room Type','Cancellation Policy']] = dataset[['Property Type','Room Type','Cancellation Policy']].astype('category')"
   ]
  },
  {
   "cell_type": "code",
   "execution_count": 99,
   "metadata": {},
   "outputs": [
    {
     "data": {
      "text/plain": [
       "Host ID                                  int64\n",
       "Name                                    string\n",
       "Summary                                 string\n",
       "Description                             string\n",
       "Country                                 string\n",
       "City                                    string\n",
       "Property Type                         category\n",
       "Room Type                             category\n",
       "Accommodates                           float64\n",
       "Bathrooms                              float64\n",
       "Bedrooms                               float64\n",
       "Beds                                   float64\n",
       "Bed Type                                object\n",
       "Host pic                                 int32\n",
       "Host verified                            int32\n",
       "Host superhost                           int32\n",
       "Instant book                             int32\n",
       "Req guest phone                          int32\n",
       "Req guest pic                            int32\n",
       "Req license                              int32\n",
       "First Review                    datetime64[ns]\n",
       "Last Review                     datetime64[ns]\n",
       "Number of Reviews                      float64\n",
       "Review Scores Rating                   float64\n",
       "Review Scores Accuracy                 float64\n",
       "Review Scores Cleanliness              float64\n",
       "Review Scores Checkin                  float64\n",
       "Review Scores Communication            float64\n",
       "Review Scores Location                 float64\n",
       "Review Scores Value                    float64\n",
       "Reviews per Month                      float64\n",
       "Age                            timedelta64[ns]\n",
       "Price                                  float64\n",
       "Weekly Price                           float64\n",
       "Monthly Price                          float64\n",
       "Security Deposit                       float64\n",
       "Cleaning Fee                           float64\n",
       "Guests Included                        float64\n",
       "Extra People                           float64\n",
       "Cancellation Policy                   category\n",
       "dtype: object"
      ]
     },
     "execution_count": 99,
     "metadata": {},
     "output_type": "execute_result"
    }
   ],
   "source": [
    "dataset.dtypes"
   ]
  },
  {
   "cell_type": "code",
   "execution_count": 100,
   "metadata": {
    "scrolled": false
   },
   "outputs": [
    {
     "data": {
      "text/html": [
       "<div>\n",
       "<style scoped>\n",
       "    .dataframe tbody tr th:only-of-type {\n",
       "        vertical-align: middle;\n",
       "    }\n",
       "\n",
       "    .dataframe tbody tr th {\n",
       "        vertical-align: top;\n",
       "    }\n",
       "\n",
       "    .dataframe thead th {\n",
       "        text-align: right;\n",
       "    }\n",
       "</style>\n",
       "<table border=\"1\" class=\"dataframe\">\n",
       "  <thead>\n",
       "    <tr style=\"text-align: right;\">\n",
       "      <th></th>\n",
       "      <th>Host ID</th>\n",
       "      <th>Name</th>\n",
       "      <th>Summary</th>\n",
       "      <th>Description</th>\n",
       "      <th>Country</th>\n",
       "      <th>City</th>\n",
       "      <th>Property Type</th>\n",
       "      <th>Room Type</th>\n",
       "      <th>Accommodates</th>\n",
       "      <th>Bathrooms</th>\n",
       "      <th>...</th>\n",
       "      <th>Reviews per Month</th>\n",
       "      <th>Age</th>\n",
       "      <th>Price</th>\n",
       "      <th>Weekly Price</th>\n",
       "      <th>Monthly Price</th>\n",
       "      <th>Security Deposit</th>\n",
       "      <th>Cleaning Fee</th>\n",
       "      <th>Guests Included</th>\n",
       "      <th>Extra People</th>\n",
       "      <th>Cancellation Policy</th>\n",
       "    </tr>\n",
       "    <tr>\n",
       "      <th>ID</th>\n",
       "      <th></th>\n",
       "      <th></th>\n",
       "      <th></th>\n",
       "      <th></th>\n",
       "      <th></th>\n",
       "      <th></th>\n",
       "      <th></th>\n",
       "      <th></th>\n",
       "      <th></th>\n",
       "      <th></th>\n",
       "      <th></th>\n",
       "      <th></th>\n",
       "      <th></th>\n",
       "      <th></th>\n",
       "      <th></th>\n",
       "      <th></th>\n",
       "      <th></th>\n",
       "      <th></th>\n",
       "      <th></th>\n",
       "      <th></th>\n",
       "      <th></th>\n",
       "    </tr>\n",
       "  </thead>\n",
       "  <tbody>\n",
       "    <tr>\n",
       "      <th>15802051</th>\n",
       "      <td>46296095</td>\n",
       "      <td>Large double available now.</td>\n",
       "      <td>Double room available</td>\n",
       "      <td>Double room available</td>\n",
       "      <td>United Kingdom</td>\n",
       "      <td>London</td>\n",
       "      <td>House</td>\n",
       "      <td>Private room</td>\n",
       "      <td>2.0</td>\n",
       "      <td>1.0</td>\n",
       "      <td>...</td>\n",
       "      <td>0.83</td>\n",
       "      <td>45 days</td>\n",
       "      <td>44.0</td>\n",
       "      <td>308.0</td>\n",
       "      <td>1320.0</td>\n",
       "      <td>100.0</td>\n",
       "      <td>0.0</td>\n",
       "      <td>1.0</td>\n",
       "      <td>15.0</td>\n",
       "      <td>strict</td>\n",
       "    </tr>\n",
       "    <tr>\n",
       "      <th>14751869</th>\n",
       "      <td>11850512</td>\n",
       "      <td>Spacious 4BR home near Brixton and Clapham</td>\n",
       "      <td>My home is a large four bedroom space set over three floors.  There is a huge common area with an open plan living room / dining room / kitchen, and the top floor has charming slanted roofs and skylight windows.  This space is perfect for a large group of friends or a family who wants all the comforts of home while still being accessible to London.</td>\n",
       "      <td>My home is a large four bedroom space set over three floors.  There is a huge common area with an open plan living room / dining room / kitchen, and the top floor has charming slanted roofs and skylight windows.  This space is perfect for a large group of friends or a family who wants all the comforts of home while still being accessible to London. This is a bright, tidy, and spacious home in ...</td>\n",
       "      <td>United Kingdom</td>\n",
       "      <td>London</td>\n",
       "      <td>House</td>\n",
       "      <td>Entire home/apt</td>\n",
       "      <td>8.0</td>\n",
       "      <td>1.5</td>\n",
       "      <td>...</td>\n",
       "      <td>3.73</td>\n",
       "      <td>160 days</td>\n",
       "      <td>139.0</td>\n",
       "      <td>973.0</td>\n",
       "      <td>4170.0</td>\n",
       "      <td>400.0</td>\n",
       "      <td>65.0</td>\n",
       "      <td>1.0</td>\n",
       "      <td>0.0</td>\n",
       "      <td>moderate</td>\n",
       "    </tr>\n",
       "    <tr>\n",
       "      <th>8901485</th>\n",
       "      <td>12594665</td>\n",
       "      <td>quirky room with a view</td>\n",
       "      <td>Quirky and well decorated bedroom in waterloo area with views of london eye. compact multi purpose room with movable sofa and fold down bed</td>\n",
       "      <td>Quirky and well decorated bedroom in waterloo area with views of london eye. compact multi purpose room with movable sofa and fold down bed Your room is a living area that converts into a bedroom at night, with aditional shower room, kitchen and toilet room, long balcony with chairs and table. whole house apart from secondary bedroom where host stays. Host will be avalible up until 2pm and aft...</td>\n",
       "      <td>United Kingdom</td>\n",
       "      <td>London</td>\n",
       "      <td>Apartment</td>\n",
       "      <td>Private room</td>\n",
       "      <td>2.0</td>\n",
       "      <td>1.0</td>\n",
       "      <td>...</td>\n",
       "      <td>0.00</td>\n",
       "      <td>0 days</td>\n",
       "      <td>70.0</td>\n",
       "      <td>490.0</td>\n",
       "      <td>2100.0</td>\n",
       "      <td>0.0</td>\n",
       "      <td>0.0</td>\n",
       "      <td>1.0</td>\n",
       "      <td>0.0</td>\n",
       "      <td>flexible</td>\n",
       "    </tr>\n",
       "    <tr>\n",
       "      <th>5832248</th>\n",
       "      <td>30273453</td>\n",
       "      <td>Lovely 2r flat in the ❤ of Brixton</td>\n",
       "      <td>Perfectly located flat in the up and coming Brixton. Many popular restaurants and pubs around. Big apartment in a quiet safe street. Great transport links! All amenities you will need. Current available dates in mid September!</td>\n",
       "      <td>Perfectly located flat in the up and coming Brixton. Many popular restaurants and pubs around. Big apartment in a quiet safe street. Great transport links! All amenities you will need. Current available dates in mid September! The apartment is big, spacy and very bright with direct sunlight. It is located on a well maintained quiet street, just off the main Effra Road. You’ll have the beautifu...</td>\n",
       "      <td>United Kingdom</td>\n",
       "      <td>London</td>\n",
       "      <td>Apartment</td>\n",
       "      <td>Entire home/apt</td>\n",
       "      <td>6.0</td>\n",
       "      <td>1.0</td>\n",
       "      <td>...</td>\n",
       "      <td>0.11</td>\n",
       "      <td>227 days</td>\n",
       "      <td>70.0</td>\n",
       "      <td>490.0</td>\n",
       "      <td>2100.0</td>\n",
       "      <td>0.0</td>\n",
       "      <td>25.0</td>\n",
       "      <td>1.0</td>\n",
       "      <td>12.0</td>\n",
       "      <td>strict</td>\n",
       "    </tr>\n",
       "    <tr>\n",
       "      <th>8049784</th>\n",
       "      <td>33670376</td>\n",
       "      <td>Lovely bedroom in a cosy house</td>\n",
       "      <td>Very nice double room in a clean and friendly house.  The house is located on a quiet road but just a few steps from shops and public transport. You can also enjoy a big garden to relax after a long day exploring!</td>\n",
       "      <td>Very nice double room in a clean and friendly house.  The house is located on a quiet road but just a few steps from shops and public transport. You can also enjoy a big garden to relax after a long day exploring! All you need in the kitchen for a delicious breakfast! The whole house - sitting room, kitchen, bathroom and garden. As often as they want to. Safety, close shops and very good trans...</td>\n",
       "      <td>United Kingdom</td>\n",
       "      <td>London</td>\n",
       "      <td>House</td>\n",
       "      <td>Private room</td>\n",
       "      <td>2.0</td>\n",
       "      <td>1.0</td>\n",
       "      <td>...</td>\n",
       "      <td>0.18</td>\n",
       "      <td>76 days</td>\n",
       "      <td>25.0</td>\n",
       "      <td>175.0</td>\n",
       "      <td>750.0</td>\n",
       "      <td>100.0</td>\n",
       "      <td>0.0</td>\n",
       "      <td>1.0</td>\n",
       "      <td>15.0</td>\n",
       "      <td>moderate</td>\n",
       "    </tr>\n",
       "  </tbody>\n",
       "</table>\n",
       "<p>5 rows × 40 columns</p>\n",
       "</div>"
      ],
      "text/plain": [
       "           Host ID                                        Name  \\\n",
       "ID                                                               \n",
       "15802051  46296095                 Large double available now.   \n",
       "14751869  11850512  Spacious 4BR home near Brixton and Clapham   \n",
       "8901485   12594665                     quirky room with a view   \n",
       "5832248   30273453          Lovely 2r flat in the ❤ of Brixton   \n",
       "8049784   33670376              Lovely bedroom in a cosy house   \n",
       "\n",
       "                                                                                                                                                                                                                                                                                                                                                                 Summary  \\\n",
       "ID                                                                                                                                                                                                                                                                                                                                                                         \n",
       "15802051                                                                                                                                                                                                                                                                                                                                           Double room available   \n",
       "14751869  My home is a large four bedroom space set over three floors.  There is a huge common area with an open plan living room / dining room / kitchen, and the top floor has charming slanted roofs and skylight windows.  This space is perfect for a large group of friends or a family who wants all the comforts of home while still being accessible to London.   \n",
       "8901485                                                                                                                                                                                                                      Quirky and well decorated bedroom in waterloo area with views of london eye. compact multi purpose room with movable sofa and fold down bed   \n",
       "5832248                                                                                                                               Perfectly located flat in the up and coming Brixton. Many popular restaurants and pubs around. Big apartment in a quiet safe street. Great transport links! All amenities you will need. Current available dates in mid September!   \n",
       "8049784                                                                                                                                            Very nice double room in a clean and friendly house.  The house is located on a quiet road but just a few steps from shops and public transport. You can also enjoy a big garden to relax after a long day exploring!   \n",
       "\n",
       "                                                                                                                                                                                                                                                                                                                                                                                                              Description  \\\n",
       "ID                                                                                                                                                                                                                                                                                                                                                                                                                          \n",
       "15802051                                                                                                                                                                                                                                                                                                                                                                                            Double room available   \n",
       "14751869  My home is a large four bedroom space set over three floors.  There is a huge common area with an open plan living room / dining room / kitchen, and the top floor has charming slanted roofs and skylight windows.  This space is perfect for a large group of friends or a family who wants all the comforts of home while still being accessible to London. This is a bright, tidy, and spacious home in ...   \n",
       "8901485   Quirky and well decorated bedroom in waterloo area with views of london eye. compact multi purpose room with movable sofa and fold down bed Your room is a living area that converts into a bedroom at night, with aditional shower room, kitchen and toilet room, long balcony with chairs and table. whole house apart from secondary bedroom where host stays. Host will be avalible up until 2pm and aft...   \n",
       "5832248   Perfectly located flat in the up and coming Brixton. Many popular restaurants and pubs around. Big apartment in a quiet safe street. Great transport links! All amenities you will need. Current available dates in mid September! The apartment is big, spacy and very bright with direct sunlight. It is located on a well maintained quiet street, just off the main Effra Road. You’ll have the beautifu...   \n",
       "8049784   Very nice double room in a clean and friendly house.  The house is located on a quiet road but just a few steps from shops and public transport. You can also enjoy a big garden to relax after a long day exploring! All you need in the kitchen for a delicious breakfast! The whole house - sitting room, kitchen, bathroom and garden. As often as they want to. Safety, close shops and very good trans...   \n",
       "\n",
       "                 Country    City Property Type        Room Type  Accommodates  \\\n",
       "ID                                                                              \n",
       "15802051  United Kingdom  London         House     Private room           2.0   \n",
       "14751869  United Kingdom  London         House  Entire home/apt           8.0   \n",
       "8901485   United Kingdom  London     Apartment     Private room           2.0   \n",
       "5832248   United Kingdom  London     Apartment  Entire home/apt           6.0   \n",
       "8049784   United Kingdom  London         House     Private room           2.0   \n",
       "\n",
       "          Bathrooms  ...  Reviews per Month      Age  Price  Weekly Price  \\\n",
       "ID                   ...                                                    \n",
       "15802051        1.0  ...               0.83  45 days   44.0         308.0   \n",
       "14751869        1.5  ...               3.73 160 days  139.0         973.0   \n",
       "8901485         1.0  ...               0.00   0 days   70.0         490.0   \n",
       "5832248         1.0  ...               0.11 227 days   70.0         490.0   \n",
       "8049784         1.0  ...               0.18  76 days   25.0         175.0   \n",
       "\n",
       "          Monthly Price  Security Deposit  Cleaning Fee  Guests Included  \\\n",
       "ID                                                                         \n",
       "15802051         1320.0             100.0           0.0              1.0   \n",
       "14751869         4170.0             400.0          65.0              1.0   \n",
       "8901485          2100.0               0.0           0.0              1.0   \n",
       "5832248          2100.0               0.0          25.0              1.0   \n",
       "8049784           750.0             100.0           0.0              1.0   \n",
       "\n",
       "          Extra People  Cancellation Policy  \n",
       "ID                                           \n",
       "15802051          15.0               strict  \n",
       "14751869           0.0             moderate  \n",
       "8901485            0.0             flexible  \n",
       "5832248           12.0               strict  \n",
       "8049784           15.0             moderate  \n",
       "\n",
       "[5 rows x 40 columns]"
      ]
     },
     "execution_count": 100,
     "metadata": {},
     "output_type": "execute_result"
    }
   ],
   "source": [
    "dataset.head()"
   ]
  },
  {
   "cell_type": "code",
   "execution_count": 101,
   "metadata": {
    "scrolled": false
   },
   "outputs": [
    {
     "data": {
      "text/plain": [
       "Host ID                        0\n",
       "Name                           0\n",
       "Summary                        0\n",
       "Description                    0\n",
       "Country                        0\n",
       "City                           0\n",
       "Property Type                  0\n",
       "Room Type                      0\n",
       "Accommodates                   0\n",
       "Bathrooms                      0\n",
       "Bedrooms                       0\n",
       "Beds                           0\n",
       "Bed Type                       0\n",
       "Host pic                       0\n",
       "Host verified                  0\n",
       "Host superhost                 0\n",
       "Instant book                   0\n",
       "Req guest phone                0\n",
       "Req guest pic                  0\n",
       "Req license                    0\n",
       "First Review                   0\n",
       "Last Review                    0\n",
       "Number of Reviews              0\n",
       "Review Scores Rating           0\n",
       "Review Scores Accuracy         0\n",
       "Review Scores Cleanliness      0\n",
       "Review Scores Checkin          0\n",
       "Review Scores Communication    0\n",
       "Review Scores Location         0\n",
       "Review Scores Value            0\n",
       "Reviews per Month              0\n",
       "Age                            0\n",
       "Price                          0\n",
       "Weekly Price                   0\n",
       "Monthly Price                  0\n",
       "Security Deposit               0\n",
       "Cleaning Fee                   0\n",
       "Guests Included                0\n",
       "Extra People                   0\n",
       "Cancellation Policy            0\n",
       "dtype: int64"
      ]
     },
     "execution_count": 101,
     "metadata": {},
     "output_type": "execute_result"
    }
   ],
   "source": [
    "dataset.isnull().sum()"
   ]
  },
  {
   "cell_type": "code",
   "execution_count": 102,
   "metadata": {
    "scrolled": true
   },
   "outputs": [
    {
     "data": {
      "text/plain": [
       "(259415, 40)"
      ]
     },
     "execution_count": 102,
     "metadata": {},
     "output_type": "execute_result"
    }
   ],
   "source": [
    "dataset.shape"
   ]
  },
  {
   "cell_type": "code",
   "execution_count": 103,
   "metadata": {},
   "outputs": [
    {
     "name": "stdout",
     "output_type": "stream",
     "text": [
      "Before city name convergence, the first 50 cities included 91.0 % of the listings in the dataset\n",
      "The top 50 cities after convergence included 95.0 % of the residences in the Europe region.\n",
      "After cleaning the dataset, the top 50 cities include 92.0 % of the residences in the Europe region.\n"
     ]
    }
   ],
   "source": [
    "print('Before city name convergence, the first 50 cities included',np.round((first_50.sum()/282444),2)*100,'% of the listings in the dataset')\n",
    "print('The top 50 cities after convergence included',np.round(first_50_bis.sum()/282444,2)*100,'% of the residences in the Europe region.')\n",
    "print('After cleaning the dataset, the top 50 cities include',np.round(259415/282444,2)*100,'% of the residences in the Europe region.')"
   ]
  },
  {
   "cell_type": "code",
   "execution_count": 104,
   "metadata": {
    "scrolled": false
   },
   "outputs": [
    {
     "data": {
      "text/plain": [
       "Country         City                      \n",
       "France          Paris                         54923\n",
       "United Kingdom  London                        48676\n",
       "Italy           Rome                          24416\n",
       "Germany         Berlin                        20114\n",
       "Spain           Barcelona                     17154\n",
       "Denmark         Copenhagen                    16024\n",
       "Netherlands     Amsterdam                     14969\n",
       "Spain           Madrid                        13031\n",
       "Austria         Vienna                         7738\n",
       "United Kingdom  Edinburgh                      6007\n",
       "Belgium         Brussels                       5591\n",
       "Italy           Venice                         5552\n",
       "Ireland         Dublin                         5199\n",
       "Greece          Athens                         4952\n",
       "Spain           Palma de Mallorca              2693\n",
       "Switzerland     Geneva                         2198\n",
       "Belgium         Antwerp                        1200\n",
       "Spain           Pollensa                       1183\n",
       "                Alcudia                        1011\n",
       "United Kingdom  Manchester                      797\n",
       "Spain           Inca                            445\n",
       "Italy           Lido                            383\n",
       "Spain           Llucmajor                       358\n",
       "                Manacor                         270\n",
       "                Campos                          267\n",
       "                Can Picafort                    260\n",
       "                Santanyí                        258\n",
       "United Kingdom  Richmond                        257\n",
       "Spain           Sóller                          249\n",
       "                Muro                            243\n",
       "                Felanitx                        228\n",
       "                Sa Pobla                        197\n",
       "                Illes Balears                   192\n",
       "United Kingdom  Harrow                          183\n",
       "Spain           Colònia de Sant Jordi           175\n",
       "United Kingdom  Kingston upon Thames            165\n",
       "                Ilford                          164\n",
       "Spain           Andratx                         156\n",
       "                Calvià                          150\n",
       "                Capdepera                       132\n",
       "Italy           Trento                          131\n",
       "Spain           Son Servera                     129\n",
       "                Santa Margalida                 125\n",
       "                Cala Ratjada                    122\n",
       "United Kingdom  Hounslow                        121\n",
       "Spain           Sant Llorenç des Cardassar      119\n",
       "                Artà                            112\n",
       "Italy           Riva del Garda                  107\n",
       "Spain           Can Pastilla                    107\n",
       "                Valldemossa                     105\n",
       "United Kingdom  Dublin                           76\n",
       "Switzerland     Paris                             1\n",
       "dtype: int64"
      ]
     },
     "execution_count": 104,
     "metadata": {},
     "output_type": "execute_result"
    }
   ],
   "source": [
    "dataset[['Country','City']].value_counts()"
   ]
  },
  {
   "cell_type": "code",
   "execution_count": 105,
   "metadata": {
    "scrolled": false
   },
   "outputs": [],
   "source": [
    "dataset.loc[:,'City'] = np.where(((dataset['Country']=='United Kingdom') & (dataset['City']=='Dublin')),'London',dataset['City'])\n",
    "dataset.loc[:,'Country'] = np.where(((dataset['Country']=='Switzerland') & (dataset['City']=='Paris')),'France',dataset['Country'])"
   ]
  },
  {
   "cell_type": "code",
   "execution_count": 106,
   "metadata": {},
   "outputs": [],
   "source": [
    "dataset[['country_city']] = dataset[\"Country\"] +'_' + dataset[\"City\"]"
   ]
  },
  {
   "cell_type": "code",
   "execution_count": 107,
   "metadata": {
    "scrolled": true
   },
   "outputs": [
    {
     "data": {
      "text/plain": [
       "Country         City                      \n",
       "France          Paris                         54924\n",
       "United Kingdom  London                        48752\n",
       "Italy           Rome                          24416\n",
       "Germany         Berlin                        20114\n",
       "Spain           Barcelona                     17154\n",
       "Denmark         Copenhagen                    16024\n",
       "Netherlands     Amsterdam                     14969\n",
       "Spain           Madrid                        13031\n",
       "Austria         Vienna                         7738\n",
       "United Kingdom  Edinburgh                      6007\n",
       "Belgium         Brussels                       5591\n",
       "Italy           Venice                         5552\n",
       "Ireland         Dublin                         5199\n",
       "Greece          Athens                         4952\n",
       "Spain           Palma de Mallorca              2693\n",
       "Switzerland     Geneva                         2198\n",
       "Belgium         Antwerp                        1200\n",
       "Spain           Pollensa                       1183\n",
       "                Alcudia                        1011\n",
       "United Kingdom  Manchester                      797\n",
       "Spain           Inca                            445\n",
       "Italy           Lido                            383\n",
       "Spain           Llucmajor                       358\n",
       "                Manacor                         270\n",
       "                Campos                          267\n",
       "                Can Picafort                    260\n",
       "                Santanyí                        258\n",
       "United Kingdom  Richmond                        257\n",
       "Spain           Sóller                          249\n",
       "                Muro                            243\n",
       "                Felanitx                        228\n",
       "                Sa Pobla                        197\n",
       "                Illes Balears                   192\n",
       "United Kingdom  Harrow                          183\n",
       "Spain           Colònia de Sant Jordi           175\n",
       "United Kingdom  Kingston upon Thames            165\n",
       "                Ilford                          164\n",
       "Spain           Andratx                         156\n",
       "                Calvià                          150\n",
       "                Capdepera                       132\n",
       "Italy           Trento                          131\n",
       "Spain           Son Servera                     129\n",
       "                Santa Margalida                 125\n",
       "                Cala Ratjada                    122\n",
       "United Kingdom  Hounslow                        121\n",
       "Spain           Sant Llorenç des Cardassar      119\n",
       "                Artà                            112\n",
       "Italy           Riva del Garda                  107\n",
       "Spain           Can Pastilla                    107\n",
       "                Valldemossa                     105\n",
       "dtype: int64"
      ]
     },
     "execution_count": 107,
     "metadata": {},
     "output_type": "execute_result"
    }
   ],
   "source": [
    "dataset[['Country','City']].value_counts()"
   ]
  },
  {
   "cell_type": "code",
   "execution_count": 108,
   "metadata": {},
   "outputs": [
    {
     "data": {
      "text/plain": [
       "Host ID                                  int64\n",
       "Name                                    string\n",
       "Summary                                 string\n",
       "Description                             string\n",
       "Country                                 object\n",
       "City                                    object\n",
       "Property Type                         category\n",
       "Room Type                             category\n",
       "Accommodates                           float64\n",
       "Bathrooms                              float64\n",
       "Bedrooms                               float64\n",
       "Beds                                   float64\n",
       "Bed Type                                object\n",
       "Host pic                                 int32\n",
       "Host verified                            int32\n",
       "Host superhost                           int32\n",
       "Instant book                             int32\n",
       "Req guest phone                          int32\n",
       "Req guest pic                            int32\n",
       "Req license                              int32\n",
       "First Review                    datetime64[ns]\n",
       "Last Review                     datetime64[ns]\n",
       "Number of Reviews                      float64\n",
       "Review Scores Rating                   float64\n",
       "Review Scores Accuracy                 float64\n",
       "Review Scores Cleanliness              float64\n",
       "Review Scores Checkin                  float64\n",
       "Review Scores Communication            float64\n",
       "Review Scores Location                 float64\n",
       "Review Scores Value                    float64\n",
       "Reviews per Month                      float64\n",
       "Age                            timedelta64[ns]\n",
       "Price                                  float64\n",
       "Weekly Price                           float64\n",
       "Monthly Price                          float64\n",
       "Security Deposit                       float64\n",
       "Cleaning Fee                           float64\n",
       "Guests Included                        float64\n",
       "Extra People                           float64\n",
       "Cancellation Policy                   category\n",
       "country_city                            object\n",
       "dtype: object"
      ]
     },
     "execution_count": 108,
     "metadata": {},
     "output_type": "execute_result"
    }
   ],
   "source": [
    "dataset.dtypes"
   ]
  },
  {
   "cell_type": "code",
   "execution_count": 109,
   "metadata": {},
   "outputs": [],
   "source": [
    "# save the files into csv for future data wrangling\n",
    "dataset.to_csv(r'C:\\Users\\34658\\SPRINGBOARD\\Airbnb Recommender System - Capstone Project\\Notebooks\\Data\\residences\\dataset.csv')"
   ]
  },
  {
   "cell_type": "markdown",
   "metadata": {},
   "source": [
    "## City features - external datasets\n",
    "\n",
    "The aim of this project is to make recommendations to hosts about cities and/or residences that they may like, based on their own city and/or residence.\n",
    "\n",
    "The Airbnb dataset contains information about hosts and residences, but does not contain features about the cities in which the residences are located. Therefore, it is important to add city features to the recommender system.\n",
    "\n",
    "In line with this idea, we collected several features from cities. The data was obtained from https://ec.europa.eu/eurostat and https://www.numbeo.com/. **Eurostat** is a european database that provides detailed statistical information about european countries. **Numbeo** is a website service that compares numerous countries and cities around the world in terms of purchasing power, crime rates, pollution rates, etc.\n",
    "\n",
    "In this prototype, we have leveraged on both sources, sometimes calculating our own metrics from the raw datasets. In our research work, we gathered city-features about a number of different \"spectrums\":\n",
    "\n",
    "* **Economic spectrum**: To compare cities based on the cost of living, price of groceries, rent, restaurants, or local purchasing power.\n",
    "   *As a host, it is relevant to be recommended cities that have similar cost of living and purchasing power than their own city.*\n",
    "\n",
    "\n",
    "* **Social spectrum**: To compare cities based on how locals think that different individuals would enjoy (or not) living in their city considering their age, gender, race or family situation (e.g. Homosexuals, young families with children, elderly, ethnic minorities, etc.).\n",
    "   *As a host, it is relevant to be recommended cities that have similar social culture than their own city.*\n",
    "\n",
    "\n",
    "* **Environmental sprectrum**: To compare cities based on how locals perceive the overall air pollution, noise pollution and cleanliness of their city.\n",
    "   *As a host, it is relevant to be recommended cities that have similar pollution and cleanliness levels than their own city.*\n",
    "\n",
    "\n",
    "* **Safety spectrum**: To compare cities based on their crime and safety metrics.\n",
    "   *As a host, it is relevant to be recommended cities that have similar crime and safety levels than their own cities.*\n",
    "\n",
    "\n",
    "* **City Amenities spectrum**: To compare cities based on how locals perceive the quality and quantity of different services in their city, such as public transport, sport facilities, green areas, etc.\n",
    "   *As a host, it is relevant to be recommended cities that have similar level of amenities than their own city.*\n",
    "\n",
    "\n",
    "* **Population spectrum**: To compare cities based on their population number, the number of people within each age group, and the number of males and females within each population age group.\n",
    "   *As a host, it is relevant to be recommended cities that have similar population number and age groups than their own city.*\n",
    "\n",
    "\n",
    "As a result of this research work, we have included all the information into a single excel file, maintaining the original city names of the Airbnb dataset."
   ]
  },
  {
   "cell_type": "code",
   "execution_count": 110,
   "metadata": {},
   "outputs": [],
   "source": [
    "external_datasets = pd.ExcelFile(r'C:\\Users\\34658\\SPRINGBOARD\\Airbnb Recommender System - Capstone Project\\Notebooks\\Data\\cities\\external_datasets.xlsx')"
   ]
  },
  {
   "cell_type": "code",
   "execution_count": 111,
   "metadata": {},
   "outputs": [],
   "source": [
    "economic = pd.read_excel(external_datasets,'purchase power rebased')\n",
    "crime = pd.read_excel(external_datasets,'crime index')\n",
    "pollution = pd.read_excel(external_datasets,'pollution normalized')\n",
    "amenities = pd.read_excel(external_datasets,'amenities normalized')\n",
    "hostility = pd.read_excel(external_datasets,'hostility normalized')\n",
    "tot_pop = pd.read_excel(external_datasets,'population')\n",
    "female_pop = pd.read_excel(external_datasets,'population female')\n",
    "male_pop = pd.read_excel(external_datasets,'population male')\n",
    "female_rate = pd.read_excel(external_datasets,'ratio female')\n",
    "male_rate = pd.read_excel(external_datasets,'ratio male')"
   ]
  },
  {
   "cell_type": "markdown",
   "metadata": {},
   "source": [
    "### Economic spectrum\n",
    "\n",
    "The economic spectrum is composed of the following metrics, and should be interpreted as follows. Note the description above is from https://www.numbeo.com/cost-of-living/cpi_explained.jsp.\n",
    "\n",
    "*Remark: We have modified the description, as the base in numbeo for the index is the city of New York, and we have used the average of the 15 cities for each metric as Index.*\n",
    "\n",
    "* **Cost of Living Index (Excl. Rent)** is a relative indicator of consumer goods prices, including groceries, restaurants, transportation and utilities. Cost of Living Index does not include accommodation expenses such as rent or mortgage. *If a city has a Cost of Living Index of 120, it means Numbeo has estimated it is 20% more expensive than the average of the 15 cities (excluding rent).*\n",
    "\n",
    "* **Rent Index** is an estimation of prices of renting apartments in the city compared to the average of the 15 cities. *If Rent index is 80, Numbeo has estimated that price of rents in that city is on average 20% less than the average price of the 15 cities.*\n",
    "\n",
    "* **Groceries Index** is an estimation of grocery prices in the city compared to the average price of the 15 cities. To calculate this section, Numbeo uses weights of items in the \"Markets\" section for each city.\n",
    "\n",
    "* **Restaurants Index** is a comparison of prices of meals and drinks in restaurants and bars compared to the average of the 15 cities.\n",
    "\n",
    "* **Cost of Living Plus Rent Index** is an estimation of consumer goods prices including rent comparing to the average of the 15 cities.\n",
    "\n",
    "* **Local Purchasing Power** shows relative purchasing power in buying goods and services in a given city for the average net salary in that city. *If domestic purchasing power is 40, this means that the inhabitants of that city with an average salary can afford to buy on an average 60% less goods and services than the average of the 15 cities resident with an average salary.*"
   ]
  },
  {
   "cell_type": "code",
   "execution_count": 112,
   "metadata": {
    "scrolled": true
   },
   "outputs": [
    {
     "data": {
      "text/html": [
       "<div>\n",
       "<style scoped>\n",
       "    .dataframe tbody tr th:only-of-type {\n",
       "        vertical-align: middle;\n",
       "    }\n",
       "\n",
       "    .dataframe tbody tr th {\n",
       "        vertical-align: top;\n",
       "    }\n",
       "\n",
       "    .dataframe thead th {\n",
       "        text-align: right;\n",
       "    }\n",
       "</style>\n",
       "<table border=\"1\" class=\"dataframe\">\n",
       "  <thead>\n",
       "    <tr style=\"text-align: right;\">\n",
       "      <th></th>\n",
       "      <th>City</th>\n",
       "      <th>Cost of Living Index</th>\n",
       "      <th>Rent Index</th>\n",
       "      <th>Cost of Living Plus Rent Index</th>\n",
       "      <th>Groceries Index</th>\n",
       "      <th>Restaurant Price Index</th>\n",
       "      <th>Local Purchasing Power Index</th>\n",
       "    </tr>\n",
       "  </thead>\n",
       "  <tbody>\n",
       "    <tr>\n",
       "      <th>0</th>\n",
       "      <td>Vienna</td>\n",
       "      <td>87.88</td>\n",
       "      <td>76.90</td>\n",
       "      <td>84.28</td>\n",
       "      <td>90.99</td>\n",
       "      <td>81.36</td>\n",
       "      <td>114.38</td>\n",
       "    </tr>\n",
       "    <tr>\n",
       "      <th>1</th>\n",
       "      <td>Brussels</td>\n",
       "      <td>96.75</td>\n",
       "      <td>76.97</td>\n",
       "      <td>90.27</td>\n",
       "      <td>97.28</td>\n",
       "      <td>100.70</td>\n",
       "      <td>109.65</td>\n",
       "    </tr>\n",
       "    <tr>\n",
       "      <th>2</th>\n",
       "      <td>Antwerp</td>\n",
       "      <td>96.20</td>\n",
       "      <td>61.54</td>\n",
       "      <td>84.85</td>\n",
       "      <td>95.43</td>\n",
       "      <td>107.67</td>\n",
       "      <td>104.97</td>\n",
       "    </tr>\n",
       "    <tr>\n",
       "      <th>3</th>\n",
       "      <td>Copenhagen</td>\n",
       "      <td>120.53</td>\n",
       "      <td>122.39</td>\n",
       "      <td>121.14</td>\n",
       "      <td>112.59</td>\n",
       "      <td>134.21</td>\n",
       "      <td>105.80</td>\n",
       "    </tr>\n",
       "    <tr>\n",
       "      <th>4</th>\n",
       "      <td>Paris</td>\n",
       "      <td>114.86</td>\n",
       "      <td>117.31</td>\n",
       "      <td>115.66</td>\n",
       "      <td>133.63</td>\n",
       "      <td>104.42</td>\n",
       "      <td>93.94</td>\n",
       "    </tr>\n",
       "  </tbody>\n",
       "</table>\n",
       "</div>"
      ],
      "text/plain": [
       "         City  Cost of Living Index  Rent Index  \\\n",
       "0      Vienna                 87.88       76.90   \n",
       "1    Brussels                 96.75       76.97   \n",
       "2     Antwerp                 96.20       61.54   \n",
       "3  Copenhagen                120.53      122.39   \n",
       "4       Paris                114.86      117.31   \n",
       "\n",
       "   Cost of Living Plus Rent Index  Groceries Index  Restaurant Price Index  \\\n",
       "0                           84.28            90.99                   81.36   \n",
       "1                           90.27            97.28                  100.70   \n",
       "2                           84.85            95.43                  107.67   \n",
       "3                          121.14           112.59                  134.21   \n",
       "4                          115.66           133.63                  104.42   \n",
       "\n",
       "   Local Purchasing Power Index  \n",
       "0                        114.38  \n",
       "1                        109.65  \n",
       "2                        104.97  \n",
       "3                        105.80  \n",
       "4                         93.94  "
      ]
     },
     "execution_count": 112,
     "metadata": {},
     "output_type": "execute_result"
    }
   ],
   "source": [
    "economic.head()"
   ]
  },
  {
   "cell_type": "markdown",
   "metadata": {},
   "source": [
    "### Crime spectrum\n",
    "\n",
    "The crime spectrum is composed of the following metrics, and should be interpreted as follows. For detailed information about the methodology used go to https://www.numbeo.com/crime/indices_explained.jsp.\n",
    "\n",
    "\n",
    "* **Crime Index** is an estimation of overall level of crime in a given city or a country. We consider. crime levels lower than 20 as very low, crime levels between 20 and 40 as being low, crime levels between 40 and 60 as being moderate, crime levels between 60 and 80 as being high and finally crime levels higher than 80 as being very high.\n",
    "\n",
    "* **Safety index** is, on the other way, quite opposite of crime index. If the city has a high safety index, it is considered very safe.\n"
   ]
  },
  {
   "cell_type": "code",
   "execution_count": 113,
   "metadata": {
    "scrolled": true
   },
   "outputs": [
    {
     "data": {
      "text/html": [
       "<div>\n",
       "<style scoped>\n",
       "    .dataframe tbody tr th:only-of-type {\n",
       "        vertical-align: middle;\n",
       "    }\n",
       "\n",
       "    .dataframe tbody tr th {\n",
       "        vertical-align: top;\n",
       "    }\n",
       "\n",
       "    .dataframe thead th {\n",
       "        text-align: right;\n",
       "    }\n",
       "</style>\n",
       "<table border=\"1\" class=\"dataframe\">\n",
       "  <thead>\n",
       "    <tr style=\"text-align: right;\">\n",
       "      <th></th>\n",
       "      <th>City</th>\n",
       "      <th>Crime Index</th>\n",
       "      <th>Safety Index</th>\n",
       "    </tr>\n",
       "  </thead>\n",
       "  <tbody>\n",
       "    <tr>\n",
       "      <th>0</th>\n",
       "      <td>Manchester</td>\n",
       "      <td>56.29</td>\n",
       "      <td>43.71</td>\n",
       "    </tr>\n",
       "    <tr>\n",
       "      <th>1</th>\n",
       "      <td>Paris</td>\n",
       "      <td>54.05</td>\n",
       "      <td>45.95</td>\n",
       "    </tr>\n",
       "    <tr>\n",
       "      <th>2</th>\n",
       "      <td>London</td>\n",
       "      <td>52.96</td>\n",
       "      <td>47.04</td>\n",
       "    </tr>\n",
       "    <tr>\n",
       "      <th>3</th>\n",
       "      <td>Athens</td>\n",
       "      <td>52.78</td>\n",
       "      <td>47.22</td>\n",
       "    </tr>\n",
       "    <tr>\n",
       "      <th>4</th>\n",
       "      <td>Rome</td>\n",
       "      <td>51.99</td>\n",
       "      <td>48.01</td>\n",
       "    </tr>\n",
       "  </tbody>\n",
       "</table>\n",
       "</div>"
      ],
      "text/plain": [
       "         City  Crime Index  Safety Index\n",
       "0  Manchester        56.29         43.71\n",
       "1       Paris        54.05         45.95\n",
       "2      London        52.96         47.04\n",
       "3      Athens        52.78         47.22\n",
       "4        Rome        51.99         48.01"
      ]
     },
     "execution_count": 113,
     "metadata": {},
     "output_type": "execute_result"
    }
   ],
   "source": [
    "crime.head()"
   ]
  },
  {
   "cell_type": "markdown",
   "metadata": {},
   "source": [
    "### Environmental spectrum\n",
    "\n",
    "The environmental spectrum is composed of the following metrics, and should be interpreted as follows:\n",
    "\n",
    "\n",
    "* **air_score_norm**: measures where the city sits in relation with others in terms of the satisfaction with the quality of the air by locals of the city. Values are normalized between 0-1.\n",
    "* **noise_score_norm**: measures where the city sits in relation with others in terms of the satisfaction with the level of noise by locals of the city. Values are normalized between 0-1.\n",
    "* **clean_score_norm**: measures where the city sits in relation with others in terms of the satisfaction with the level of cleanliness by locals of the city. Values are normalized between 0-1.\n",
    "\n",
    "***Methodology to normalize the values of the surveys:***\n",
    "\n",
    "Each survery has 4 possible answers, i. very satisfied, ii. rather satisfied, iii. rather unsatisfied, and iv. not at all satisfied.\n",
    "\n",
    "step 1. we redistributed the \"don't know/no answer\" betwwen the other options, based on their weight.\n",
    "\n",
    "step 2. we calculated the raw score for that city, by adding the % of votes of groups i and ii, and discounting the groups iii and iv. Also, we weighted more the very positive and very negative votes, by adding a +1.75 multiplier for \"very satisfied\" and \"not at all satisfied\".\n",
    "\n",
    "As an example, if group i. had 50% of voters, group ii. 20, group iii. 10 and group iv. 20, the score formula would be as follows:\n",
    "\n",
    "* city score = [(50 x 1.75) + 20] - [10 - (20 x 1.75)] = 62.5\n",
    "\n",
    "step 3. we normalized the scores of the cities, so that the minimum score value would be 0 and the maximum 1, through the following formula. e.g. if the maximum value was 90 and the minimum value was 15, it would be calculated as follows:\n",
    "\n",
    "* city normalized score = [(62.5 - 15) / (90 - 15)] = 0.633\n",
    "\n",
    "Through this process, we calculated normalized scores for each feature.\n",
    "\n",
    "* **Numbeo Pollution Indexes**:\n",
    "\n",
    "In relation with numbeo's indexes, find detailed information about the methodology utilized in the link enclosed https://www.numbeo.com/pollution/indices_explained.jsp:\n",
    "\n",
    "* **Pollution Index**:Pollution Index is an estimation of the overall pollution in the city. The biggest weight is given to air pollution, than to water pollution/accessibility, two main pollution factors. Small weight is given to other pollution types.\n",
    "\n",
    "* **Pollution Exp Scale** is using an exponential scale to show very high numbers for very polluted cities, and very low numbers for unpolluted cities. Therefore to calculate formula it uses the exponential function to calculate the index.:"
   ]
  },
  {
   "cell_type": "code",
   "execution_count": 114,
   "metadata": {},
   "outputs": [
    {
     "data": {
      "text/html": [
       "<div>\n",
       "<style scoped>\n",
       "    .dataframe tbody tr th:only-of-type {\n",
       "        vertical-align: middle;\n",
       "    }\n",
       "\n",
       "    .dataframe tbody tr th {\n",
       "        vertical-align: top;\n",
       "    }\n",
       "\n",
       "    .dataframe thead th {\n",
       "        text-align: right;\n",
       "    }\n",
       "</style>\n",
       "<table border=\"1\" class=\"dataframe\">\n",
       "  <thead>\n",
       "    <tr style=\"text-align: right;\">\n",
       "      <th></th>\n",
       "      <th>City</th>\n",
       "      <th>air_score_norm</th>\n",
       "      <th>noise_score_norm</th>\n",
       "      <th>clean_score_norm</th>\n",
       "      <th>Pollution Index</th>\n",
       "      <th>Exp Pollution Index</th>\n",
       "    </tr>\n",
       "  </thead>\n",
       "  <tbody>\n",
       "    <tr>\n",
       "      <th>0</th>\n",
       "      <td>Brussels</td>\n",
       "      <td>0.388329</td>\n",
       "      <td>0.408581</td>\n",
       "      <td>0.422918</td>\n",
       "      <td>62.13</td>\n",
       "      <td>110.17</td>\n",
       "    </tr>\n",
       "    <tr>\n",
       "      <th>1</th>\n",
       "      <td>Antwerp</td>\n",
       "      <td>0.594383</td>\n",
       "      <td>0.774693</td>\n",
       "      <td>0.836928</td>\n",
       "      <td>61.14</td>\n",
       "      <td>110.83</td>\n",
       "    </tr>\n",
       "    <tr>\n",
       "      <th>2</th>\n",
       "      <td>Copenhagen</td>\n",
       "      <td>0.712932</td>\n",
       "      <td>0.726070</td>\n",
       "      <td>0.801142</td>\n",
       "      <td>21.06</td>\n",
       "      <td>33.38</td>\n",
       "    </tr>\n",
       "    <tr>\n",
       "      <th>3</th>\n",
       "      <td>Berlin</td>\n",
       "      <td>0.726065</td>\n",
       "      <td>0.549622</td>\n",
       "      <td>0.523524</td>\n",
       "      <td>39.41</td>\n",
       "      <td>65.98</td>\n",
       "    </tr>\n",
       "    <tr>\n",
       "      <th>4</th>\n",
       "      <td>Dublin</td>\n",
       "      <td>0.963148</td>\n",
       "      <td>1.000000</td>\n",
       "      <td>0.678932</td>\n",
       "      <td>39.88</td>\n",
       "      <td>66.51</td>\n",
       "    </tr>\n",
       "  </tbody>\n",
       "</table>\n",
       "</div>"
      ],
      "text/plain": [
       "         City  air_score_norm  noise_score_norm  clean_score_norm  \\\n",
       "0    Brussels        0.388329          0.408581          0.422918   \n",
       "1     Antwerp        0.594383          0.774693          0.836928   \n",
       "2  Copenhagen        0.712932          0.726070          0.801142   \n",
       "3      Berlin        0.726065          0.549622          0.523524   \n",
       "4      Dublin        0.963148          1.000000          0.678932   \n",
       "\n",
       "   Pollution Index  Exp Pollution Index  \n",
       "0            62.13               110.17  \n",
       "1            61.14               110.83  \n",
       "2            21.06                33.38  \n",
       "3            39.41                65.98  \n",
       "4            39.88                66.51  "
      ]
     },
     "execution_count": 114,
     "metadata": {},
     "output_type": "execute_result"
    }
   ],
   "source": [
    "pollution.head()"
   ]
  },
  {
   "cell_type": "markdown",
   "metadata": {},
   "source": [
    "### Amenties spectrum\n",
    "\n",
    "The amenties spectrum is composed of the following metrics, and should be interpreted as follows:\n",
    "\n",
    "* **norm_score_pub_transport**: measures where the city sits in relation with others in terms of how satisfied are locals with Public transport in the city, for example bus, tram or metro. Values are normalized between 0-1.\n",
    "* **norm_score_green_places**: measures where the city sits in relation with others in terms of how satisfied are locals with Green spaces such as public parcs or gardens. Values are normalized between 0-1.\n",
    "* **norm_score_sports**: measures where the city sits in relation with others in terms of how satisfied are locals with Sports facilities such as sport fields and indoor sport halls in the city. Values are normalized between 0-1.\n",
    "* **norm_score_cultural**: measures where the city sits in relation with others in terms of how satisfied are locals with Cultural facilities such as concert halls, theatres, museums and libraries in the city. Values are normalized between 0-1.\n",
    "* **norm_score_public_spaces**: measures where the city sits in relation with others in terms of how satisfied are locals with Public spaces in this city such as markets, squares, pedestrian areas. Values are normalized between 0-1.\n",
    "\n",
    "\n",
    "***Methodology to normalize the values of the surveys:***\n",
    "\n",
    "Each survery has 4 possible answers, i. very satisfied, ii. rather satisfied, iii. rather unsatisfied, and iv. not at all satisfied.\n",
    "\n",
    "step 1. we redistributed the \"don't know/no answer\" betwwen the other options, based on their weight.\n",
    "\n",
    "step 2. we calculated the raw score for that city, by adding the % of votes of groups i and ii, and discounting the groups iii and iv. Also, we weighted more the very positive and very negative votes, by adding a +1.75 multiplier for \"very satisfied\" and \"not at all satisfied\".\n",
    "\n",
    "As an example, if group i. had 50% of voters, group ii. 20, group iii. 10 and group iv. 20, the score formula would be as follows:\n",
    "\n",
    "* city score = [(50 x 1.75) + 20] - [10 - (20 x 1.75)] = 62.5\n",
    "\n",
    "step 3. we normalized the scores of the cities, so that the minimum score value would be 0 and the maximum 1, through the following formula. e.g. if the maximum value was 90 and the minimum value was 15, it would be calculated as follows:\n",
    "\n",
    "* city normalized score = [(62.5 - 15) / (90 - 15)] = 0.633\n",
    "\n",
    "Through this process, we calculated normalized scores for each feature."
   ]
  },
  {
   "cell_type": "code",
   "execution_count": 115,
   "metadata": {},
   "outputs": [
    {
     "data": {
      "text/html": [
       "<div>\n",
       "<style scoped>\n",
       "    .dataframe tbody tr th:only-of-type {\n",
       "        vertical-align: middle;\n",
       "    }\n",
       "\n",
       "    .dataframe tbody tr th {\n",
       "        vertical-align: top;\n",
       "    }\n",
       "\n",
       "    .dataframe thead th {\n",
       "        text-align: right;\n",
       "    }\n",
       "</style>\n",
       "<table border=\"1\" class=\"dataframe\">\n",
       "  <thead>\n",
       "    <tr style=\"text-align: right;\">\n",
       "      <th></th>\n",
       "      <th>City</th>\n",
       "      <th>norm_score_pub_transport</th>\n",
       "      <th>norm_score_green_places</th>\n",
       "      <th>norm_score_sports</th>\n",
       "      <th>norm_score_cultural</th>\n",
       "      <th>norm_score_public_spaces</th>\n",
       "    </tr>\n",
       "  </thead>\n",
       "  <tbody>\n",
       "    <tr>\n",
       "      <th>0</th>\n",
       "      <td>Brussels</td>\n",
       "      <td>0.583663</td>\n",
       "      <td>0.811268</td>\n",
       "      <td>0.707202</td>\n",
       "      <td>0.537342</td>\n",
       "      <td>0.736297</td>\n",
       "    </tr>\n",
       "    <tr>\n",
       "      <th>1</th>\n",
       "      <td>Antwerp</td>\n",
       "      <td>0.602647</td>\n",
       "      <td>0.856023</td>\n",
       "      <td>1.000000</td>\n",
       "      <td>0.749101</td>\n",
       "      <td>0.918953</td>\n",
       "    </tr>\n",
       "    <tr>\n",
       "      <th>2</th>\n",
       "      <td>Copenhagen</td>\n",
       "      <td>0.732794</td>\n",
       "      <td>0.970956</td>\n",
       "      <td>0.744960</td>\n",
       "      <td>0.796250</td>\n",
       "      <td>0.924146</td>\n",
       "    </tr>\n",
       "    <tr>\n",
       "      <th>3</th>\n",
       "      <td>Berlin</td>\n",
       "      <td>0.821741</td>\n",
       "      <td>0.867674</td>\n",
       "      <td>0.603141</td>\n",
       "      <td>0.731351</td>\n",
       "      <td>0.767469</td>\n",
       "    </tr>\n",
       "    <tr>\n",
       "      <th>4</th>\n",
       "      <td>Dublin</td>\n",
       "      <td>0.652075</td>\n",
       "      <td>0.919839</td>\n",
       "      <td>0.831729</td>\n",
       "      <td>0.648258</td>\n",
       "      <td>0.751763</td>\n",
       "    </tr>\n",
       "  </tbody>\n",
       "</table>\n",
       "</div>"
      ],
      "text/plain": [
       "         City  norm_score_pub_transport  norm_score_green_places  \\\n",
       "0    Brussels                  0.583663                 0.811268   \n",
       "1     Antwerp                  0.602647                 0.856023   \n",
       "2  Copenhagen                  0.732794                 0.970956   \n",
       "3      Berlin                  0.821741                 0.867674   \n",
       "4      Dublin                  0.652075                 0.919839   \n",
       "\n",
       "   norm_score_sports  norm_score_cultural  norm_score_public_spaces  \n",
       "0           0.707202             0.537342                  0.736297  \n",
       "1           1.000000             0.749101                  0.918953  \n",
       "2           0.744960             0.796250                  0.924146  \n",
       "3           0.603141             0.731351                  0.767469  \n",
       "4           0.831729             0.648258                  0.751763  "
      ]
     },
     "execution_count": 115,
     "metadata": {},
     "output_type": "execute_result"
    }
   ],
   "source": [
    "amenities.head()"
   ]
  },
  {
   "cell_type": "markdown",
   "metadata": {},
   "source": [
    "### Hostility spectrum\n",
    "\n",
    "The hostility spectrum is composed of the following metrics, and should be interpreted as follows:\n",
    "\n",
    "* **score_norm_general**: measures where the city sits in relation with others in terms of how locals believe that, for people in general, their city is a good (or bad) place to live. Values are normalized between 0-1.\n",
    "* **score_norm_ethnic**: measures where the city sits in relation with others in terms of how locals believe that, for racial and ethnic minorities, their city is a good (or bad) place to live. Values are normalized between 0-1.\n",
    "* **score_norm_gay**: measures where the city sits in relation with others in terms of how locals believe that, for gay or lesbian people, their city is a good (or bad) place to live. Values are normalized between 0-1.\n",
    "* **score_norm_immigrants**: measures where the city sits in relation with others in terms of how locals believe that, for immigrants from other countries, their city is a good (or bad) place to live. Values are normalized between 0-1.\n",
    "* **score_norm_young_families**: measures where the city sits in relation with others in terms of how locals believe that, for young families with children, their city is a good (or bad) place to live. Values are normalized between 0-1.\n",
    "* **score_norm_elderly**: measures where the city sits in relation with others in terms of how locals believe that, for elderly people, their city is a good (or bad) place to live. Values are normalized between 0-1.\n",
    "\n",
    "***Methodology to normalize the values of the surveys:***\n",
    "\n",
    "Each survery has 2 possible answers, i. a good place to live and ii. a bad place to live.\n",
    "\n",
    "step 1. we redistributed the \"don't know/no answer\" between the other options, based on their weight.\n",
    "\n",
    "step 2. we calculated the raw score for that city, by adding the % of votes of groups i and discounting the number of votes of group ii.\n",
    "\n",
    "As an example, if group i. had 90% of voters, group ii. 10%, the score formula would be as follows:\n",
    "\n",
    "* city score = [90 -10] = 80\n",
    "\n",
    "step 3. we normalized the scores of the cities, so that the minimum score value would be 0 and the maximum 1, through the following formula. e.g. if the maximum value was 95 and the minimum value was 50, it would be calculated as follows:\n",
    "\n",
    "* city normalized score = [(80 - 50) / (95 - 50)] = 0.666\n",
    "\n",
    "Through this process, we calculated normalized scores for each feature."
   ]
  },
  {
   "cell_type": "code",
   "execution_count": 116,
   "metadata": {},
   "outputs": [
    {
     "data": {
      "text/html": [
       "<div>\n",
       "<style scoped>\n",
       "    .dataframe tbody tr th:only-of-type {\n",
       "        vertical-align: middle;\n",
       "    }\n",
       "\n",
       "    .dataframe tbody tr th {\n",
       "        vertical-align: top;\n",
       "    }\n",
       "\n",
       "    .dataframe thead th {\n",
       "        text-align: right;\n",
       "    }\n",
       "</style>\n",
       "<table border=\"1\" class=\"dataframe\">\n",
       "  <thead>\n",
       "    <tr style=\"text-align: right;\">\n",
       "      <th></th>\n",
       "      <th>City</th>\n",
       "      <th>score_norm_general</th>\n",
       "      <th>score_norm_ethnic</th>\n",
       "      <th>score_norm_gay</th>\n",
       "      <th>score_norm_immigrants</th>\n",
       "      <th>score_norm_young_families</th>\n",
       "      <th>score_norm_elderly</th>\n",
       "    </tr>\n",
       "  </thead>\n",
       "  <tbody>\n",
       "    <tr>\n",
       "      <th>0</th>\n",
       "      <td>Brussels</td>\n",
       "      <td>0.725835</td>\n",
       "      <td>0.545045</td>\n",
       "      <td>0.061683</td>\n",
       "      <td>0.534006</td>\n",
       "      <td>0.434955</td>\n",
       "      <td>0.633666</td>\n",
       "    </tr>\n",
       "    <tr>\n",
       "      <th>1</th>\n",
       "      <td>Antwerp</td>\n",
       "      <td>0.967707</td>\n",
       "      <td>0.482883</td>\n",
       "      <td>0.822269</td>\n",
       "      <td>0.862052</td>\n",
       "      <td>0.439450</td>\n",
       "      <td>0.701256</td>\n",
       "    </tr>\n",
       "    <tr>\n",
       "      <th>2</th>\n",
       "      <td>Copenhagen</td>\n",
       "      <td>0.854130</td>\n",
       "      <td>0.625225</td>\n",
       "      <td>0.976477</td>\n",
       "      <td>0.653689</td>\n",
       "      <td>0.970122</td>\n",
       "      <td>0.803943</td>\n",
       "    </tr>\n",
       "    <tr>\n",
       "      <th>3</th>\n",
       "      <td>Berlin</td>\n",
       "      <td>0.905536</td>\n",
       "      <td>0.648348</td>\n",
       "      <td>0.795609</td>\n",
       "      <td>0.763278</td>\n",
       "      <td>0.652565</td>\n",
       "      <td>0.654246</td>\n",
       "    </tr>\n",
       "    <tr>\n",
       "      <th>4</th>\n",
       "      <td>Dublin</td>\n",
       "      <td>0.938489</td>\n",
       "      <td>0.971171</td>\n",
       "      <td>0.912703</td>\n",
       "      <td>0.977169</td>\n",
       "      <td>0.585933</td>\n",
       "      <td>0.734185</td>\n",
       "    </tr>\n",
       "  </tbody>\n",
       "</table>\n",
       "</div>"
      ],
      "text/plain": [
       "         City  score_norm_general  score_norm_ethnic  score_norm_gay  \\\n",
       "0    Brussels            0.725835           0.545045        0.061683   \n",
       "1     Antwerp            0.967707           0.482883        0.822269   \n",
       "2  Copenhagen            0.854130           0.625225        0.976477   \n",
       "3      Berlin            0.905536           0.648348        0.795609   \n",
       "4      Dublin            0.938489           0.971171        0.912703   \n",
       "\n",
       "   score_norm_immigrants  score_norm_young_families  score_norm_elderly  \n",
       "0               0.534006                   0.434955            0.633666  \n",
       "1               0.862052                   0.439450            0.701256  \n",
       "2               0.653689                   0.970122            0.803943  \n",
       "3               0.763278                   0.652565            0.654246  \n",
       "4               0.977169                   0.585933            0.734185  "
      ]
     },
     "execution_count": 116,
     "metadata": {},
     "output_type": "execute_result"
    }
   ],
   "source": [
    "hostility.head()"
   ]
  },
  {
   "cell_type": "markdown",
   "metadata": {},
   "source": [
    "### Population spectrum\n",
    "\n",
    "The population spectrum is composed of the following files, that contain:\n",
    "\n",
    "* **tot_pop**: total population per city (male+female), in brakets of 5 years (i.e. from 20-24 years, from 25-29..) as well as the weight of such age groups in the total population.\n",
    "   *As a host, it is relevant to be recommended cities with similar number of people as their own city.*\n",
    "* **female_pop**: idem, but only considering the female population per city.\n",
    "   *As a host, it is relevant to be recommended cities with similar number of females in their age group.*\n",
    "* **male_pop**: idem, but only considering the male population per city.\n",
    "   *As a host, it is relevant to be recommended cities with similar number of males in their age group.*\n",
    "* **female_rate**: the ratio of females:males for each age group in the city.\n",
    "   *As a host, it is relevant to be recommended cities with similar female:male ratios as in their own city.*\n",
    "* **male_rate**: the ratio of males:females for each age group in the city.\n",
    "   *As a host, it is relevant to be recommended cities with similar male:female ratios as in their own city.*"
   ]
  },
  {
   "cell_type": "code",
   "execution_count": 117,
   "metadata": {},
   "outputs": [
    {
     "data": {
      "text/html": [
       "<div>\n",
       "<style scoped>\n",
       "    .dataframe tbody tr th:only-of-type {\n",
       "        vertical-align: middle;\n",
       "    }\n",
       "\n",
       "    .dataframe tbody tr th {\n",
       "        vertical-align: top;\n",
       "    }\n",
       "\n",
       "    .dataframe thead th {\n",
       "        text-align: right;\n",
       "    }\n",
       "</style>\n",
       "<table border=\"1\" class=\"dataframe\">\n",
       "  <thead>\n",
       "    <tr style=\"text-align: right;\">\n",
       "      <th></th>\n",
       "      <th>good</th>\n",
       "      <th>total population</th>\n",
       "      <th>-5</th>\n",
       "      <th>5-9</th>\n",
       "      <th>10-14</th>\n",
       "      <th>15-19</th>\n",
       "      <th>20-24</th>\n",
       "      <th>25-29</th>\n",
       "      <th>30-34</th>\n",
       "      <th>35-39</th>\n",
       "      <th>...</th>\n",
       "      <th>(%)80-84</th>\n",
       "      <th>(%)85-89</th>\n",
       "      <th>(%)90</th>\n",
       "      <th>(%)20-29</th>\n",
       "      <th>(%)30-39</th>\n",
       "      <th>(%)40-49</th>\n",
       "      <th>(%)50-59</th>\n",
       "      <th>(%)60-69</th>\n",
       "      <th>(%)70-79</th>\n",
       "      <th>(%)80-89</th>\n",
       "    </tr>\n",
       "  </thead>\n",
       "  <tbody>\n",
       "    <tr>\n",
       "      <th>0</th>\n",
       "      <td>Amsterdam</td>\n",
       "      <td>3302548</td>\n",
       "      <td>170728</td>\n",
       "      <td>175585</td>\n",
       "      <td>180820</td>\n",
       "      <td>192348</td>\n",
       "      <td>201080</td>\n",
       "      <td>240026</td>\n",
       "      <td>238036</td>\n",
       "      <td>216988</td>\n",
       "      <td>...</td>\n",
       "      <td>2.17</td>\n",
       "      <td>1.27</td>\n",
       "      <td>0.66</td>\n",
       "      <td>13.36</td>\n",
       "      <td>14.48</td>\n",
       "      <td>13.78</td>\n",
       "      <td>13.15</td>\n",
       "      <td>14.30</td>\n",
       "      <td>8.20</td>\n",
       "      <td>3.44</td>\n",
       "    </tr>\n",
       "    <tr>\n",
       "      <th>1</th>\n",
       "      <td>Antwerp</td>\n",
       "      <td>1059946</td>\n",
       "      <td>61399</td>\n",
       "      <td>64548</td>\n",
       "      <td>61894</td>\n",
       "      <td>56939</td>\n",
       "      <td>61361</td>\n",
       "      <td>72446</td>\n",
       "      <td>72308</td>\n",
       "      <td>71005</td>\n",
       "      <td>...</td>\n",
       "      <td>2.87</td>\n",
       "      <td>1.96</td>\n",
       "      <td>1.06</td>\n",
       "      <td>12.62</td>\n",
       "      <td>13.65</td>\n",
       "      <td>13.52</td>\n",
       "      <td>12.55</td>\n",
       "      <td>13.25</td>\n",
       "      <td>7.90</td>\n",
       "      <td>4.83</td>\n",
       "    </tr>\n",
       "    <tr>\n",
       "      <th>2</th>\n",
       "      <td>Athens</td>\n",
       "      <td>3557383</td>\n",
       "      <td>161215</td>\n",
       "      <td>169483</td>\n",
       "      <td>175997</td>\n",
       "      <td>174513</td>\n",
       "      <td>178558</td>\n",
       "      <td>183283</td>\n",
       "      <td>197764</td>\n",
       "      <td>255229</td>\n",
       "      <td>...</td>\n",
       "      <td>3.31</td>\n",
       "      <td>2.05</td>\n",
       "      <td>1.26</td>\n",
       "      <td>10.17</td>\n",
       "      <td>10.71</td>\n",
       "      <td>12.73</td>\n",
       "      <td>15.86</td>\n",
       "      <td>14.45</td>\n",
       "      <td>9.04</td>\n",
       "      <td>5.36</td>\n",
       "    </tr>\n",
       "    <tr>\n",
       "      <th>3</th>\n",
       "      <td>Barcelona</td>\n",
       "      <td>5635100</td>\n",
       "      <td>251234</td>\n",
       "      <td>289202</td>\n",
       "      <td>312241</td>\n",
       "      <td>294346</td>\n",
       "      <td>287869</td>\n",
       "      <td>319129</td>\n",
       "      <td>338465</td>\n",
       "      <td>392893</td>\n",
       "      <td>...</td>\n",
       "      <td>2.63</td>\n",
       "      <td>2.08</td>\n",
       "      <td>1.19</td>\n",
       "      <td>10.77</td>\n",
       "      <td>11.67</td>\n",
       "      <td>12.98</td>\n",
       "      <td>16.77</td>\n",
       "      <td>14.00</td>\n",
       "      <td>8.39</td>\n",
       "      <td>4.71</td>\n",
       "    </tr>\n",
       "    <tr>\n",
       "      <th>4</th>\n",
       "      <td>Berlin</td>\n",
       "      <td>5342887</td>\n",
       "      <td>268420</td>\n",
       "      <td>251177</td>\n",
       "      <td>232401</td>\n",
       "      <td>220805</td>\n",
       "      <td>262874</td>\n",
       "      <td>341293</td>\n",
       "      <td>437408</td>\n",
       "      <td>403817</td>\n",
       "      <td>...</td>\n",
       "      <td>3.71</td>\n",
       "      <td>1.68</td>\n",
       "      <td>0.85</td>\n",
       "      <td>11.31</td>\n",
       "      <td>14.58</td>\n",
       "      <td>15.75</td>\n",
       "      <td>12.54</td>\n",
       "      <td>15.42</td>\n",
       "      <td>8.76</td>\n",
       "      <td>5.39</td>\n",
       "    </tr>\n",
       "  </tbody>\n",
       "</table>\n",
       "<p>5 rows × 47 columns</p>\n",
       "</div>"
      ],
      "text/plain": [
       "        good  total population      -5     5-9   10-14   15-19   20-24  \\\n",
       "0  Amsterdam           3302548  170728  175585  180820  192348  201080   \n",
       "1    Antwerp           1059946   61399   64548   61894   56939   61361   \n",
       "2     Athens           3557383  161215  169483  175997  174513  178558   \n",
       "3  Barcelona           5635100  251234  289202  312241  294346  287869   \n",
       "4     Berlin           5342887  268420  251177  232401  220805  262874   \n",
       "\n",
       "    25-29   30-34   35-39  ...  (%)80-84  (%)85-89  (%)90  (%)20-29  (%)30-39  \\\n",
       "0  240026  238036  216988  ...      2.17      1.27   0.66     13.36     14.48   \n",
       "1   72446   72308   71005  ...      2.87      1.96   1.06     12.62     13.65   \n",
       "2  183283  197764  255229  ...      3.31      2.05   1.26     10.17     10.71   \n",
       "3  319129  338465  392893  ...      2.63      2.08   1.19     10.77     11.67   \n",
       "4  341293  437408  403817  ...      3.71      1.68   0.85     11.31     14.58   \n",
       "\n",
       "   (%)40-49  (%)50-59  (%)60-69  (%)70-79  (%)80-89  \n",
       "0     13.78     13.15     14.30      8.20      3.44  \n",
       "1     13.52     12.55     13.25      7.90      4.83  \n",
       "2     12.73     15.86     14.45      9.04      5.36  \n",
       "3     12.98     16.77     14.00      8.39      4.71  \n",
       "4     15.75     12.54     15.42      8.76      5.39  \n",
       "\n",
       "[5 rows x 47 columns]"
      ]
     },
     "execution_count": 117,
     "metadata": {},
     "output_type": "execute_result"
    }
   ],
   "source": [
    "tot_pop.head()"
   ]
  },
  {
   "cell_type": "code",
   "execution_count": 118,
   "metadata": {},
   "outputs": [
    {
     "data": {
      "text/html": [
       "<div>\n",
       "<style scoped>\n",
       "    .dataframe tbody tr th:only-of-type {\n",
       "        vertical-align: middle;\n",
       "    }\n",
       "\n",
       "    .dataframe tbody tr th {\n",
       "        vertical-align: top;\n",
       "    }\n",
       "\n",
       "    .dataframe thead th {\n",
       "        text-align: right;\n",
       "    }\n",
       "</style>\n",
       "<table border=\"1\" class=\"dataframe\">\n",
       "  <thead>\n",
       "    <tr style=\"text-align: right;\">\n",
       "      <th></th>\n",
       "      <th>City</th>\n",
       "      <th>total female population</th>\n",
       "      <th>-5</th>\n",
       "      <th>5-9</th>\n",
       "      <th>10-14</th>\n",
       "      <th>15-19</th>\n",
       "      <th>20-24</th>\n",
       "      <th>25-29</th>\n",
       "      <th>30-34</th>\n",
       "      <th>35-39</th>\n",
       "      <th>...</th>\n",
       "      <th>(%)80-84</th>\n",
       "      <th>(%)85-89</th>\n",
       "      <th>(%)90</th>\n",
       "      <th>(%)20-29</th>\n",
       "      <th>(%)30-39</th>\n",
       "      <th>(%)40-49</th>\n",
       "      <th>(%)50-59</th>\n",
       "      <th>(%)60-69</th>\n",
       "      <th>(%)70-79</th>\n",
       "      <th>(%)80-89</th>\n",
       "    </tr>\n",
       "  </thead>\n",
       "  <tbody>\n",
       "    <tr>\n",
       "      <th>0</th>\n",
       "      <td>Amsterdam</td>\n",
       "      <td>1667602</td>\n",
       "      <td>83040</td>\n",
       "      <td>85735</td>\n",
       "      <td>88294</td>\n",
       "      <td>94097</td>\n",
       "      <td>101083</td>\n",
       "      <td>121002</td>\n",
       "      <td>119213</td>\n",
       "      <td>108561</td>\n",
       "      <td>...</td>\n",
       "      <td>2.42</td>\n",
       "      <td>1.57</td>\n",
       "      <td>0.93</td>\n",
       "      <td>13.32</td>\n",
       "      <td>13.66</td>\n",
       "      <td>13.14</td>\n",
       "      <td>14.09</td>\n",
       "      <td>11.34</td>\n",
       "      <td>8.49</td>\n",
       "      <td>3.99</td>\n",
       "    </tr>\n",
       "    <tr>\n",
       "      <th>1</th>\n",
       "      <td>Antwerp</td>\n",
       "      <td>534038</td>\n",
       "      <td>30012</td>\n",
       "      <td>31548</td>\n",
       "      <td>30339</td>\n",
       "      <td>27544</td>\n",
       "      <td>29980</td>\n",
       "      <td>36215</td>\n",
       "      <td>36171</td>\n",
       "      <td>35067</td>\n",
       "      <td>...</td>\n",
       "      <td>3.26</td>\n",
       "      <td>2.42</td>\n",
       "      <td>1.46</td>\n",
       "      <td>12.39</td>\n",
       "      <td>13.34</td>\n",
       "      <td>12.21</td>\n",
       "      <td>12.92</td>\n",
       "      <td>11.24</td>\n",
       "      <td>8.39</td>\n",
       "      <td>5.68</td>\n",
       "    </tr>\n",
       "    <tr>\n",
       "      <th>2</th>\n",
       "      <td>Athens</td>\n",
       "      <td>1873261</td>\n",
       "      <td>78775</td>\n",
       "      <td>82816</td>\n",
       "      <td>85131</td>\n",
       "      <td>81697</td>\n",
       "      <td>85211</td>\n",
       "      <td>92906</td>\n",
       "      <td>102913</td>\n",
       "      <td>129055</td>\n",
       "      <td>...</td>\n",
       "      <td>3.81</td>\n",
       "      <td>2.44</td>\n",
       "      <td>1.47</td>\n",
       "      <td>9.51</td>\n",
       "      <td>12.38</td>\n",
       "      <td>15.62</td>\n",
       "      <td>14.94</td>\n",
       "      <td>12.62</td>\n",
       "      <td>9.68</td>\n",
       "      <td>6.25</td>\n",
       "    </tr>\n",
       "    <tr>\n",
       "      <th>3</th>\n",
       "      <td>Barcelona</td>\n",
       "      <td>2901398</td>\n",
       "      <td>122134</td>\n",
       "      <td>139871</td>\n",
       "      <td>150390</td>\n",
       "      <td>141451</td>\n",
       "      <td>139508</td>\n",
       "      <td>159500</td>\n",
       "      <td>171677</td>\n",
       "      <td>201351</td>\n",
       "      <td>...</td>\n",
       "      <td>3.05</td>\n",
       "      <td>2.60</td>\n",
       "      <td>1.68</td>\n",
       "      <td>10.31</td>\n",
       "      <td>12.86</td>\n",
       "      <td>16.31</td>\n",
       "      <td>13.86</td>\n",
       "      <td>11.19</td>\n",
       "      <td>9.04</td>\n",
       "      <td>5.65</td>\n",
       "    </tr>\n",
       "    <tr>\n",
       "      <th>4</th>\n",
       "      <td>Berlin</td>\n",
       "      <td>2712610</td>\n",
       "      <td>130552</td>\n",
       "      <td>122286</td>\n",
       "      <td>112773</td>\n",
       "      <td>106964</td>\n",
       "      <td>129246</td>\n",
       "      <td>170430</td>\n",
       "      <td>216691</td>\n",
       "      <td>198390</td>\n",
       "      <td>...</td>\n",
       "      <td>4.31</td>\n",
       "      <td>2.09</td>\n",
       "      <td>1.23</td>\n",
       "      <td>11.04</td>\n",
       "      <td>15.30</td>\n",
       "      <td>12.12</td>\n",
       "      <td>15.03</td>\n",
       "      <td>11.99</td>\n",
       "      <td>9.45</td>\n",
       "      <td>6.40</td>\n",
       "    </tr>\n",
       "  </tbody>\n",
       "</table>\n",
       "<p>5 rows × 46 columns</p>\n",
       "</div>"
      ],
      "text/plain": [
       "        City  total female population      -5     5-9   10-14   15-19   20-24  \\\n",
       "0  Amsterdam                  1667602   83040   85735   88294   94097  101083   \n",
       "1    Antwerp                   534038   30012   31548   30339   27544   29980   \n",
       "2     Athens                  1873261   78775   82816   85131   81697   85211   \n",
       "3  Barcelona                  2901398  122134  139871  150390  141451  139508   \n",
       "4     Berlin                  2712610  130552  122286  112773  106964  129246   \n",
       "\n",
       "    25-29   30-34   35-39  ...  (%)80-84  (%)85-89  (%)90  (%)20-29  (%)30-39  \\\n",
       "0  121002  119213  108561  ...      2.42      1.57   0.93     13.32     13.66   \n",
       "1   36215   36171   35067  ...      3.26      2.42   1.46     12.39     13.34   \n",
       "2   92906  102913  129055  ...      3.81      2.44   1.47      9.51     12.38   \n",
       "3  159500  171677  201351  ...      3.05      2.60   1.68     10.31     12.86   \n",
       "4  170430  216691  198390  ...      4.31      2.09   1.23     11.04     15.30   \n",
       "\n",
       "   (%)40-49  (%)50-59  (%)60-69  (%)70-79  (%)80-89  \n",
       "0     13.14     14.09     11.34      8.49      3.99  \n",
       "1     12.21     12.92     11.24      8.39      5.68  \n",
       "2     15.62     14.94     12.62      9.68      6.25  \n",
       "3     16.31     13.86     11.19      9.04      5.65  \n",
       "4     12.12     15.03     11.99      9.45      6.40  \n",
       "\n",
       "[5 rows x 46 columns]"
      ]
     },
     "execution_count": 118,
     "metadata": {},
     "output_type": "execute_result"
    }
   ],
   "source": [
    "female_pop.head()"
   ]
  },
  {
   "cell_type": "code",
   "execution_count": 119,
   "metadata": {},
   "outputs": [
    {
     "data": {
      "text/html": [
       "<div>\n",
       "<style scoped>\n",
       "    .dataframe tbody tr th:only-of-type {\n",
       "        vertical-align: middle;\n",
       "    }\n",
       "\n",
       "    .dataframe tbody tr th {\n",
       "        vertical-align: top;\n",
       "    }\n",
       "\n",
       "    .dataframe thead th {\n",
       "        text-align: right;\n",
       "    }\n",
       "</style>\n",
       "<table border=\"1\" class=\"dataframe\">\n",
       "  <thead>\n",
       "    <tr style=\"text-align: right;\">\n",
       "      <th></th>\n",
       "      <th>City</th>\n",
       "      <th>total male population</th>\n",
       "      <th>-5</th>\n",
       "      <th>5-9</th>\n",
       "      <th>10-14</th>\n",
       "      <th>15-19</th>\n",
       "      <th>20-24</th>\n",
       "      <th>25-29</th>\n",
       "      <th>30-34</th>\n",
       "      <th>35-39</th>\n",
       "      <th>...</th>\n",
       "      <th>(%)35-39</th>\n",
       "      <th>(%)40-44</th>\n",
       "      <th>(%)45-49</th>\n",
       "      <th>(%)50-54</th>\n",
       "      <th>(%)55-59</th>\n",
       "      <th>(%)60-64</th>\n",
       "      <th>(%)65-69</th>\n",
       "      <th>(%)70-74</th>\n",
       "      <th>(%)75-79</th>\n",
       "      <th>(%)80-84</th>\n",
       "    </tr>\n",
       "  </thead>\n",
       "  <tbody>\n",
       "    <tr>\n",
       "      <th>0</th>\n",
       "      <td>Amsterdam</td>\n",
       "      <td>1634946</td>\n",
       "      <td>87688</td>\n",
       "      <td>89850</td>\n",
       "      <td>92526</td>\n",
       "      <td>98251</td>\n",
       "      <td>99997</td>\n",
       "      <td>119024</td>\n",
       "      <td>118823</td>\n",
       "      <td>108427</td>\n",
       "      <td>...</td>\n",
       "      <td>6.63</td>\n",
       "      <td>6.21</td>\n",
       "      <td>6.96</td>\n",
       "      <td>7.38</td>\n",
       "      <td>7.14</td>\n",
       "      <td>6.07</td>\n",
       "      <td>5.24</td>\n",
       "      <td>4.84</td>\n",
       "      <td>3.07</td>\n",
       "      <td>1.92</td>\n",
       "    </tr>\n",
       "    <tr>\n",
       "      <th>1</th>\n",
       "      <td>Antwerp</td>\n",
       "      <td>525908</td>\n",
       "      <td>31387</td>\n",
       "      <td>33000</td>\n",
       "      <td>31555</td>\n",
       "      <td>29395</td>\n",
       "      <td>31381</td>\n",
       "      <td>36231</td>\n",
       "      <td>36137</td>\n",
       "      <td>35938</td>\n",
       "      <td>...</td>\n",
       "      <td>6.83</td>\n",
       "      <td>6.43</td>\n",
       "      <td>6.47</td>\n",
       "      <td>6.75</td>\n",
       "      <td>6.83</td>\n",
       "      <td>6.06</td>\n",
       "      <td>5.06</td>\n",
       "      <td>4.32</td>\n",
       "      <td>3.08</td>\n",
       "      <td>2.48</td>\n",
       "    </tr>\n",
       "    <tr>\n",
       "      <th>2</th>\n",
       "      <td>Athens</td>\n",
       "      <td>1684122</td>\n",
       "      <td>82440</td>\n",
       "      <td>86667</td>\n",
       "      <td>90866</td>\n",
       "      <td>92816</td>\n",
       "      <td>93347</td>\n",
       "      <td>90377</td>\n",
       "      <td>94851</td>\n",
       "      <td>126174</td>\n",
       "      <td>...</td>\n",
       "      <td>7.49</td>\n",
       "      <td>8.30</td>\n",
       "      <td>7.82</td>\n",
       "      <td>7.50</td>\n",
       "      <td>6.42</td>\n",
       "      <td>5.93</td>\n",
       "      <td>5.32</td>\n",
       "      <td>4.93</td>\n",
       "      <td>3.40</td>\n",
       "      <td>2.76</td>\n",
       "    </tr>\n",
       "    <tr>\n",
       "      <th>3</th>\n",
       "      <td>Barcelona</td>\n",
       "      <td>2733702</td>\n",
       "      <td>129100</td>\n",
       "      <td>149331</td>\n",
       "      <td>161851</td>\n",
       "      <td>152895</td>\n",
       "      <td>148361</td>\n",
       "      <td>159629</td>\n",
       "      <td>166788</td>\n",
       "      <td>191542</td>\n",
       "      <td>...</td>\n",
       "      <td>7.01</td>\n",
       "      <td>8.70</td>\n",
       "      <td>8.57</td>\n",
       "      <td>7.58</td>\n",
       "      <td>6.57</td>\n",
       "      <td>5.66</td>\n",
       "      <td>4.75</td>\n",
       "      <td>4.37</td>\n",
       "      <td>3.32</td>\n",
       "      <td>2.18</td>\n",
       "    </tr>\n",
       "    <tr>\n",
       "      <th>4</th>\n",
       "      <td>Berlin</td>\n",
       "      <td>2630277</td>\n",
       "      <td>137868</td>\n",
       "      <td>128891</td>\n",
       "      <td>119628</td>\n",
       "      <td>113841</td>\n",
       "      <td>133628</td>\n",
       "      <td>170863</td>\n",
       "      <td>220717</td>\n",
       "      <td>205427</td>\n",
       "      <td>...</td>\n",
       "      <td>7.81</td>\n",
       "      <td>6.66</td>\n",
       "      <td>6.30</td>\n",
       "      <td>7.77</td>\n",
       "      <td>8.04</td>\n",
       "      <td>6.29</td>\n",
       "      <td>5.29</td>\n",
       "      <td>3.69</td>\n",
       "      <td>4.35</td>\n",
       "      <td>3.09</td>\n",
       "    </tr>\n",
       "  </tbody>\n",
       "</table>\n",
       "<p>5 rows × 38 columns</p>\n",
       "</div>"
      ],
      "text/plain": [
       "        City  total male population      -5     5-9   10-14   15-19   20-24  \\\n",
       "0  Amsterdam                1634946   87688   89850   92526   98251   99997   \n",
       "1    Antwerp                 525908   31387   33000   31555   29395   31381   \n",
       "2     Athens                1684122   82440   86667   90866   92816   93347   \n",
       "3  Barcelona                2733702  129100  149331  161851  152895  148361   \n",
       "4     Berlin                2630277  137868  128891  119628  113841  133628   \n",
       "\n",
       "    25-29   30-34   35-39  ...  (%)35-39  (%)40-44  (%)45-49  (%)50-54  \\\n",
       "0  119024  118823  108427  ...      6.63      6.21      6.96      7.38   \n",
       "1   36231   36137   35938  ...      6.83      6.43      6.47      6.75   \n",
       "2   90377   94851  126174  ...      7.49      8.30      7.82      7.50   \n",
       "3  159629  166788  191542  ...      7.01      8.70      8.57      7.58   \n",
       "4  170863  220717  205427  ...      7.81      6.66      6.30      7.77   \n",
       "\n",
       "   (%)55-59  (%)60-64  (%)65-69  (%)70-74  (%)75-79  (%)80-84  \n",
       "0      7.14      6.07      5.24      4.84      3.07      1.92  \n",
       "1      6.83      6.06      5.06      4.32      3.08      2.48  \n",
       "2      6.42      5.93      5.32      4.93      3.40      2.76  \n",
       "3      6.57      5.66      4.75      4.37      3.32      2.18  \n",
       "4      8.04      6.29      5.29      3.69      4.35      3.09  \n",
       "\n",
       "[5 rows x 38 columns]"
      ]
     },
     "execution_count": 119,
     "metadata": {},
     "output_type": "execute_result"
    }
   ],
   "source": [
    "male_pop.head()"
   ]
  },
  {
   "cell_type": "code",
   "execution_count": 120,
   "metadata": {},
   "outputs": [
    {
     "data": {
      "text/html": [
       "<div>\n",
       "<style scoped>\n",
       "    .dataframe tbody tr th:only-of-type {\n",
       "        vertical-align: middle;\n",
       "    }\n",
       "\n",
       "    .dataframe tbody tr th {\n",
       "        vertical-align: top;\n",
       "    }\n",
       "\n",
       "    .dataframe thead th {\n",
       "        text-align: right;\n",
       "    }\n",
       "</style>\n",
       "<table border=\"1\" class=\"dataframe\">\n",
       "  <thead>\n",
       "    <tr style=\"text-align: right;\">\n",
       "      <th></th>\n",
       "      <th>City</th>\n",
       "      <th>f:m_-5</th>\n",
       "      <th>f:m_5-9</th>\n",
       "      <th>f:m_10-14</th>\n",
       "      <th>f:m_15-19</th>\n",
       "      <th>f:m_20-24</th>\n",
       "      <th>f:m_25-29</th>\n",
       "      <th>f:m_30-34</th>\n",
       "      <th>f:m_35-39</th>\n",
       "      <th>f:m_40-44</th>\n",
       "      <th>...</th>\n",
       "      <th>f:m_80-84</th>\n",
       "      <th>f:m_85-89</th>\n",
       "      <th>f:m_90</th>\n",
       "      <th>f:m20-29</th>\n",
       "      <th>f:m_30-39</th>\n",
       "      <th>f:m_40-49</th>\n",
       "      <th>f:m_50-59</th>\n",
       "      <th>f:m_60-69</th>\n",
       "      <th>f:m_70-79</th>\n",
       "      <th>f:m_80-89</th>\n",
       "    </tr>\n",
       "  </thead>\n",
       "  <tbody>\n",
       "    <tr>\n",
       "      <th>0</th>\n",
       "      <td>Amsterdam</td>\n",
       "      <td>94.70</td>\n",
       "      <td>95.42</td>\n",
       "      <td>95.43</td>\n",
       "      <td>95.77</td>\n",
       "      <td>101.09</td>\n",
       "      <td>101.66</td>\n",
       "      <td>100.33</td>\n",
       "      <td>100.12</td>\n",
       "      <td>102.19</td>\n",
       "      <td>...</td>\n",
       "      <td>128.84</td>\n",
       "      <td>166.14</td>\n",
       "      <td>245.45</td>\n",
       "      <td>101.40</td>\n",
       "      <td>100.23</td>\n",
       "      <td>101.78</td>\n",
       "      <td>98.91</td>\n",
       "      <td>102.22</td>\n",
       "      <td>109.45</td>\n",
       "      <td>141.31</td>\n",
       "    </tr>\n",
       "    <tr>\n",
       "      <th>1</th>\n",
       "      <td>Antwerp</td>\n",
       "      <td>95.62</td>\n",
       "      <td>95.60</td>\n",
       "      <td>96.15</td>\n",
       "      <td>93.70</td>\n",
       "      <td>95.54</td>\n",
       "      <td>99.96</td>\n",
       "      <td>100.09</td>\n",
       "      <td>97.58</td>\n",
       "      <td>96.40</td>\n",
       "      <td>...</td>\n",
       "      <td>133.30</td>\n",
       "      <td>164.91</td>\n",
       "      <td>227.96</td>\n",
       "      <td>97.90</td>\n",
       "      <td>98.84</td>\n",
       "      <td>96.20</td>\n",
       "      <td>96.62</td>\n",
       "      <td>102.69</td>\n",
       "      <td>115.13</td>\n",
       "      <td>145.15</td>\n",
       "    </tr>\n",
       "    <tr>\n",
       "      <th>2</th>\n",
       "      <td>Athens</td>\n",
       "      <td>95.55</td>\n",
       "      <td>95.56</td>\n",
       "      <td>93.69</td>\n",
       "      <td>88.02</td>\n",
       "      <td>91.28</td>\n",
       "      <td>102.80</td>\n",
       "      <td>108.50</td>\n",
       "      <td>102.28</td>\n",
       "      <td>104.41</td>\n",
       "      <td>...</td>\n",
       "      <td>153.88</td>\n",
       "      <td>169.27</td>\n",
       "      <td>157.35</td>\n",
       "      <td>96.95</td>\n",
       "      <td>104.95</td>\n",
       "      <td>107.80</td>\n",
       "      <td>119.33</td>\n",
       "      <td>124.72</td>\n",
       "      <td>129.31</td>\n",
       "      <td>159.54</td>\n",
       "    </tr>\n",
       "    <tr>\n",
       "      <th>3</th>\n",
       "      <td>Barcelona</td>\n",
       "      <td>94.60</td>\n",
       "      <td>93.67</td>\n",
       "      <td>92.92</td>\n",
       "      <td>92.52</td>\n",
       "      <td>94.03</td>\n",
       "      <td>99.92</td>\n",
       "      <td>102.93</td>\n",
       "      <td>105.12</td>\n",
       "      <td>101.00</td>\n",
       "      <td>...</td>\n",
       "      <td>148.43</td>\n",
       "      <td>181.18</td>\n",
       "      <td>262.41</td>\n",
       "      <td>97.08</td>\n",
       "      <td>104.10</td>\n",
       "      <td>100.25</td>\n",
       "      <td>103.90</td>\n",
       "      <td>114.04</td>\n",
       "      <td>124.79</td>\n",
       "      <td>161.89</td>\n",
       "    </tr>\n",
       "    <tr>\n",
       "      <th>4</th>\n",
       "      <td>Berlin</td>\n",
       "      <td>94.69</td>\n",
       "      <td>94.88</td>\n",
       "      <td>94.27</td>\n",
       "      <td>93.96</td>\n",
       "      <td>96.72</td>\n",
       "      <td>99.75</td>\n",
       "      <td>98.18</td>\n",
       "      <td>96.57</td>\n",
       "      <td>96.22</td>\n",
       "      <td>...</td>\n",
       "      <td>143.85</td>\n",
       "      <td>172.45</td>\n",
       "      <td>275.81</td>\n",
       "      <td>98.42</td>\n",
       "      <td>97.40</td>\n",
       "      <td>96.37</td>\n",
       "      <td>98.01</td>\n",
       "      <td>106.84</td>\n",
       "      <td>121.28</td>\n",
       "      <td>152.08</td>\n",
       "    </tr>\n",
       "  </tbody>\n",
       "</table>\n",
       "<p>5 rows × 27 columns</p>\n",
       "</div>"
      ],
      "text/plain": [
       "        City  f:m_-5  f:m_5-9  f:m_10-14  f:m_15-19  f:m_20-24  f:m_25-29  \\\n",
       "0  Amsterdam   94.70    95.42      95.43      95.77     101.09     101.66   \n",
       "1    Antwerp   95.62    95.60      96.15      93.70      95.54      99.96   \n",
       "2     Athens   95.55    95.56      93.69      88.02      91.28     102.80   \n",
       "3  Barcelona   94.60    93.67      92.92      92.52      94.03      99.92   \n",
       "4     Berlin   94.69    94.88      94.27      93.96      96.72      99.75   \n",
       "\n",
       "   f:m_30-34  f:m_35-39  f:m_40-44  ...  f:m_80-84  f:m_85-89  f:m_90  \\\n",
       "0     100.33     100.12     102.19  ...     128.84     166.14  245.45   \n",
       "1     100.09      97.58      96.40  ...     133.30     164.91  227.96   \n",
       "2     108.50     102.28     104.41  ...     153.88     169.27  157.35   \n",
       "3     102.93     105.12     101.00  ...     148.43     181.18  262.41   \n",
       "4      98.18      96.57      96.22  ...     143.85     172.45  275.81   \n",
       "\n",
       "   f:m20-29  f:m_30-39  f:m_40-49  f:m_50-59  f:m_60-69  f:m_70-79  f:m_80-89  \n",
       "0    101.40     100.23     101.78      98.91     102.22     109.45     141.31  \n",
       "1     97.90      98.84      96.20      96.62     102.69     115.13     145.15  \n",
       "2     96.95     104.95     107.80     119.33     124.72     129.31     159.54  \n",
       "3     97.08     104.10     100.25     103.90     114.04     124.79     161.89  \n",
       "4     98.42      97.40      96.37      98.01     106.84     121.28     152.08  \n",
       "\n",
       "[5 rows x 27 columns]"
      ]
     },
     "execution_count": 120,
     "metadata": {},
     "output_type": "execute_result"
    }
   ],
   "source": [
    "female_rate.head()"
   ]
  },
  {
   "cell_type": "code",
   "execution_count": 121,
   "metadata": {
    "scrolled": true
   },
   "outputs": [
    {
     "data": {
      "text/html": [
       "<div>\n",
       "<style scoped>\n",
       "    .dataframe tbody tr th:only-of-type {\n",
       "        vertical-align: middle;\n",
       "    }\n",
       "\n",
       "    .dataframe tbody tr th {\n",
       "        vertical-align: top;\n",
       "    }\n",
       "\n",
       "    .dataframe thead th {\n",
       "        text-align: right;\n",
       "    }\n",
       "</style>\n",
       "<table border=\"1\" class=\"dataframe\">\n",
       "  <thead>\n",
       "    <tr style=\"text-align: right;\">\n",
       "      <th></th>\n",
       "      <th>City</th>\n",
       "      <th>m:f_-5</th>\n",
       "      <th>m:f_5-9</th>\n",
       "      <th>m:f_10-14</th>\n",
       "      <th>m:f_15-19</th>\n",
       "      <th>m:f_20-24</th>\n",
       "      <th>m:f_25-29</th>\n",
       "      <th>m:f_30-34</th>\n",
       "      <th>m:f_35-39</th>\n",
       "      <th>m:f_40-44</th>\n",
       "      <th>...</th>\n",
       "      <th>m:f_80-84</th>\n",
       "      <th>m:f_85-89</th>\n",
       "      <th>m:f_90</th>\n",
       "      <th>f:m20-29</th>\n",
       "      <th>f:m_30-39</th>\n",
       "      <th>f:m_40-49</th>\n",
       "      <th>f:m_50-59</th>\n",
       "      <th>f:m_60-69</th>\n",
       "      <th>f:m_70-79</th>\n",
       "      <th>f:m_80-89</th>\n",
       "    </tr>\n",
       "  </thead>\n",
       "  <tbody>\n",
       "    <tr>\n",
       "      <th>0</th>\n",
       "      <td>Amsterdam</td>\n",
       "      <td>105.60</td>\n",
       "      <td>104.80</td>\n",
       "      <td>104.79</td>\n",
       "      <td>104.42</td>\n",
       "      <td>98.92</td>\n",
       "      <td>98.37</td>\n",
       "      <td>99.67</td>\n",
       "      <td>99.88</td>\n",
       "      <td>97.86</td>\n",
       "      <td>...</td>\n",
       "      <td>77.62</td>\n",
       "      <td>60.19</td>\n",
       "      <td>40.74</td>\n",
       "      <td>98.62</td>\n",
       "      <td>99.77</td>\n",
       "      <td>98.25</td>\n",
       "      <td>101.10</td>\n",
       "      <td>97.83</td>\n",
       "      <td>91.37</td>\n",
       "      <td>70.77</td>\n",
       "    </tr>\n",
       "    <tr>\n",
       "      <th>1</th>\n",
       "      <td>Antwerp</td>\n",
       "      <td>104.58</td>\n",
       "      <td>104.60</td>\n",
       "      <td>104.00</td>\n",
       "      <td>106.72</td>\n",
       "      <td>104.67</td>\n",
       "      <td>100.04</td>\n",
       "      <td>99.91</td>\n",
       "      <td>102.48</td>\n",
       "      <td>103.73</td>\n",
       "      <td>...</td>\n",
       "      <td>75.02</td>\n",
       "      <td>60.64</td>\n",
       "      <td>43.87</td>\n",
       "      <td>102.15</td>\n",
       "      <td>101.17</td>\n",
       "      <td>103.95</td>\n",
       "      <td>103.50</td>\n",
       "      <td>97.38</td>\n",
       "      <td>86.86</td>\n",
       "      <td>68.89</td>\n",
       "    </tr>\n",
       "    <tr>\n",
       "      <th>2</th>\n",
       "      <td>Athens</td>\n",
       "      <td>104.66</td>\n",
       "      <td>104.65</td>\n",
       "      <td>106.73</td>\n",
       "      <td>113.61</td>\n",
       "      <td>109.55</td>\n",
       "      <td>97.28</td>\n",
       "      <td>92.17</td>\n",
       "      <td>97.77</td>\n",
       "      <td>95.78</td>\n",
       "      <td>...</td>\n",
       "      <td>64.99</td>\n",
       "      <td>59.08</td>\n",
       "      <td>63.55</td>\n",
       "      <td>103.15</td>\n",
       "      <td>95.28</td>\n",
       "      <td>92.76</td>\n",
       "      <td>83.80</td>\n",
       "      <td>80.18</td>\n",
       "      <td>77.33</td>\n",
       "      <td>62.68</td>\n",
       "    </tr>\n",
       "    <tr>\n",
       "      <th>3</th>\n",
       "      <td>Barcelona</td>\n",
       "      <td>105.71</td>\n",
       "      <td>106.76</td>\n",
       "      <td>107.62</td>\n",
       "      <td>108.08</td>\n",
       "      <td>106.35</td>\n",
       "      <td>100.08</td>\n",
       "      <td>97.15</td>\n",
       "      <td>95.13</td>\n",
       "      <td>99.01</td>\n",
       "      <td>...</td>\n",
       "      <td>67.37</td>\n",
       "      <td>55.19</td>\n",
       "      <td>38.11</td>\n",
       "      <td>103.01</td>\n",
       "      <td>96.06</td>\n",
       "      <td>99.75</td>\n",
       "      <td>96.25</td>\n",
       "      <td>87.69</td>\n",
       "      <td>80.13</td>\n",
       "      <td>61.77</td>\n",
       "    </tr>\n",
       "    <tr>\n",
       "      <th>4</th>\n",
       "      <td>Berlin</td>\n",
       "      <td>105.61</td>\n",
       "      <td>105.40</td>\n",
       "      <td>106.08</td>\n",
       "      <td>106.43</td>\n",
       "      <td>103.39</td>\n",
       "      <td>100.25</td>\n",
       "      <td>101.85</td>\n",
       "      <td>103.55</td>\n",
       "      <td>103.93</td>\n",
       "      <td>...</td>\n",
       "      <td>69.52</td>\n",
       "      <td>57.99</td>\n",
       "      <td>36.26</td>\n",
       "      <td>101.61</td>\n",
       "      <td>102.67</td>\n",
       "      <td>103.77</td>\n",
       "      <td>102.03</td>\n",
       "      <td>93.60</td>\n",
       "      <td>82.45</td>\n",
       "      <td>65.75</td>\n",
       "    </tr>\n",
       "  </tbody>\n",
       "</table>\n",
       "<p>5 rows × 27 columns</p>\n",
       "</div>"
      ],
      "text/plain": [
       "        City  m:f_-5  m:f_5-9  m:f_10-14  m:f_15-19  m:f_20-24  m:f_25-29  \\\n",
       "0  Amsterdam  105.60   104.80     104.79     104.42      98.92      98.37   \n",
       "1    Antwerp  104.58   104.60     104.00     106.72     104.67     100.04   \n",
       "2     Athens  104.66   104.65     106.73     113.61     109.55      97.28   \n",
       "3  Barcelona  105.71   106.76     107.62     108.08     106.35     100.08   \n",
       "4     Berlin  105.61   105.40     106.08     106.43     103.39     100.25   \n",
       "\n",
       "   m:f_30-34  m:f_35-39  m:f_40-44  ...  m:f_80-84  m:f_85-89  m:f_90  \\\n",
       "0      99.67      99.88      97.86  ...      77.62      60.19   40.74   \n",
       "1      99.91     102.48     103.73  ...      75.02      60.64   43.87   \n",
       "2      92.17      97.77      95.78  ...      64.99      59.08   63.55   \n",
       "3      97.15      95.13      99.01  ...      67.37      55.19   38.11   \n",
       "4     101.85     103.55     103.93  ...      69.52      57.99   36.26   \n",
       "\n",
       "   f:m20-29  f:m_30-39  f:m_40-49  f:m_50-59  f:m_60-69  f:m_70-79  f:m_80-89  \n",
       "0     98.62      99.77      98.25     101.10      97.83      91.37      70.77  \n",
       "1    102.15     101.17     103.95     103.50      97.38      86.86      68.89  \n",
       "2    103.15      95.28      92.76      83.80      80.18      77.33      62.68  \n",
       "3    103.01      96.06      99.75      96.25      87.69      80.13      61.77  \n",
       "4    101.61     102.67     103.77     102.03      93.60      82.45      65.75  \n",
       "\n",
       "[5 rows x 27 columns]"
      ]
     },
     "execution_count": 121,
     "metadata": {},
     "output_type": "execute_result"
    }
   ],
   "source": [
    "male_rate.head()"
   ]
  },
  {
   "cell_type": "markdown",
   "metadata": {},
   "source": [
    "## Further reduction of the dataset\n",
    "\n",
    "Having researched extensively to obtain the metrics above, we could only gather complete data for 15 of the 50 cities in the dataset. There were many cities with only partial data, and others completely missing all the features data for cities.\n",
    "\n",
    "In order to develop a consistent prototype, we will focus on the 15 cities for which we have all the features. In future developments, we will increase the number of cities included in the dataset."
   ]
  },
  {
   "cell_type": "code",
   "execution_count": 122,
   "metadata": {},
   "outputs": [],
   "source": [
    "final_city_list = ['Paris','London','Rome','Berlin','Barcelona',\n",
    "                   'Copenhagen','Amsterdam','Madrid','Vienna','Brussels',\n",
    "                   'Dublin','Athens','Geneva','Antwerp','Manchester']"
   ]
  },
  {
   "cell_type": "code",
   "execution_count": 123,
   "metadata": {},
   "outputs": [],
   "source": [
    "dataset_final = dataset[dataset['City'].isin(final_city_list)]"
   ]
  },
  {
   "cell_type": "code",
   "execution_count": 124,
   "metadata": {
    "scrolled": true
   },
   "outputs": [
    {
     "data": {
      "text/plain": [
       "Country         City      \n",
       "France          Paris         54924\n",
       "United Kingdom  London        48752\n",
       "Italy           Rome          24416\n",
       "Germany         Berlin        20114\n",
       "Spain           Barcelona     17154\n",
       "Denmark         Copenhagen    16024\n",
       "Netherlands     Amsterdam     14969\n",
       "Spain           Madrid        13031\n",
       "Austria         Vienna         7738\n",
       "Belgium         Brussels       5591\n",
       "Ireland         Dublin         5199\n",
       "Greece          Athens         4952\n",
       "Switzerland     Geneva         2198\n",
       "Belgium         Antwerp        1200\n",
       "United Kingdom  Manchester      797\n",
       "dtype: int64"
      ]
     },
     "execution_count": 124,
     "metadata": {},
     "output_type": "execute_result"
    }
   ],
   "source": [
    "dataset_final[['Country','City']].value_counts()"
   ]
  },
  {
   "cell_type": "code",
   "execution_count": 125,
   "metadata": {},
   "outputs": [
    {
     "data": {
      "text/plain": [
       "(237059, 41)"
      ]
     },
     "execution_count": 125,
     "metadata": {},
     "output_type": "execute_result"
    }
   ],
   "source": [
    "dataset_final.shape"
   ]
  },
  {
   "cell_type": "code",
   "execution_count": 126,
   "metadata": {
    "scrolled": true
   },
   "outputs": [
    {
     "name": "stdout",
     "output_type": "stream",
     "text": [
      "Before city name convergence, the first 50 cities included 91.0 % of the listings in the dataset\n",
      "The top 50 cities after convergence included 95.0 % of the residences in the Europe region.\n",
      "After cleaning the dataset, the top 50 cities include 92.0 % of the residences in the Europe region.\n",
      "After selecting the final 15 cities in the dataset, the dataset includes 84.0 % of the residences in the Europe region.\n"
     ]
    }
   ],
   "source": [
    "print('Before city name convergence, the first 50 cities included',np.round((first_50.sum()/282444),2)*100,'% of the listings in the dataset')\n",
    "print('The top 50 cities after convergence included',np.round(first_50_bis.sum()/282444,2)*100,'% of the residences in the Europe region.')\n",
    "print('After cleaning the dataset, the top 50 cities include',np.round(259415/282444,2)*100,'% of the residences in the Europe region.')\n",
    "print('After selecting the final 15 cities in the dataset, the dataset includes',np.round(237059/282444,2)*100,'% of the residences in the Europe region.')"
   ]
  },
  {
   "cell_type": "code",
   "execution_count": 127,
   "metadata": {},
   "outputs": [],
   "source": [
    "# save the files into csv for EDA\n",
    "dataset_final.to_csv(r'C:\\Users\\34658\\SPRINGBOARD\\Airbnb Recommender System - Capstone Project\\Notebooks\\Data\\residences\\dataset_final.csv')"
   ]
  },
  {
   "cell_type": "code",
   "execution_count": 128,
   "metadata": {},
   "outputs": [],
   "source": [
    "#save of the cities features\n",
    "economic.to_csv(r'C:\\Users\\34658\\SPRINGBOARD\\Airbnb Recommender System - Capstone Project\\Notebooks\\Data\\residences\\economic.csv')\n",
    "crime.to_csv(r'C:\\Users\\34658\\SPRINGBOARD\\Airbnb Recommender System - Capstone Project\\Notebooks\\Data\\residences\\crime.csv')\n",
    "pollution.to_csv(r'C:\\Users\\34658\\SPRINGBOARD\\Airbnb Recommender System - Capstone Project\\Notebooks\\Data\\residences\\pollution.csv')\n",
    "amenities.to_csv(r'C:\\Users\\34658\\SPRINGBOARD\\Airbnb Recommender System - Capstone Project\\Notebooks\\Data\\residences\\amenities.csv')\n",
    "hostility.to_csv(r'C:\\Users\\34658\\SPRINGBOARD\\Airbnb Recommender System - Capstone Project\\Notebooks\\Data\\residences\\hostility.csv')\n",
    "tot_pop.to_csv(r'C:\\Users\\34658\\SPRINGBOARD\\Airbnb Recommender System - Capstone Project\\Notebooks\\Data\\residences\\population.csv')\n",
    "female_pop.to_csv(r'C:\\Users\\34658\\SPRINGBOARD\\Airbnb Recommender System - Capstone Project\\Notebooks\\Data\\residences\\population female.csv')\n",
    "male_pop.to_csv(r'C:\\Users\\34658\\SPRINGBOARD\\Airbnb Recommender System - Capstone Project\\Notebooks\\Data\\residences\\population male.csv')\n",
    "female_rate.to_csv(r'C:\\Users\\34658\\SPRINGBOARD\\Airbnb Recommender System - Capstone Project\\Notebooks\\Data\\residences\\ratio female.csv')\n",
    "male_rate.to_csv(r'C:\\Users\\34658\\SPRINGBOARD\\Airbnb Recommender System - Capstone Project\\Notebooks\\Data\\residences\\ratio male.csv')\n"
   ]
  },
  {
   "cell_type": "markdown",
   "metadata": {},
   "source": [
    "## Summary of the work performed\n",
    "\n",
    "In the Data Wrangling work performed we started with a world dataset with numerous Airbnb residences and features per residence. In particular around 500k residences.\n",
    "\n",
    "Firstly, we filtered the dataset to include only information regarding cities in Europe region, but it was not clean as there were many cities with names written in different ways or in other languages, as well as buroughs within those cities named as separate cities. The size of the data was 91% of the original.\n",
    "\n",
    "To solve this issue, we indiviually filtered country by country the top 15-40 cities (depending on how many residences appeared in the search) and merged the city names and buroughs to their cities, making a convergence. After this work, we subset in a different dataframe the top 50 cities and their residences by number count. The size of the data was 95% of the original.\n",
    "\n",
    "After doing this, we split the dataset into different datasets, each with different groups of features, for example, features about the host, features about the residence or features about the price. We cleaned separately each file, imputing missing values following different criterias.\n",
    "\n",
    "At last, we merged the different datasets into a single dataframe to have all the information regarding residences and hosts together and saved it. The size of the data was 92% of the original.\n",
    "\n",
    "Besides this work, we added external information about the cities through different websites, the features included information about the cities characteristics from different perspectives, such as their pollution, crime rates, social culture, population or amenities.\n",
    "\n",
    "Acknowledging that the cleaned dataset of residences had 50 cities, but we had only information about 15 cities in terms of city features, we further subset the residences dataset to include only cities for which we had features. The size of the dataset was 84% of the original.\n",
    "\n",
    "As a result, we saved the final dataset as \"dataset_final\" and the city features datasets according to their content."
   ]
  }
 ],
 "metadata": {
  "kernelspec": {
   "display_name": "Python 3",
   "language": "python",
   "name": "python3"
  },
  "language_info": {
   "codemirror_mode": {
    "name": "ipython",
    "version": 3
   },
   "file_extension": ".py",
   "mimetype": "text/x-python",
   "name": "python",
   "nbconvert_exporter": "python",
   "pygments_lexer": "ipython3",
   "version": "3.7.6"
  }
 },
 "nbformat": 4,
 "nbformat_minor": 4
}
